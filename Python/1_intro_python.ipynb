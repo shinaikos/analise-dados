{
  "nbformat": 4,
  "nbformat_minor": 0,
  "metadata": {
    "kernelspec": {
      "display_name": "Python 3",
      "language": "python",
      "name": "python3"
    },
    "language_info": {
      "codemirror_mode": {
        "name": "ipython",
        "version": 3
      },
      "file_extension": ".py",
      "mimetype": "text/x-python",
      "name": "python",
      "nbconvert_exporter": "python",
      "pygments_lexer": "ipython3",
      "version": "3.7.4"
    },
    "colab": {
      "name": "Copy of 1_intro_python.ipynb",
      "provenance": [],
      "collapsed_sections": []
    }
  },
  "cells": [
    {
      "cell_type": "markdown",
      "metadata": {
        "id": "rffl7oCSmBBs",
        "colab_type": "text"
      },
      "source": [
        "# Bem-Vindo ao Mundo Python!"
      ]
    },
    {
      "cell_type": "markdown",
      "metadata": {
        "id": "gWaTb9u4mBB7",
        "colab_type": "text"
      },
      "source": [
        "## Variáveis e Tipos\n",
        "* Variáveis são **Locais de Memória**;\n",
        "* Os nomes de variáveis devem ser **mnemônicos**, ou seja, de **fácil memorização**;\n",
        "* Variáveis em Python são **\"Case-sensitive\"** e devem escritas com letras minúsculas, sem qualquer tipo de acentuação gráfica;\n",
        "* Nomes compostos de variáveis devem ser separados por subtraço, por exemplo: nome_variavel_composta;\n",
        "* Python é uma linguagem *dinamicamente tipada*, logo, não informamos o tipo de dados durante a declaração de cada variável;\n",
        "\n",
        "### Tipos de Dados Padrão\n",
        "Os tipos de dados primitivos do Python podem ser classificados como: numéricos, sequências, conjuntos e mapeamentos.\n",
        "\n",
        "*Tipos Numéricos*\n",
        "\n",
        "| Nome    | Descrição                    |  Versão               |\n",
        "|:--------|:-----------------------------|:----------------------|\n",
        "| int     | Números Inteiros             | Todas                 |\n",
        "| long    | Números inteiros Longos      | Python 2.x (Somente)  |\n",
        "| float   | Números de Ponto Flutuante   | Todas                 |\n",
        "| complex | Números Complexos            | Todas                 |\n",
        "\n",
        "*Sequências*\n",
        "\n",
        "| Nome         | Descrição                                                  |  Versão               |\n",
        "|:-------------|:-----------------------------------------------------------|:----------------------|\n",
        "| str          | Cadeia de Caracteres (String)                              | Todas                 |\n",
        "| bytes        | Sequência de números inteiros no intervalo de 0 a 255      | Python 3.x (Somente)  |\n",
        "| byte array   | Semelhante ao tipo bytes, porém, mutáveis                  | Python 3.x (Somente)  |\n",
        "| list         | Lista de itens geralmente homogêneos e mutáveis            | Todas                 |\n",
        "| tuple        | Sequência de itens heterogêneos e imutáveis                | Todas                 |\n",
        "\n",
        "*Conjuntos*\n",
        "\n",
        "| Nome       | Descrição                               |  Versão                |\n",
        "|:-----------|:----------------------------------------|:-----------------------|\n",
        "| set        | coleção não ordenada de objetos únicos  | Python 2.6 ou Superior |\n",
        "| frozen set | Semelhante ao tipo set, porém, imutável | Python 2.6 ou Superior |\n",
        "\n",
        "*Mapeamentos*\n",
        "\n",
        "| Nome       | Descrição                               |  Versão                |\n",
        "|:-----------|:----------------------------------------|:-----------------------|\n",
        "| dict       | Dicionários ou Array Associativos       | Todas                  |\n",
        "\n",
        "\n",
        "#### Objetos Mutáveis X Objetos Imutáveis\n",
        "De modo geral, os tipos de dados em Python podem ser diferenciados como mutáveis e imutáveis.\n",
        "\n",
        "- **Objetos Mutáveis:** o conteúdo pode ser alterado após sua criação;\n",
        "- **Objetos Imutáveis:** o conteúdo **não pode ser alterado** após sua criação;\n",
        "\n",
        "| Tipos Mutáveis       | Tipos Imutáveis                         |\n",
        "|:---------------------|:----------------------------------------|\n",
        "| array                | int, float, complex                     |\n",
        "| bytearray            | str                                     |\n",
        "| list                 | bytes                                   |\n",
        "| set                  | tuple                                   |\n",
        "| dict                 | frozenset                               |\n",
        "| -                    | bool                                    |"
      ]
    },
    {
      "cell_type": "code",
      "metadata": {
        "id": "5s80MQqimBCG",
        "colab_type": "code",
        "colab": {}
      },
      "source": [
        "# CONVERSÃO DE TIPO\n",
        "# Aprendendo Conversão de Tipo Com Exemplos\n",
        "\n",
        "# Números Inteiros\n",
        "valor_int_1 = int(2.7) \n",
        "print(valor_int_1) # Saída: 2   \n",
        "\n",
        "valor_int_2 = int(-3.9)\n",
        "print(valor_int_2) # Saída: -3   \n",
        "\n",
        "valor_int_3 = int(\"2\")\n",
        "print(valor_int_3) # Saída: 2  \n",
        "\n",
        "\n",
        "# Números de Ponto Flutuante\n",
        "valor_float_1 = float(7)\n",
        "print(valor_float_1) # Saída: 7.0\n",
        "\n",
        "valor_float_2 = float(\"4.5\")\n",
        "print(valor_float_2) # Saída: 4.5\n",
        "\n",
        "valor_float_4 = float(\"2.7E-2\")\n",
        "print(valor_float_4) # Saída: 0.027\n",
        "\n",
        "valor_float_5 = float(False)\n",
        "print(valor_float_5) # Saída: 0.0\n",
        "\n",
        "valor_float_6 = float(True)\n",
        "print(valor_float_6) # Saída: 1.0\n",
        "\n",
        "\n",
        "# Cadeia de Caracteres\n",
        "valor_string_1 = str(4.5)\n",
        "print(valor_string_1) # Saída: 4.5\n",
        "\n",
        "valor_string_2 = str([1, 2, 3, 4, 5])\n",
        "print(valor_string_2) # Saída: \"[1, 2, 3, 4, 5]\"\n",
        "\n",
        "\n",
        "# Tipos Lógicos (Booleanos)\n",
        "valor_bool_1 = bool(0)\n",
        "print(valor_bool_1) # Saída: False\n",
        "\n",
        "valor_bool_2 = bool(1)\n",
        "print(valor_bool_2) # Saída: True\n",
        "\n",
        "valor_bool_3 = bool([])\n",
        "print(valor_bool_3) # Saída: False - Lista Vazia\n",
        "\n",
        "valor_bool_4 = bool([False])\n",
        "print(valor_bool_4) # Saída: True - Lista Não Vazia\n",
        "\n",
        "valor_bool_5 = bool({})\n",
        "print(valor_bool_5) # Saída: False - Dicionário Vazio, o mesmo para Tupla\n",
        "\n",
        "valor_bool_6 = bool(\"\")\n",
        "print(valor_bool_6) # Saída: False - String Vazia\n",
        "\n",
        "valor_bool_7 = bool(\" \")\n",
        "print(valor_bool_7) # Saída: True - String Não Vazia\n",
        "\n",
        "valor_bool_8 = bool(None)\n",
        "print(valor_bool_8) # Saída: False\n",
        "\n",
        "valor_bool_9 = bool(len)\n",
        "print(valor_bool_9) # Saída: True\n",
        "\n",
        "# Listas e Conjuntos\n",
        "conjunto = set([1, 2])\n",
        "lista = list(conjunto)\n",
        "print(conjunto) # Saída: {1, 2}\n",
        "print(lista)    # Saída: [1, 2]\n",
        "\n",
        "valor_lista_1 = list({0: \"Python\", 1: \"R\"}) # dict: Lista de chaves\n",
        "print(valor_lista_1) # Saída: [0, 1]\n",
        "\n",
        "tupla = tuple(lista)\n",
        "print(tupla) # Saída: (1, 2)\n",
        "\n",
        "valor_lista_2 = list(\"ABC\")\n",
        "print(valor_lista_2) # Saída: ['A', 'B', 'C']"
      ],
      "execution_count": 0,
      "outputs": []
    },
    {
      "cell_type": "markdown",
      "metadata": {
        "id": "IMhnJdqAmBCn",
        "colab_type": "text"
      },
      "source": [
        "## Exercício 1\n",
        "*Calculando o IMC*\n",
        "\n",
        "O Índice de Massa Corporal (IMC) é uma medida internacional usada para calcular se uma pessoa está em seu peso ideal.\n",
        "O cálculo do IMC é determinado pela divisão da massa do indivíduo em quilogramas pelo quadrado de sua altura em metros.\n",
        "\n",
        "\n",
        "\n",
        "$$IMC=\\frac{massa}{(altura * altura)}$$\n",
        "\n",
        "\n",
        "\n",
        "Escreva um programa que leia do usuário sua altura e peso e calcule o seu IMC.\n"
      ]
    },
    {
      "cell_type": "code",
      "metadata": {
        "id": "R6FBqRKvmBCt",
        "colab_type": "code",
        "colab": {}
      },
      "source": [
        "# TODO: Complete o Código Abaixo\n",
        "altura = input('Altura: ')\n",
        "peso = input('  Peso: ')\n",
        "\n",
        "\n",
        "print(\"   IMC: \")"
      ],
      "execution_count": 0,
      "outputs": []
    },
    {
      "cell_type": "markdown",
      "metadata": {
        "id": "AGpelWYVmBDE",
        "colab_type": "text"
      },
      "source": [
        "## Operadores\n",
        "\n",
        "*Operadores Numéricos*\n",
        "\n",
        "| Operador | Descrição       |\n",
        "|:---------|:----------------|\n",
        "| +        | Adição          |\n",
        "| -        | Subtração       |\n",
        "| *        | Multiplicação   |\n",
        "| /        | Divisão         |\n",
        "| **       | Expoente        |\n",
        "| %        | Módulo          |\n",
        "| //       | Divisão de Piso |\n",
        "\n",
        "\n",
        "*Operadores de Comparação*\n",
        "\n",
        "| Operador | Descrição       |\n",
        "|:---------|:----------------|\n",
        "| ==       | Igual           |\n",
        "| !=       | Diferente       |\n",
        "| >        | Maior           |\n",
        "| <        | Menor           |\n",
        "| >=       | Maior Igual     |\n",
        "| <=       | Menor Igual     |\n",
        "\n",
        "\n",
        "*Operadores Lógicos*\n",
        "\n",
        "| Operador | Descrição       |\n",
        "|:---------|:----------------|\n",
        "| and      | AND lógico      |\n",
        "| or       | OR lógico       |\n",
        "| not      | NOT lógico      |\n",
        "\n",
        "*Caracteres Especiais*\n",
        "\n",
        "| Operador | Descrição       |\n",
        "|:---------|:----------------|\n",
        "| #        | Comentário      |\n",
        "| \\n       | Nova Linha      |\n"
      ]
    },
    {
      "cell_type": "markdown",
      "metadata": {
        "id": "leMhvDsUmBDJ",
        "colab_type": "text"
      },
      "source": [
        "## Exercícios"
      ]
    },
    {
      "cell_type": "markdown",
      "metadata": {
        "id": "hPm_pRzcmBDO",
        "colab_type": "text"
      },
      "source": [
        "1. Escreva um algoritmo que imprima na tela: Olá Mundo!"
      ]
    },
    {
      "cell_type": "code",
      "metadata": {
        "id": "pBeZOO1cmBDW",
        "colab_type": "code",
        "outputId": "dc4a2a8c-3b82-4d15-ee00-32d241503f96",
        "colab": {
          "base_uri": "https://localhost:8080/",
          "height": 34
        }
      },
      "source": [
        "print(\"Olá Mundo!\");\n"
      ],
      "execution_count": 0,
      "outputs": [
        {
          "output_type": "stream",
          "text": [
            "Olá Mundo!\n"
          ],
          "name": "stdout"
        }
      ]
    },
    {
      "cell_type": "markdown",
      "metadata": {
        "id": "d_7ndCR4mBDr",
        "colab_type": "text"
      },
      "source": [
        "2. Escreva um programa que imprima seu nome na tela."
      ]
    },
    {
      "cell_type": "code",
      "metadata": {
        "id": "iENVsOy9mBDz",
        "colab_type": "code",
        "outputId": "c83fcc95-b63b-49e8-e8a9-f445cce6ca21",
        "colab": {
          "base_uri": "https://localhost:8080/",
          "height": 34
        }
      },
      "source": [
        "print(\"Rodrigo Assis Pires\");"
      ],
      "execution_count": 0,
      "outputs": [
        {
          "output_type": "stream",
          "text": [
            "Rodrigo Assis Pires\n"
          ],
          "name": "stdout"
        }
      ]
    },
    {
      "cell_type": "markdown",
      "metadata": {
        "id": "DNtQURK9mBED",
        "colab_type": "text"
      },
      "source": [
        "3. O que o código a seguir imprime?\n",
        "\n",
        "```python\n",
        "print(\"*\\n**\\n***\\n****\\n*****\")\n",
        "```"
      ]
    },
    {
      "cell_type": "code",
      "metadata": {
        "id": "KxOSgzFGmBEK",
        "colab_type": "code",
        "outputId": "d0f09279-9bbb-4a04-c9fe-c15d3ea7d3e4",
        "colab": {
          "base_uri": "https://localhost:8080/",
          "height": 104
        }
      },
      "source": [
        "print(\"*\\n**\\n***\\n****\\n*****\")"
      ],
      "execution_count": 0,
      "outputs": [
        {
          "output_type": "stream",
          "text": [
            "*\n",
            "**\n",
            "***\n",
            "****\n",
            "*****\n"
          ],
          "name": "stdout"
        }
      ]
    },
    {
      "cell_type": "markdown",
      "metadata": {
        "id": "6LJ14ZcFmBEY",
        "colab_type": "text"
      },
      "source": [
        "4. O que aparece na janela do console, quando cada uma das instruções abaixo são executadas, para: x = 2 e y = 3? Execute cada uma das linhas abaixos e, se necessário, faça os devidos ajustes no código.\n",
        "    1. *print(“x = ” + x);*\n",
        "    2. *print(“O valor de x + x é ” + (x + x));*\n",
        "    3. *print(“x = ”);*\n",
        "    4. *print((x + y) + “ = “ + (y + x));*\n"
      ]
    },
    {
      "cell_type": "code",
      "metadata": {
        "id": "_0Y_zshrmBEl",
        "colab_type": "code",
        "outputId": "6293534f-5150-47e0-8ff7-6da5d4c1cad3",
        "colab": {
          "base_uri": "https://localhost:8080/",
          "height": 86
        }
      },
      "source": [
        "x = 2;\n",
        "y = 3;\n",
        "print(\"x = \" + str(x));\n",
        "print(\"O valor de x + x é \" + str(x + x));\n",
        "print(\"x = \");\n",
        "print(str(x + y) + \" = \" + str(y + x));\n"
      ],
      "execution_count": 0,
      "outputs": [
        {
          "output_type": "stream",
          "text": [
            "x = 2\n",
            "O valor de x + x é 4\n",
            "x = \n",
            "5 = 5\n"
          ],
          "name": "stdout"
        }
      ]
    },
    {
      "cell_type": "markdown",
      "metadata": {
        "id": "Gxu-k51AmBEy",
        "colab_type": "text"
      },
      "source": [
        "5. Escreva um algoritmo que imprima na tela a seguinte mensagem:\n",
        "\n",
        "> A programação é aprendida escrevendo programas - \n",
        "> Brian Kernighan\n"
      ]
    },
    {
      "cell_type": "code",
      "metadata": {
        "id": "CnXKH7_4mBE4",
        "colab_type": "code",
        "outputId": "98af4d16-4d31-452a-992d-3a7105cf72ab",
        "colab": {
          "base_uri": "https://localhost:8080/",
          "height": 34
        }
      },
      "source": [
        "print(\"A programação é aprendida escrevendo programas - Brian Kernighan\")"
      ],
      "execution_count": 0,
      "outputs": [
        {
          "output_type": "stream",
          "text": [
            "A programação é aprendida escrevendo programas - Brian Kernighan\n"
          ],
          "name": "stdout"
        }
      ]
    },
    {
      "cell_type": "markdown",
      "metadata": {
        "id": "chg_4mCBmBFE",
        "colab_type": "text"
      },
      "source": [
        "6. Crie um algoritmo que imprima o produto entre os números 25 e 27"
      ]
    },
    {
      "cell_type": "code",
      "metadata": {
        "id": "9NjyedKPmBFI",
        "colab_type": "code",
        "colab": {
          "base_uri": "https://localhost:8080/",
          "height": 34
        },
        "outputId": "9a237196-4b49-4a75-db4f-e6773c0fcfd6"
      },
      "source": [
        "print(\"o produto entre 25 e 27 :\", 25*27);"
      ],
      "execution_count": 2,
      "outputs": [
        {
          "output_type": "stream",
          "text": [
            "o produto entre 25 e 27 : 675\n"
          ],
          "name": "stdout"
        }
      ]
    },
    {
      "cell_type": "markdown",
      "metadata": {
        "id": "J7n9HCCwmBFV",
        "colab_type": "text"
      },
      "source": [
        "7. Crie um algoritmo que imprima a média aritmética entre os números 4, 12, 15."
      ]
    },
    {
      "cell_type": "code",
      "metadata": {
        "id": "8wsODoycmBFZ",
        "colab_type": "code",
        "outputId": "e9871634-4d04-4c90-ce9d-8aa429169d39",
        "colab": {
          "base_uri": "https://localhost:8080/",
          "height": 34
        }
      },
      "source": [
        "numero_1 = 4;\n",
        "numero_2 = 12;\n",
        "numero_3 = 15;\n",
        "media = (numero_1 + numero_2 + numero_3)/3;\n",
        "print(\"a media dos numeros e: \" + str(media));"
      ],
      "execution_count": 0,
      "outputs": [
        {
          "output_type": "stream",
          "text": [
            "a media dos numeros e: 10.333333333333334\n"
          ],
          "name": "stdout"
        }
      ]
    },
    {
      "cell_type": "markdown",
      "metadata": {
        "id": "cT8E5SJomBFn",
        "colab_type": "text"
      },
      "source": [
        "8. Faça um programa que leia um número inteiro e mostre-o na tela da seguinte forma: \n",
        "\n",
        "> O número inteiro digitado foi 4."
      ]
    },
    {
      "cell_type": "code",
      "metadata": {
        "id": "H87QXM8NmBFs",
        "colab_type": "code",
        "outputId": "b77891d2-c2ba-4fd1-d0f0-c8b1a7883d2e",
        "colab": {
          "base_uri": "https://localhost:8080/",
          "height": 52
        }
      },
      "source": [
        "num_inteiro = int(input(\"digite um numero inteiro: \"));\n",
        "print(\"o numero inteiro digitado foi: \" + str(num_inteiro));"
      ],
      "execution_count": 0,
      "outputs": [
        {
          "output_type": "stream",
          "text": [
            "digite um numero inteiro: 3\n",
            "o numero inteiro digitado foi: 3\n"
          ],
          "name": "stdout"
        }
      ]
    },
    {
      "cell_type": "markdown",
      "metadata": {
        "id": "yPvCrZrjmBF3",
        "colab_type": "text"
      },
      "source": [
        "9. Faça um programa que leia e imprima dois números inteiros na tela."
      ]
    },
    {
      "cell_type": "code",
      "metadata": {
        "id": "pWbtswSomBF8",
        "colab_type": "code",
        "outputId": "10c18233-5fba-4cec-d20b-759d03fbb64d",
        "colab": {
          "base_uri": "https://localhost:8080/",
          "height": 86
        }
      },
      "source": [
        "num_inteiro_1 = int(input(\"digite um numero inteiro: \"));\n",
        "num_inteiro_2 = int(input(\"digite outro numero inteiro: \"));\n",
        "print(\"o primeiro numero inteiro digitado foi: \" + str(num_inteiro_1));\n",
        "print(\"o segundo numero inteiro digitado foi: \" + str(num_inteiro_2));"
      ],
      "execution_count": 0,
      "outputs": [
        {
          "output_type": "stream",
          "text": [
            "digite um numero inteiro: 2\n",
            "digite outro numero inteiro: 3\n",
            "o primeiro numero inteiro digitado foi: 2\n",
            "o primeiro numero inteiro digitado foi: 3\n"
          ],
          "name": "stdout"
        }
      ]
    },
    {
      "cell_type": "markdown",
      "metadata": {
        "id": "25AsGYF3mBGI",
        "colab_type": "text"
      },
      "source": [
        "10. Faça um programa que leia um número inteiro e imprima seu número sucessor e antecessor."
      ]
    },
    {
      "cell_type": "code",
      "metadata": {
        "id": "FPLKUFXjmBGN",
        "colab_type": "code",
        "outputId": "50c22e7c-3127-46fb-a57a-04538f96a375",
        "colab": {
          "base_uri": "https://localhost:8080/",
          "height": 52
        }
      },
      "source": [
        "num_inteiro = int(input(\"digite um numero inteiro: \"));\n",
        "sucessor = num_inteiro + 1;\n",
        "antecessor = num_inteiro - 1;\n",
        "print(\"o antecessor de \" + str(num_inteiro) +\" : \" + str(antecessor) + \" e o sucessor: \" + str(sucessor));"
      ],
      "execution_count": 0,
      "outputs": [
        {
          "output_type": "stream",
          "text": [
            "digite um numero inteiro: 9\n",
            "o antecessor de 9 :8 e o sucessor: 10\n"
          ],
          "name": "stdout"
        }
      ]
    },
    {
      "cell_type": "markdown",
      "metadata": {
        "id": "WztmcVAsmBGU",
        "colab_type": "text"
      },
      "source": [
        "11. Faça um programa que leia o nome, endereço e telefone de um usuário e imprima na tela."
      ]
    },
    {
      "cell_type": "code",
      "metadata": {
        "id": "9OqsQmH_mBGa",
        "colab_type": "code",
        "outputId": "a1570319-378d-430e-9e22-fd09f164447c",
        "colab": {
          "base_uri": "https://localhost:8080/",
          "height": 121
        }
      },
      "source": [
        "nome = input(\"digite seu nome : \");\n",
        "endereco = input(\"digite seu endereco : \");\n",
        "telefone = input(\"digite seu telefone : \");\n",
        "print(\"nome: \" + nome);\n",
        "print(\"endereco: \" + endereco);\n",
        "print(\"telefone: \" + telefone);"
      ],
      "execution_count": 0,
      "outputs": [
        {
          "output_type": "stream",
          "text": [
            "digite seu endereco : rodrigo\n",
            "digite seu endereco : itabirito\n",
            "digite seu endereco : 31 988463809\n",
            "nome: rodrigo\n",
            "endereco: itabirito\n",
            "telefone: 31 988463809\n"
          ],
          "name": "stdout"
        }
      ]
    },
    {
      "cell_type": "markdown",
      "metadata": {
        "id": "EawPQstCmBGm",
        "colab_type": "text"
      },
      "source": [
        "12. Faça um programa que leia e multiplique dois números inteiros."
      ]
    },
    {
      "cell_type": "code",
      "metadata": {
        "id": "1zHLGIWHmBGq",
        "colab_type": "code",
        "outputId": "da9cf8b7-7aab-4f0f-ad0b-03b73249e807",
        "colab": {
          "base_uri": "https://localhost:8080/",
          "height": 69
        }
      },
      "source": [
        "numero_1 = int(input(\"digite um numero inteiro: \"));\n",
        "numero_2 = int(input(\"digite outro numero inteiro: \"));\n",
        "multiplicacao = numero_1 * numero_2;\n",
        "print(\"a multiplicacao de \" + str(numero_1) + \" por \" + str(numero_2) + \" : \" + str(multiplicacao));"
      ],
      "execution_count": 0,
      "outputs": [
        {
          "output_type": "stream",
          "text": [
            "digite um numero inteiro: 2\n",
            "digite outro numero inteiro: 4\n",
            "a multiplicacao de 2 por 4 : 8\n"
          ],
          "name": "stdout"
        }
      ]
    },
    {
      "cell_type": "markdown",
      "metadata": {
        "id": "cJ5S3B1ImBG1",
        "colab_type": "text"
      },
      "source": [
        "13. Faça um programa que leia um número real e imprima a terça parte deste \n",
        "número."
      ]
    },
    {
      "cell_type": "code",
      "metadata": {
        "id": "P236LIj5mBG4",
        "colab_type": "code",
        "outputId": "7c222576-5062-4f92-9176-6fe4c636a99a",
        "colab": {
          "base_uri": "https://localhost:8080/",
          "height": 52
        }
      },
      "source": [
        "num_real = float(input(\"digite um numero real: \"));\n",
        "tercaParte = num_real /3;\n",
        "print(\"a terca parte de \" + str(num_real) + \": \" + str(tercaParte));"
      ],
      "execution_count": 0,
      "outputs": [
        {
          "output_type": "stream",
          "text": [
            "digite um numero real: 9\n",
            "a terca parte de 9.0: 3.0\n"
          ],
          "name": "stdout"
        }
      ]
    },
    {
      "cell_type": "markdown",
      "metadata": {
        "id": "pcAbb0f7mBHA",
        "colab_type": "text"
      },
      "source": [
        "14. Faça um programa que leia dois números inteiros e imprima o dividendo, divisor, quociente e resto da divisão"
      ]
    },
    {
      "cell_type": "code",
      "metadata": {
        "id": "kIy4umlImBHD",
        "colab_type": "code",
        "outputId": "f409de6f-1af8-413e-ec4e-c1ae6b9647cb",
        "colab": {
          "base_uri": "https://localhost:8080/",
          "height": 121
        }
      },
      "source": [
        "\n",
        "numero_1 = int(input(\"Digite o primeiro numero: \"));\n",
        "numero_2 = int(input(\"Digite o segundo numero: \"));\n",
        "\n",
        "dividendo = numero_1;\n",
        "divisor = numero_2;\n",
        "quociente = dividendo / divisor;\n",
        "resto = dividendo % divisor;\n",
        "\n",
        "print(\"O dividendo é: \", dividendo)\n",
        "print(\"O divisor é: \", divisor)\n",
        "print(\"O quociente é: \", quociente)\n",
        "print(\"E o resto é: \", resto)"
      ],
      "execution_count": 0,
      "outputs": [
        {
          "output_type": "stream",
          "text": [
            "Digite o primeiro numero: 10\n",
            "Digite o segundo numero: 2\n",
            "O dividendo é:  10\n",
            "O divisor é:  2\n",
            "O quociente é:  5.0\n",
            "E o resto é:  0\n"
          ],
          "name": "stdout"
        }
      ]
    },
    {
      "cell_type": "markdown",
      "metadata": {
        "id": "7lM829rlmBHN",
        "colab_type": "text"
      },
      "source": [
        "15. Escreva um programa que solicite do usuário dois números, e imprima o resultado da soma, subtração, multiplicação e divisão."
      ]
    },
    {
      "cell_type": "code",
      "metadata": {
        "id": "l60_ymLGmBHQ",
        "colab_type": "code",
        "outputId": "8bd014ea-4583-4642-f866-eae94893d1d0",
        "colab": {
          "base_uri": "https://localhost:8080/",
          "height": 121
        }
      },
      "source": [
        "numero_1 = int(input(\"Digite o primeiro numero: \"));\n",
        "numero_2 = int(input(\"Digite o segundo numero: \"));\n",
        "\n",
        "soma = numero_1 + numero_2;\n",
        "subtracao = numero_1 - numero_2;\n",
        "multiplicacao = numero_1 * numero_2;\n",
        "divisao = numero_1 / numero_2;\n",
        "\n",
        "print(\"a soma é: \", soma);\n",
        "print(\"a subtracao é: \", subtracao);\n",
        "print(\"a multiplicacao é: \", multiplicacao);\n",
        "print(\"a divisao é: \", divisao);"
      ],
      "execution_count": 0,
      "outputs": [
        {
          "output_type": "stream",
          "text": [
            "Digite o primeiro numero: 5\n",
            "Digite o segundo numero: 5\n",
            "a soma é:  10\n",
            "a subtracao é:  0\n",
            "a multiplicacao é:  25\n",
            "a divisao é:  1.0\n"
          ],
          "name": "stdout"
        }
      ]
    },
    {
      "cell_type": "markdown",
      "metadata": {
        "id": "EvUBVnhsmBHX",
        "colab_type": "text"
      },
      "source": [
        "16. Faça um programa que leia quatro números inteiros, calcule e mostre a soma desses números."
      ]
    },
    {
      "cell_type": "code",
      "metadata": {
        "id": "YIvZ5rFumBHd",
        "colab_type": "code",
        "outputId": "4167a280-c9a3-4f03-b02b-c8627aa30dae",
        "colab": {
          "base_uri": "https://localhost:8080/",
          "height": 104
        }
      },
      "source": [
        "numero_1 = int(input(\"Digite o primeiro numero: \"));\n",
        "numero_2 = int(input(\"Digite o segundo numero: \"));\n",
        "numero_3 = int(input(\"Digite o terceiro numero: \"));\n",
        "numero_4 = int(input(\"Digite o quarto numero: \"));\n",
        "soma = numero_1 + numero_2 + numero_3 + numero_4;\n",
        "\n",
        "print(\"a soma dos quatro numeros é: \", soma)"
      ],
      "execution_count": 0,
      "outputs": [
        {
          "output_type": "stream",
          "text": [
            "Digite o primeiro numero: 5\n",
            "Digite o segundo numero: 5\n",
            "Digite o terceiro numero: 5\n",
            "Digite o quarto numero: 5\n",
            "a soma dos quatro numeros é:  20\n"
          ],
          "name": "stdout"
        }
      ]
    },
    {
      "cell_type": "markdown",
      "metadata": {
        "id": "GIZZlbpfmBHm",
        "colab_type": "text"
      },
      "source": [
        "17. Faça um programa que receba três notas, calcule e mostre a média aritmética."
      ]
    },
    {
      "cell_type": "code",
      "metadata": {
        "id": "P_V7yzQWmBHn",
        "colab_type": "code",
        "outputId": "a7263475-2827-4e86-8220-b496405d4ff5",
        "colab": {
          "base_uri": "https://localhost:8080/",
          "height": 86
        }
      },
      "source": [
        "nota_1 = float(input(\"Digite a primeira nota: \"));\n",
        "nota_2 = float(input(\"Digite a segunda nota: \"));\n",
        "nota_3 = float(input(\"Digite a terceira nota: \"));\n",
        "media = (nota_1 + nota_2 + nota_3) /3;\n",
        "print(\" amedia das notas é: \", media)"
      ],
      "execution_count": 0,
      "outputs": [
        {
          "output_type": "stream",
          "text": [
            "Digite a primeira nota: 9\n",
            "Digite a segunda nota: 9\n",
            "Digite a terceira nota: 9\n",
            " amedia das notas é:  9.0\n"
          ],
          "name": "stdout"
        }
      ]
    },
    {
      "cell_type": "markdown",
      "metadata": {
        "id": "ZAV4obY4mBHt",
        "colab_type": "text"
      },
      "source": [
        "18. Faça um programa que receba três notas e seus respectivos pesos, calcule e mostre a média ponderada."
      ]
    },
    {
      "cell_type": "code",
      "metadata": {
        "id": "-kBLZgzomBHw",
        "colab_type": "code",
        "outputId": "5f05ba8c-019a-4ae2-c28f-26dbd77a99f7",
        "colab": {
          "base_uri": "https://localhost:8080/",
          "height": 139
        }
      },
      "source": [
        "nota_1 = float(input(\"Digite a primeira nota: \"));\n",
        "peso_1 = int(input(\"Digite o peso da primeira nota: \"));\n",
        "nota_2 = float(input(\"Digite a segunda nota: \"));\n",
        "peso_2 = int(input(\"Digite o peso da segunda nota: \"));\n",
        "nota_3 = float(input(\"Digite a terceira nota: \"));\n",
        "peso_3 = int(input(\"Digite o peso da terceira nota: \"));\n",
        "peso = peso_1 + peso_2 + peso_3;\n",
        "media = ((nota_1 * peso_1) + (nota_2 * peso_2) + (nota_3 * peso_3)) /peso;\n",
        "print(\"a media das notas é: \", media);"
      ],
      "execution_count": 0,
      "outputs": [
        {
          "output_type": "stream",
          "text": [
            "Digite a primeira nota: 10\n",
            "Digite o peso da primeira nota: 2\n",
            "Digite a segunda nota: 10\n",
            "Digite o peso da segunda nota: 2\n",
            "Digite a terceira nota: 10\n",
            "Digite o peso da terceira nota: 2\n",
            " amedia das notas é:  10.0\n"
          ],
          "name": "stdout"
        }
      ]
    },
    {
      "cell_type": "markdown",
      "metadata": {
        "id": "YEeoOLhVmBH3",
        "colab_type": "text"
      },
      "source": [
        "19. Faça um programa que receba o salário de um funcionário, calcule e mostre o novo salário, sabendo-se que este sofreu um aumento de 25%."
      ]
    },
    {
      "cell_type": "code",
      "metadata": {
        "id": "6rlLxsYMmBH6",
        "colab_type": "code",
        "outputId": "9d3a6ab6-ef6f-4fcb-ac7e-550b311d3ce6",
        "colab": {
          "base_uri": "https://localhost:8080/",
          "height": 52
        }
      },
      "source": [
        "salario = float(input(\"digite o salario: \"));\n",
        "novoSalario = salario * 1.25;\n",
        "print(\"o novo salario: \", novoSalario);"
      ],
      "execution_count": 0,
      "outputs": [
        {
          "output_type": "stream",
          "text": [
            "digite o salario: 1000\n",
            "o novo salario:  1250.0\n"
          ],
          "name": "stdout"
        }
      ]
    },
    {
      "cell_type": "markdown",
      "metadata": {
        "id": "ra3qP5DLmBIG",
        "colab_type": "text"
      },
      "source": [
        "20. Faça um programa que receba o salário de um funcionário e o percentual de aumento, calcule e mostre o valor do aumento e o novo salário. "
      ]
    },
    {
      "cell_type": "code",
      "metadata": {
        "id": "x-L5YnaomBIL",
        "colab_type": "code",
        "outputId": "955f7a02-ff5f-4773-b7f4-adfd7f362ae4",
        "colab": {
          "base_uri": "https://localhost:8080/",
          "height": 69
        }
      },
      "source": [
        "salario = float(input(\"digite o salario: \"));\n",
        "aumento = float(input(\"digite o percentual de aumento: \"));\n",
        "novoSalario = salario * (1 + (aumento / 100));\n",
        "print(\"o novo salario: \", novoSalario);"
      ],
      "execution_count": 0,
      "outputs": [
        {
          "output_type": "stream",
          "text": [
            "digite o salario: 1000\n",
            "digite o percentual de aumento: 25\n",
            "o novo salario:  1250.0\n"
          ],
          "name": "stdout"
        }
      ]
    },
    {
      "cell_type": "markdown",
      "metadata": {
        "id": "won6ALtpmBIS",
        "colab_type": "text"
      },
      "source": [
        "21. Faça um programa que receba o salário base de um funcionário, calcule e mostre o salário a receber, sabendo-se que o funcionário tem gratificação de 5% sobre o salário base e paga imposto de 7% também sobre o salário base."
      ]
    },
    {
      "cell_type": "code",
      "metadata": {
        "id": "IBOa2O5kmBIW",
        "colab_type": "code",
        "outputId": "8d75c341-a255-4ddf-a683-7c1ddfeb3a2d",
        "colab": {
          "base_uri": "https://localhost:8080/",
          "height": 52
        }
      },
      "source": [
        "salario = float(input(\"digite o salario: \"));\n",
        "gratificacao = salario * 0.05;\n",
        "imposto = salario * 0.07;\n",
        "novoSalario = salario + gratificacao - imposto;\n",
        "print(\"o novo salario: \", novoSalario);"
      ],
      "execution_count": 0,
      "outputs": [
        {
          "output_type": "stream",
          "text": [
            "digite o salario: 1000\n",
            "o novo salario:  980.0\n"
          ],
          "name": "stdout"
        }
      ]
    },
    {
      "cell_type": "markdown",
      "metadata": {
        "id": "7V95yAAemBIg",
        "colab_type": "text"
      },
      "source": [
        "22. Faça um programa que receba o salário base de um funcionário, calcule e mostre seu salário a receber, sabendo-se que o funcionário tem gratificação de R$ 50,00 e paga imposto de 10% sobre o salário base."
      ]
    },
    {
      "cell_type": "code",
      "metadata": {
        "id": "KRGIJ2dXmBIi",
        "colab_type": "code",
        "outputId": "48afe15e-4558-4534-8356-35bc45372198",
        "colab": {
          "base_uri": "https://localhost:8080/",
          "height": 52
        }
      },
      "source": [
        "salario = float(input(\"digite o salario: \"));\n",
        "gratificacao = 50;\n",
        "imposto = salario * 0.1;\n",
        "novoSalario = salario + gratificacao - imposto;\n",
        "print(\"o novo salario: \", novoSalario);"
      ],
      "execution_count": 0,
      "outputs": [
        {
          "output_type": "stream",
          "text": [
            "digite o salario: 1000\n",
            "o novo salario:  950.0\n"
          ],
          "name": "stdout"
        }
      ]
    },
    {
      "cell_type": "markdown",
      "metadata": {
        "id": "81gwQHhDmBIn",
        "colab_type": "text"
      },
      "source": [
        "23. Faça um programa que receba o valor de um depósito e o valor da taxa de juros, calcule e mostre o valor do rendimento e o valor total depois do rendimento."
      ]
    },
    {
      "cell_type": "code",
      "metadata": {
        "id": "fLQKjW8KmBIq",
        "colab_type": "code",
        "outputId": "a7eadb5a-f17b-476d-e606-2bfa568d2e87",
        "colab": {
          "base_uri": "https://localhost:8080/",
          "height": 86
        }
      },
      "source": [
        "deposito = float(input(\"digite o valor do deposito: \"));\n",
        "taxaJuros = float(input(\"digite a taxa de juros\"));\n",
        "valorRendimento = deposito * (taxaJuros /100);\n",
        "valorTotal = deposito + valorRendimento;\n",
        "print(\"o valor do rendimento: \", valorRendimento);\n",
        "print(\"o valor total: \", valorTotal);"
      ],
      "execution_count": 0,
      "outputs": [
        {
          "output_type": "stream",
          "text": [
            "digite o valor do deposito: 100\n",
            "digite a taxa de juros1.2\n",
            "o valor do rendimento:  1.2\n",
            "o valor total:  101.2\n"
          ],
          "name": "stdout"
        }
      ]
    },
    {
      "cell_type": "markdown",
      "metadata": {
        "id": "yLCX1b8ymBIv",
        "colab_type": "text"
      },
      "source": [
        "24. Faça um programa que calcule e mostre a área de um triângulo. Sabe-se que: \n",
        "> Área = (base * altura) / 2."
      ]
    },
    {
      "cell_type": "code",
      "metadata": {
        "id": "3hTKVvsNmBIy",
        "colab_type": "code",
        "outputId": "aa70331d-e538-461c-915c-355745ee2257",
        "colab": {
          "base_uri": "https://localhost:8080/",
          "height": 69
        }
      },
      "source": [
        "base = float(input(\"digite o valor da base do triangulo: \"));\n",
        "altura = float(input(\"digite o valor da altura do triangulo: \"));\n",
        "area = (base * altura) / 2;\n",
        "print(\" a area do triangulo: \", area);"
      ],
      "execution_count": 0,
      "outputs": [
        {
          "output_type": "stream",
          "text": [
            "digite o valor da base do triangulo: 4\n",
            "digite o valor da altura do triangulo: 5\n",
            " a area do triangulo:  10.0\n"
          ],
          "name": "stdout"
        }
      ]
    },
    {
      "cell_type": "markdown",
      "metadata": {
        "id": "2PcUFluvmBI4",
        "colab_type": "text"
      },
      "source": [
        "25. Escreva um programa que receba como entrada o raio de um círculo e imprima o diâmetro, a circunferência e a área. Para isso, utilize as fórmulas: diâmetro = 2r; circunferência = 2πr, área = πr²."
      ]
    },
    {
      "cell_type": "code",
      "metadata": {
        "id": "E9ChNEZ4mBI6",
        "colab_type": "code",
        "outputId": "29bbb8a7-d2e6-4eb0-8ff8-4cdbe6c9a1ba",
        "colab": {
          "base_uri": "https://localhost:8080/",
          "height": 86
        }
      },
      "source": [
        "import math;\n",
        "raio = float(input(\"digite o valor do raio:\"));\n",
        "diametro = 2 * raio;\n",
        "circunferencia = 2 * math.pi * raio;\n",
        "area = math.pi * (raio ** 2);\n",
        "\n",
        "print(\"o diametro do circulo: \", diametro);\n",
        "print(\"a circunferencia do circulo: \", circunferencia);\n",
        "print(\"a area do circulo: \", area);"
      ],
      "execution_count": 0,
      "outputs": [
        {
          "output_type": "stream",
          "text": [
            "digite o valor do raio:5\n",
            "o diametro do circulo:  10.0\n",
            "a circunferencia do circulo:  31.41592653589793\n",
            "a area do circulo:  78.53981633974483\n"
          ],
          "name": "stdout"
        }
      ]
    },
    {
      "cell_type": "markdown",
      "metadata": {
        "id": "Oh3CWdE8mBJB",
        "colab_type": "text"
      },
      "source": [
        "26. Faça um programa que receba um número positivo e maior que zero, calcule e mostre:\n",
        "    1. o número digitado ao quadrado;\n",
        "    2. o número digitado ao cubo;\n",
        "    3. a raiz quadrada do número digitado.\n"
      ]
    },
    {
      "cell_type": "code",
      "metadata": {
        "id": "OyyLTvrqmBJE",
        "colab_type": "code",
        "outputId": "8c3b8ba9-891c-4014-dcf5-3900d974e1e1",
        "colab": {
          "base_uri": "https://localhost:8080/",
          "height": 86
        }
      },
      "source": [
        "numero = float(input(\"digite um numero positivo e maior que zero: \"));\n",
        "quadrado = numero ** 2;\n",
        "cubo = numero ** 3;\n",
        "raizQuadrada = numero ** 0.5;\n",
        "print(numero,\" ao quadrado: \", quadrado);\n",
        "print(numero, \"ao cubo: \", cubo);\n",
        "print(\"raiz quadrada de \", numero, \":\", raizQuadrada);"
      ],
      "execution_count": 0,
      "outputs": [
        {
          "output_type": "stream",
          "text": [
            "digite um numero positivo e maior que zero: 9\n",
            "9.0  ao quadrado:  81.0\n",
            "9.0 ao cubo:  729.0\n",
            "raiz quadrada de  9.0 : 3.0\n"
          ],
          "name": "stdout"
        }
      ]
    },
    {
      "cell_type": "markdown",
      "metadata": {
        "id": "TnEEmYmKmBJL",
        "colab_type": "text"
      },
      "source": [
        "27. Faça um programa que receba dois números maiores que zero, calcule e mostre um elevado ao outro."
      ]
    },
    {
      "cell_type": "code",
      "metadata": {
        "id": "weqqzUo5mBJM",
        "colab_type": "code",
        "outputId": "8cfee78f-d008-4177-8863-37fefc759daa",
        "colab": {
          "base_uri": "https://localhost:8080/",
          "height": 69
        }
      },
      "source": [
        "numero_1 = float(input(\"digite um numero maior que zero: \"));\n",
        "numero_2 = float(input(\"digite outro numero maior que zero: \"));\n",
        "elevado = numero_1 ** numero_2;\n",
        "print(numero_1, \" elevado a\", numero_2, \":\", elevado);"
      ],
      "execution_count": 0,
      "outputs": [
        {
          "output_type": "stream",
          "text": [
            "digite um numero maior que zero: 9\n",
            "digite outro numero maior que zero: 3\n",
            "9.0  elevado a 3.0 : 729.0\n"
          ],
          "name": "stdout"
        }
      ]
    },
    {
      "cell_type": "markdown",
      "metadata": {
        "id": "6CAgNHLBmBJS",
        "colab_type": "text"
      },
      "source": [
        "28. Sabe-se que: pé = 12 polegadas; 1 jarda = 3 pés e 1 milha = 1,760 jarda. Faça um programa que receba uma medida em pés, faça as conversões a seguir e mostre os resultados.\n",
        "    1. polegadas;\n",
        "    2. jardas;\n",
        "    3. milhas.\n"
      ]
    },
    {
      "cell_type": "code",
      "metadata": {
        "id": "lnt4Qak3mBJV",
        "colab_type": "code",
        "outputId": "1d63bff1-8efe-4486-d8cb-90910db93175",
        "colab": {
          "base_uri": "https://localhost:8080/",
          "height": 86
        }
      },
      "source": [
        "pes = float(input(\"digite a medida em pes: \"));\n",
        "polegadas = pes * 12;\n",
        "jarda = pes / 3;\n",
        "milha = jarda / 1760;\n",
        "\n",
        "print(pes, \"equivale a \", polegadas, \"polegadas\");\n",
        "print(pes, \"equivale a \", jarda,\"jardas\");\n",
        "print(pes, \"equivale a \", milha, \"milhas\")"
      ],
      "execution_count": 0,
      "outputs": [
        {
          "output_type": "stream",
          "text": [
            "digite a medida em pes: 5\n",
            "5.0 equivale a  60.0 polegadas\n",
            "5.0 equivale a  1.6666666666666667 jardas\n",
            "5.0 equivale a  0.000946969696969697 milhas\n"
          ],
          "name": "stdout"
        }
      ]
    },
    {
      "cell_type": "markdown",
      "metadata": {
        "id": "xgmbeWB_mBJa",
        "colab_type": "text"
      },
      "source": [
        "29. Escreva um programa que receba como entrada um número de 5 dígitos, separe o número em dígitos individuais e os imprima separados por 3 espaços cada um. Por exemplo, se o usuário digitar 42339, o programa deverá imprimir: 4    2    3    3.   Dica: utilize as operações de divisão e módulo para extrair cada dígito do número."
      ]
    },
    {
      "cell_type": "code",
      "metadata": {
        "id": "eiCimvHTmBJd",
        "colab_type": "code",
        "colab": {
          "base_uri": "https://localhost:8080/",
          "height": 52
        },
        "outputId": "0d15619f-1f77-4a89-e71e-9df44b648246"
      },
      "source": [
        "numero = int(input(\"digite um numero de 5 digitos: \"));\n",
        "num = str(numero);\n",
        "print(num[0],\"   \",num[1],\"   \",num[2],\"   \",num[3],\"   \",num[4]);"
      ],
      "execution_count": 1,
      "outputs": [
        {
          "output_type": "stream",
          "text": [
            "digite um numero de 5 digitos: 12345\n",
            "1     2     3     4     5\n"
          ],
          "name": "stdout"
        }
      ]
    }
  ]
}