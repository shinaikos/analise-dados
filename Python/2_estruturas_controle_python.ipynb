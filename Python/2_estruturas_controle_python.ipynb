{
<<<<<<< HEAD
  "nbformat": 4,
  "nbformat_minor": 0,
  "metadata": {
    "kernelspec": {
      "display_name": "Python 3",
      "language": "python",
      "name": "python3"
    },
    "language_info": {
      "codemirror_mode": {
        "name": "ipython",
        "version": 3
      },
      "file_extension": ".py",
      "mimetype": "text/x-python",
      "name": "python",
      "nbconvert_exporter": "python",
      "pygments_lexer": "ipython3",
      "version": "3.7.4"
    },
    "colab": {
      "name": "Copy_of_2_estruturas_controle_python.ipynb",
      "provenance": [],
      "collapsed_sections": []
    }
  },
  "cells": [
    {
      "cell_type": "markdown",
      "metadata": {
        "id": "pq2WVSPS0Xso",
        "colab_type": "text"
      },
      "source": [
        "## Estruturas de Controle \n",
        "\n",
        "\n",
        "### Estruturas de Seleção\n",
        "\n",
        "As estruturas de seleção *if* e *if/else* são usadas para controle da execução sequêncial de um programa. \n",
        "Na prática, se uma determinada condição lógica for avaliada como verdadeira, o interpretador Python executa todos os comandos dentro do bloco da estrutura de seleção. \n",
        "Em Python, para a estruturas de seleção única usamos a palavra-chave *if* e para estruturas de seleção múltiplas usamos o nome *elsif*. \n",
        "\n",
        "```python\n",
        " if condicao1:\n",
        "    # Executa quando a condição1 for verdadeira\n",
        " elif condicao2:\n",
        "    # Executa quando a condição2 for verdadeira\n",
        " else:\n",
        "    # Executa quando todas condições não forem satisfeitas\n",
        "```\n",
        "\n",
        "### Estruturas de Repetição\n",
        "\n",
        "O Python possui duas estruturas de repetição, são elas: *for* e *while*. A estrutura de repetição *for*, em sua sintaxe, difere um pouco, por exemplo, das linguagens de programação baseadas em C, onde definimos uma condição de parada (i < n) e um passo de iteração (i++). O comando *for* é usado para percorrer os itens de qualquer sequência (p. ex.: lista, string ou tupla) para que eles apareçam em série ou simplesmente como um laço de repetição (*loop*). "
      ]
    },
    {
      "cell_type": "code",
      "metadata": {
        "id": "HdBXMd7Q0Xsr",
        "colab_type": "code",
        "colab": {}
      },
      "source": [
        "cores  = [\"Vermelho\", \"Laranja\", \"Amarelo\", \"Verde\", \"Azul\", \"Anil\", \"Violeta\"]\n",
        "\n",
        "for cor in cores:\n",
        "    print(\"Eu ♥ \" + cor)"
      ],
      "execution_count": 0,
      "outputs": []
    },
    {
      "cell_type": "markdown",
      "metadata": {
        "id": "0lVjovFK0Xsv",
        "colab_type": "text"
      },
      "source": [
        "Se você possui alguma experiência anterior com programação, deve estar se perguntando neste exato momento, como podemos percorrer os itens de uma sequência usando índices? Para tal, podemos utilizar a função range() em conjunto com a função len(). A função *range(start, stop, step)* do Python, retorna uma sequência de números, começando em 0 (zero) por padrão, e incrementando de um em um, até o fim de um número especificado como parâmetro. A função len(), por sua vez, retorna o número de itens de uma determina sequência. Acompanhe abaixo, alguns exemplos de como essas funções podem ser usadas em conjunto com a instrução *for* para indexar itens de uma lista."
      ]
    },
    {
      "cell_type": "code",
      "metadata": {
        "id": "BxPgzliW0Xsw",
        "colab_type": "code",
        "colab": {}
      },
      "source": [
        "# EXEMPLOS - Função range()\n",
        "lista1 = range(5)\n",
        "lista2 = range(10, 20, 2)\n",
        "lista3 = range(1, 5)\n",
        "lista4 = range(5, -1, -1)\n",
        "\n",
        "print(\"EXEMPLOS: Função range()\\n\")\n",
        "\n",
        "for item in lista1:\n",
        "    print(item) # Para range(5) Saída: [0, 1, 2, 3, 4]\n",
        "\n",
        "print(\"\\n\") \n",
        "    \n",
        "for item in lista2:\n",
        "    print(item) # Para range(10, 20, 2) Saída: [10, 12, 14, 16, 18]\n",
        "\n",
        "print(\"\\n\")     \n",
        "    \n",
        "for item in lista3:\n",
        "    print(item) # Para range(1, 5) Saída: [1, 2, 3, 4]\n",
        "\n",
        "print(\"\\n\")     \n",
        "    \n",
        "for item in lista4:\n",
        "    print(item) # Para range(1, 5) Saída: [1, 2, 3, 4]\n",
        "    \n",
        "    \n",
        "print(\"\\n\")     \n",
        "    \n",
        "    \n",
        "# EXEMPLOS - for, range() e len\n",
        "print(\"EXEMPLOS: for, len() e range()\\n\")\n",
        "\n",
        "\n",
        "# Imprimindo lista de cores\n",
        "cores  = [\"Vermelho\", \"Laranja\", \"Amarelo\", \"Verde\", \"Azul\", \"Anil\", \"Violeta\"]\n",
        "n = len(cores) # a função len() retorna o número de elementos\n",
        "\n",
        "for i in range(n):\n",
        "    print(cores[i])\n",
        "\n",
        "print(\"\\n\")\n",
        "\n",
        "for i in range((n - 1), -1, -1):\n",
        "    print(cores[i])\n",
        "\n",
        "\n",
        "# for aninhado para impressão de um padrão numérico\n",
        "for i in range(10):\n",
        "    for j in range(i):\n",
        "        print(i, end=\" \")    # Imprime o número\n",
        "    print(\"\\n\")              # Adiciona quebra de linha ao final de cada linha"
      ],
      "execution_count": 0,
      "outputs": []
    },
    {
      "cell_type": "markdown",
      "metadata": {
        "id": "x6wLFu0d0Xsz",
        "colab_type": "text"
      },
      "source": [
        "Assim como o for, a estrutura de repetição while é usada para repetir um trecho de código várias vezes, porém, no while a repetição continua enquanto uma condição lógica definida seja verdadeira (True), veja alguns exemplos abaixo: \n",
        "\n",
        "```python\n",
        "while condicao: # enquanto condição for verdadeira\n",
        "    # Executa algum(ns) comando(s)\n",
        "    # Atualiza variável de controle\n",
        "```"
      ]
    },
    {
      "cell_type": "code",
      "metadata": {
        "id": "f7KZzOLs0Xs0",
        "colab_type": "code",
        "colab": {}
      },
      "source": [
        "contador = 0                 # Define uma variável de controle que será avaliada na condição\n",
        "\n",
        "while contador < 10:         # enquanto a condição (contador < 10) for verdadeira\n",
        "    print(contador)          # Executa algum comando: print(contador)\n",
        "    contador = contador + 1  # Atualiza a variável de controle\n",
        "    \n",
        "print(\"\\n\")\n",
        "\n",
        "\n",
        "# EXEMPLO: Algoritmo Fatorial Iterativo\n",
        "n = 3\n",
        "i = 1\n",
        "resultado = 1\n",
        "\n",
        "while i <= n:\n",
        "    resultado = resultado * i\n",
        "    i = i + 1\n",
        "    \n",
        "print(\"Fatorial de %d é %d\" % (n, resultado))\n",
        "    "
      ],
      "execution_count": 0,
      "outputs": []
    },
    {
      "cell_type": "markdown",
      "metadata": {
        "id": "unMB98CC0Xs3",
        "colab_type": "text"
      },
      "source": [
        "### Técnicas de Looping\n",
        "\n",
        "1. Ao percorrer dicionários, a chave e o valor, podem ser recuperados ao mesmo tempo através do método *items()*;\n",
        "\n",
        "```python\n",
        "websites = {'site': \"Python Software Foundation\", 'url': \"https://www.python.org/\"}\n",
        "\n",
        "for key, value in websites.items():\n",
        "    print(key, value)\n",
        "    \n",
        "# Saída\n",
        "# site Python Software Foundation\n",
        "# url https://www.python.org/\n",
        "```\n",
        "\n",
        "2. Ao percorrer sequências, índice e o item, podem ser recuperados ao mesmo tempo através do método *enumerate()*;\n",
        "\n",
        "```python\n",
        "rgb = [\"Red\", \"Green\", \"Blue\"]\n",
        "\n",
        "for i, item in enumerate(rgb):\n",
        "    print(i, item)\n",
        "    \n",
        "# Saída\n",
        "# 0 Red\n",
        "# 1 Green\n",
        "# 2 Blue\n",
        "```\n",
        "\n",
        "3. Para percorrer duas ou mais sequências ao mesmo tempo, as entradas podem ser emparelhadas através da função *zip()*;\n",
        "\n",
        "\n",
        "```python\n",
        "condinomes_android = [\"Petit Four\", \"Eclair\",  \"Honeycomb\", \"Ice Cream Sandwich\", \"Lollipop\", \"Marshmallow\", \"Nougat\", \"Oreo\", \"Pie\"]\n",
        "versoes_android = [\"1.1\", \"2.0 – 2.1\", \"3.0 – 3.2.6\", \"4.0 – 4.0.4\", \"5.0 – 5.1.1\", \"6.0 – 6.0.1\", \"7.0 – 7.1.2\", \"8.0 – 8.1\", \"9.0\"]\n",
        "\n",
        "for codinome, versao in zip(condinomes_android, versoes_android):\n",
        "    print(codinome, versao)\n",
        "    \n",
        "# Saída\n",
        "# Petit Four 1.1\n",
        "# Eclair 2.0 – 2.1\n",
        "# Honeycomb 3.0 – 3.2.6\n",
        "# Ice Cream Sandwich 4.0 – 4.0.4\n",
        "# Lollipop 5.0 – 5.1.1\n",
        "# Marshmallow 6.0 – 6.0.1\n",
        "# Nougat 7.0 – 7.1.2\n",
        "# Oreo 8.0 – 8.1\n",
        "# Pie 9.0\n",
        "```\n",
        "\n",
        "4. Para iterar em uma sequência ordenada sem alterar a ordem dos elementos utilize o metodo *sorted()* que irá retornar uma nova lista ordenada sem alterar a original\n",
        "\n",
        "```python\n",
        "estados_sudeste_brasileiro = [\"São Paulo\", \"Rio de Janeiro\", \"Minas Gerais\", \"Espírito Santo\"]\n",
        "\n",
        "for estado in sorted(set(estados_sudeste_brasileiro)):\n",
        "    print(estado)\n",
        "    \n",
        "# Saída\n",
        "# Espírito Santo\n",
        "# Minas Gerais\n",
        "# Rio de Janeiro\n",
        "# São Paulo    \n",
        "    \n",
        "```"
      ]
    },
    {
      "cell_type": "markdown",
      "metadata": {
        "id": "Vnk4W3BN0Xs4",
        "colab_type": "text"
      },
      "source": [
        "## Exercícios"
      ]
    },
    {
      "cell_type": "markdown",
      "metadata": {
        "id": "OgjF12dU0Xs5",
        "colab_type": "text"
      },
      "source": [
        "1. A nota final de um estudante é calculada a partir de três notas atribuídas, respectivamente, a um trabalho\n",
        "de laboratório, a uma avaliação semestral e a um exame final. A média das três notas mencionadas\n",
        "obedece aos pesos a seguir:\n",
        "\n",
        "| Nota                    | Peso |\n",
        "|-------------------------|------|\n",
        "| Trabalho de Laboratório | 2    |\n",
        "| Avaliação Semestral     | 3    |\n",
        "| Exame Final             | 5    |\n",
        "\n",
        "\n",
        "Faça um programa que receba as três notas, calcule e mostre a média ponderada e o conceito que segue\n",
        "a tabela:\n",
        "\n",
        "| Média Ponderada        | Conceito |\n",
        "|------------------------|----------|\n",
        "| 8,00 <= Média <= 10,00 | A        |\n",
        "| 7,00 <= Média < 8,00   | B        |\n",
        "| 6,00 <= Média < 7,00   | C        |\n",
        "| 5,00 <= Média < 6,00   | D        |\n",
        "| 0,00 <= Média < 5,00   | E        |\n",
        "\n"
      ]
    },
    {
      "cell_type": "code",
      "metadata": {
        "id": "9TpvrX520Xs6",
        "colab_type": "code",
        "outputId": "e4f6fb7b-9a09-433c-e564-6884fbb40edd",
        "colab": {
          "base_uri": "https://localhost:8080/",
          "height": 85
        }
      },
      "source": [
        "nota_1 = float(input(\"digite a nota do trabalho de laboratorio :\"));\n",
        "nota_2 = float(input(\"digite a nota da avaliação semestral: \"));\n",
        "nota_3 = float(input(\"digite a nota do exame final: \"));\n",
        "media = ((nota_1 * 2) + (nota_2 * 3) + (nota_3 * 5)) / 10;\n",
        "conceito = \"\"\n",
        "if media >= 10:\n",
        "  conceito = \"A\"\n",
        "elif media > 8:\n",
        "  conceito = \"B\"\n",
        "elif media > 7:\n",
        "  conceito = \"C\"\n",
        "elif media > 6:\n",
        "  conceito = \"D\"\n",
        "else:\n",
        "  conceito = \"E\"\n",
        "\n",
        "print(\"o conceito recebido: \", conceito);"
      ],
      "execution_count": 0,
      "outputs": [
        {
          "output_type": "stream",
          "text": [
            "digite a nota do trabalho de laboratorio :10\n",
            "digite a nota da avaliação semestral: 10\n",
            "digite a nota do exame final: 10\n",
            "o conceito recebido:  A\n"
          ],
          "name": "stdout"
        }
      ]
    },
    {
      "cell_type": "markdown",
      "metadata": {
        "id": "j6di9Iwf0Xs-",
        "colab_type": "text"
      },
      "source": [
        "2. Faça um programa que receba três notas de um aluno, calcule e mostre a média aritmética e a mensagem constante na tabela a seguir. \n",
        "\n",
        "| Média                  | Situação       |\n",
        "|------------------------|----------------|\n",
        "| 7,00 <= Média <= 10,00 | Aprovado       |\n",
        "| 3,00 <= Média < 7,00   | Exame Especial |\n",
        "| 0,00 <= Média < 3,00   | Reprovado      |"
      ]
    },
    {
      "cell_type": "code",
      "metadata": {
        "id": "I_MZxTYi0Xs_",
        "colab_type": "code",
        "outputId": "c12f30bd-c7c1-44ab-d8ea-60ec3f8fc274",
        "colab": {
          "base_uri": "https://localhost:8080/",
          "height": 85
        }
      },
      "source": [
        "nota_1 = float(input(\"digite a primeira nota: \"));\n",
        "nota_2 = float(input(\"digite a segunda nota: \"));\n",
        "nota_3 = float(input(\"digite a terceira nota: \"));\n",
        "media = (nota_1 + nota_2 + nota_3 ) / 3;\n",
        "status = \"\"\n",
        "if media <= 10 and media >= 7:\n",
        "  status = \"Aprovado\"\n",
        "elif media < 7 and media >3:\n",
        "  status = \"Exame Especial\"\n",
        "elif media < 3:\n",
        "  status = \"Reprovado\"\n",
        "\n",
        "print(\"o status do aluno:\", status);"
      ],
      "execution_count": 0,
      "outputs": [
        {
          "output_type": "stream",
          "text": [
            "digite a primeira nota: 6\n",
            "digite a segunda nota: 6\n",
            "digite a terceira nota: 6\n",
            "o status do aluno: Exame Especial\n"
          ],
          "name": "stdout"
        }
      ]
    },
    {
      "cell_type": "markdown",
      "metadata": {
        "id": "Rh8SnfSL0XtC",
        "colab_type": "text"
      },
      "source": [
        "3. Faça um programa que receba dois números e mostre o maior."
      ]
    },
    {
      "cell_type": "code",
      "metadata": {
        "id": "lhlylZNG0XtD",
        "colab_type": "code",
        "outputId": "0341b901-51ee-4a91-b622-2c8bc720b778",
        "colab": {
          "base_uri": "https://localhost:8080/",
          "height": 68
        }
      },
      "source": [
        "numero_1 = float(input(\"digite o primeiro numero:\"));\n",
        "numero_2 = float(input(\"digite o segundo numero:\"));\n",
        "\n",
        "if numero_1 > numero_2:\n",
        "  print(\"o numero\", numero_1, \"é maior que o numero\", numero_2);\n",
        "else:\n",
        "  print(\"o numero\", numero_2, \"é maior que o numero\", numero_1);"
      ],
      "execution_count": 0,
      "outputs": [
        {
          "output_type": "stream",
          "text": [
            "digite o primeiro numero:10\n",
            "digite o segundo numero:9\n",
            "o numero 10.0 é maior que o numero 9.0\n"
          ],
          "name": "stdout"
        }
      ]
    },
    {
      "cell_type": "markdown",
      "metadata": {
        "id": "UNbltOqC0XtF",
        "colab_type": "text"
      },
      "source": [
        "4. Faça um programa que receba um número inteiro e verifique se é par ou ímpar."
      ]
    },
    {
      "cell_type": "code",
      "metadata": {
        "id": "l2aF63Ij0XtG",
        "colab_type": "code",
        "outputId": "1ead0522-8d73-498b-d16b-3f70ef9d37da",
        "colab": {
          "base_uri": "https://localhost:8080/",
          "height": 51
        }
      },
      "source": [
        "numero_1 = int(input(\"digite o primeiro numero:\"));\n",
        "par = numero_1 % 2;\n",
        "if par == 0:\n",
        "  print(\"esse numero é par\");\n",
        "else:\n",
        "  print(\"esse numero é impar\");"
      ],
      "execution_count": 0,
      "outputs": [
        {
          "output_type": "stream",
          "text": [
            "digite o primeiro numero:3\n",
            "esse numero é impar\n"
          ],
          "name": "stdout"
        }
      ]
    },
    {
      "cell_type": "markdown",
      "metadata": {
        "id": "bedNbTQb0XtK",
        "colab_type": "text"
      },
      "source": [
        "5. Faça um programa que mostre o menu de opções a seguir, receba a opção do usuário e os dados necessários para executar cada operação.\n",
        "\n",
        "Menu de opções:\n",
        "\n",
        "1. Somar dois números.\n",
        "2. Raiz quadrada de um número.\n",
        "\n",
        "Digite a opção desejada:"
      ]
    },
    {
      "cell_type": "code",
      "metadata": {
        "id": "71BBAmsD0XtL",
        "colab_type": "code",
        "colab": {
          "base_uri": "https://localhost:8080/",
          "height": 104
        },
        "outputId": "697c3502-8a15-496a-a1e9-2e83a3721650"
      },
      "source": [
        "menu = int(input(\"Menu de opções:\\n    1 - Somar dois números.\\n    2 - Raiz quadrada de um número.\"));\n",
        "\n",
        "if menu == 1:\n",
        "  numero1 = float(input(\"digite o primeiro numero: \"));\n",
        "  numero2 = float(input(\"digite osegundo numero: \"));\n",
        "  print(\"a soma de \", numero1, \"+\" , numero2 ,\" = \",(numero1 + numero2));\n",
        "elif menu == 2:\n",
        "  numero = float(input(\"digite um numero: \"));\n",
        "  print(\"a raiz quadrada de \",numero , \" = \", (numero ** 2));"
      ],
      "execution_count": 4,
      "outputs": [
        {
          "output_type": "stream",
          "text": [
            "Menu de opções:\n",
            "    1 - Somar dois números.\n",
            "    2 - Raiz quadrada de um número.2\n",
            "digite um numero: 9\n",
            "a raiz quadrada de  9.0  =  81.0\n"
          ],
          "name": "stdout"
        }
      ]
    },
    {
      "cell_type": "markdown",
      "metadata": {
        "id": "1WD6BsUE0XtN",
        "colab_type": "text"
      },
      "source": [
        "6. Faça um programa que receba o código correspondente ao cargo de um funcionário e seu salário atual e mostre o cargo, o valor do aumento e seu novo salário. Os cargos estão na tabela a seguir.\n",
        "\n",
        "| Código | Cargo       | Percentual  |\n",
        "|--------|-------------|-------------|\n",
        "| 1      | Escrituário | 50%         |\n",
        "| 2      | Secretário  | 35%         |\n",
        "| 3      | Caixa       | 20%         |\n",
        "| 4      | Gerente     | 10%         |\n",
        "| 5      | Diretor     | Sem Aumento |"
      ]
    },
    {
      "cell_type": "code",
      "metadata": {
        "id": "UrPt_yN60XtO",
        "colab_type": "code",
        "outputId": "95ada5d9-8dcf-4784-cfc5-3d87c236c18e",
        "colab": {
          "base_uri": "https://localhost:8080/",
          "height": 68
        }
      },
      "source": [
        "salario = float(input(\"digite o salario do funcionario:\"));\n",
        "codigo = int(input(\"digite o codigo correspondente ao cargo do funcionario: \"));\n",
        "if codigo == 1:\n",
        "  salario = salario * 1.5;\n",
        "elif codigo == 2:\n",
        "  salario = salario *1.35;\n",
        "elif codigo == 3:\n",
        "  salario = salario *1.2;\n",
        "elif codigo == 4:\n",
        "  salario = salario *1.1;\n",
        "elif codigo == 5:\n",
        "  salario;\n",
        "\n",
        "print(\"o novo salario do funcionario é:\", salario);"
      ],
      "execution_count": 0,
      "outputs": [
        {
          "output_type": "stream",
          "text": [
            "digite o salario do funcionario:100\n",
            "digite o codigo correspondente ao cargo do funcionario: 3\n",
            "o novo salario do funcionario é: 120.0\n"
          ],
          "name": "stdout"
        }
      ]
    },
    {
      "cell_type": "markdown",
      "metadata": {
        "id": "yXSqlnJU0XtR",
        "colab_type": "text"
      },
      "source": [
        "7. Faça um programa que receba o salário inicial de um funcionário, calcule e mostre o novo salário, acrescido de bonificação e de auxílio escola.\n",
        "\n",
        "| Salário                      | Bonificação     |\n",
        "|------------------------------|-----------------|\n",
        "| Até R\\\\$500,00                 | 5% do salário  |\n",
        "| Entre R\\\\$500,00 e R\\$1.1200,00 | 12% do salário  \n",
        "| Acima de R\\\\$1.200,00          | Sem Bonificação |\n",
        "\n",
        "| Salário           | Auxílio Escola |\n",
        "|-------------------|----------------|\n",
        "| Até R\\\\$600,00      | R\\\\$150,00       |\n",
        "| Acima de R\\\\$600,00 | R\\\\$100,00       |"
      ]
    },
    {
      "cell_type": "code",
      "metadata": {
        "id": "U0SGQEKG0XtR",
        "colab_type": "code",
        "outputId": "bf5a2cad-c0df-413c-de45-619eebdf560d",
        "colab": {
          "base_uri": "https://localhost:8080/",
          "height": 51
        }
      },
      "source": [
        "salario = float(input(\"digite o salario de um funcionario: \"));\n",
        "if salario <= 500:\n",
        "  salario = salario * 1.05;\n",
        "elif salario <= 1200:\n",
        "  salario = salario * 1.12;\n",
        "else:\n",
        "  salario;\n",
        "\n",
        "if salario <= 600:\n",
        "  salario += 150;\n",
        "else:\n",
        "  salario += 100;\n",
        "\n",
        "print(\"o novo salario é:\",salario);"
      ],
      "execution_count": 0,
      "outputs": [
        {
          "output_type": "stream",
          "text": [
            "digite o salario de um funcionario: 500\n",
            "o novo salario é: 675.0\n"
          ],
          "name": "stdout"
        }
      ]
    },
    {
      "cell_type": "markdown",
      "metadata": {
        "id": "nWU54y340XtU",
        "colab_type": "text"
      },
      "source": [
        "8. Um supermercado deseja reajustar os preços de seus produtos usando o seguinte critério: o produto poderá ter seu preço aumentado ou diminuído. Para o preço ser alterado, o produto deve preencher pelo menos um dos requisitos a seguir:\n",
        "\n",
        "| Venda Média Mensal | Preço Atual             | % de Aumento | % de Diminuição |\n",
        "|--------------------|-------------------------|--------------|-----------------|\n",
        "| < 500              | < R\\\\$ 30,00              | 10           | -               |\n",
        "| >= 500 e < 1.200   | >= R\\\\$30,00 e < R\\\\$ 80,00 | 15           | -               |\n",
        "| >= 1.200           | >= R\\\\$80,00              | -            | 20              |"
      ]
    },
    {
      "cell_type": "code",
      "metadata": {
        "id": "iwZKR-tI0XtV",
        "colab_type": "code",
        "outputId": "66d516c0-6a74-4048-e991-e9c9010701a0",
        "colab": {
          "base_uri": "https://localhost:8080/",
          "height": 68
        }
      },
      "source": [
        "valorMM = int(input(\"informe a venda media mensal do produto: \"));\n",
        "preco = float(input(\"informe o preço atual do produto: \"));\n",
        "produto = 0;\n",
        "if valorMM < 500 or preco < 30:\n",
        "  produto = preco * 1.1;\n",
        "elif (valorMM >= 500 and valorMM < 1200) or (preco >= 30 and preco <80):\n",
        "  produto = preco * 1.15;\n",
        "else:\n",
        "  produto = preco *0.8;\n",
        "\n",
        "print(\"o novo preço do produto é: \", produto);"
      ],
      "execution_count": 0,
      "outputs": [
        {
          "output_type": "stream",
          "text": [
            "informe a venda media mensal do produto: 600\n",
            "informe o preço atual do produto: 10\n",
            "o novo preço do produto é:  11.0\n"
          ],
          "name": "stdout"
        }
      ]
    },
    {
      "cell_type": "markdown",
      "metadata": {
        "id": "JSy5vaFa0XtY",
        "colab_type": "text"
      },
      "source": [
        "9. Faça um programa para resolver equações do 2º grau.\n",
        "\n",
        "$$\n",
        "a^{2} + bx + c = 0\n",
        "$$\n",
        "\n",
        "\n",
        "Onde x é uma variável, sendo a, b e c constantes, com a ≠ 0 \n",
        "\n",
        "\n",
        "$$\n",
        "\\Delta = b^{2} - 4ac\n",
        "$$\n",
        "\n",
        "$$\n",
        "\\Delta < 0 \\rightarrow não \\: existe  \\: raiz  \\: real\n",
        "$$\n",
        "\n",
        "$$\n",
        "\\Delta = 0 \\rightarrow  existe  \\: raiz  \\: real\n",
        "$$\n",
        "\n",
        "$$\n",
        "x = \\frac{-b}{2a}\n",
        "$$\n",
        "\n",
        "\n",
        "\n",
        "$$\n",
        "\\Delta > 0 \\rightarrow existem \\: duas  \\: raizes  \\: reais\n",
        "$$\n",
        "\n",
        "\n",
        "$$\n",
        "x_1 = \\frac{-b \\: + \\: \\sqrt{\\Delta } }{2a}\n",
        "$$\n",
        "\n",
        "$$\n",
        "x_2 = \\frac{-b \\: - \\: \\sqrt{\\Delta } }{2a}\n",
        "$$"
      ]
    },
    {
      "cell_type": "code",
      "metadata": {
        "id": "vvnN6TWH0Xta",
        "colab_type": "code",
        "outputId": "5c38ace7-d3e4-4a1f-df6e-0a23a9af3063",
        "colab": {
          "base_uri": "https://localhost:8080/",
          "height": 85
        }
      },
      "source": [
        "a = int(input(\"informe o valor de A:\"));\n",
        "b = int(input(\"informe o valor de B:\"));\n",
        "c = int(input(\"informe o valor de C:\"));\n",
        "\n",
        "delta = (b **2) - (4*a*c);\n",
        "if(delta > 0):\n",
        "  x1 = (-b) + (delta ** 0.5);\n",
        "  x2 = (-b) - (delta ** 0.5);\n",
        "  print(\"primeira raiz real :\", x1, \"segunda raiz real : \",x2);\n",
        "elif(delta == 0):\n",
        "  x = (-b)/(2*a);\n",
        "  print(\"a raiz real existente é igual: \",x);\n",
        "else:\n",
        "  print(\"não existe raiz real \");"
      ],
      "execution_count": 0,
      "outputs": [
        {
          "output_type": "stream",
          "text": [
            "informe o valor de A:9\n",
            "informe o valor de B:12\n",
            "informe o valor de C:4\n",
            "a raiz real existente é igual:  -0.6666666666666666\n"
          ],
          "name": "stdout"
        }
      ]
    },
    {
      "cell_type": "markdown",
      "metadata": {
        "id": "2ECZDKOM0Xtd",
        "colab_type": "text"
      },
      "source": [
        "10. Dados três valores X, Y e Z, verifique se eles podem ser os comprimentos dos lados de um triângulo e, se forem, verifique se é um triângulo equilátero, isósceles ou escaleno. Se eles não formarem um triângulo, escreva uma mensagem. Considere que:\n",
        "\n",
        "- O comprimento de cada lado de um triângulo é menor que a soma dos outros dois lados;\n",
        "- Chama-se equilátero o triângulo que tem três lados iguais;\n",
        "- Denomina-se isósceles o triângulo que tem o comprimento de dois lados iguais;\n",
        "- Recebe o nome de escaleno o triângulo que tem os três lados diferentes."
      ]
    },
    {
      "cell_type": "code",
      "metadata": {
        "id": "C6oNwmq70Xte",
        "colab_type": "code",
        "outputId": "598f4949-fe55-49c7-bb57-f119c95ec3b2",
        "colab": {
          "base_uri": "https://localhost:8080/",
          "height": 85
        }
      },
      "source": [
        "x = int(input(\"informe o valor de X:\"));\n",
        "y = int(input(\"informe o valor de Y:\"));\n",
        "z = int(input(\"informe o valor de Z:\"));\n",
        "\n",
        "if(x or y or z) > ((x+y) or (x+z) or (y+z)):\n",
        "  print(\"entrou\")\n",
        "\n",
        "elif(x == y) and (x == z):\n",
        "    print(\"Este é um triangulo equilatero\");\n",
        "elif(x == y) or (x == z):\n",
        "    print(\"Este é um triangulo isósceles\");\n",
        "else:\n",
        "    print(\"esté é um triangulo escaleno\");"
      ],
      "execution_count": 0,
      "outputs": [
        {
          "output_type": "stream",
          "text": [
            "informe o valor de X:4\n",
            "informe o valor de Y:4\n",
            "informe o valor de Z:3\n",
            "Este é um triangulo isósceles\n"
          ],
          "name": "stdout"
        }
      ]
    },
    {
      "cell_type": "markdown",
      "metadata": {
        "id": "UwfuTlOj0Xth",
        "colab_type": "text"
      },
      "source": [
        "11. Faça um programa que receba a altura e o peso de uma pessoa. De acordo com a tabela a seguir, verifique e mostre a classificação dessa pessoa.\n",
        "\n",
        "| Altura           | Peso até 60 | Peso entre 60 e 90 (Inclusive) | Peso Acima de 90 |\n",
        "|------------------|-------------|--------------------------------|------------------|\n",
        "| Menores que 1,20 | A           | D                              | G                |\n",
        "| De 1,20 a 1,70   | B           | E                              | H                |\n",
        "| Maiores que 1,70 | C           | F                              | I                |"
      ]
    },
    {
      "cell_type": "code",
      "metadata": {
        "id": "Z03wUXy30Xti",
        "colab_type": "code",
        "outputId": "9309c18a-782c-4ee2-b8bb-bce87b70b59d",
        "colab": {
          "base_uri": "https://localhost:8080/",
          "height": 68
        }
      },
      "source": [
        "altura = float(input(\"informe a altura da pessoa: \"));\n",
        "peso = float(input(\"informe o pesso da pessoa: \"));\n",
        "\n",
        "if(altura < 1.2) and (peso < 60):\n",
        "  print(\"classificação A\");\n",
        "elif(altura >= 1.2 and altura < 1.7) and (peso < 60):\n",
        "  print(\"classificação B\");\n",
        "elif(altura > 1.7) and (peso < 60):\n",
        "  print(\"classificação C\");\n",
        "elif(altura < 1.2) and (peso >= 60 and peso <= 90):\n",
        "  print(\"classificação D\");\n",
        "elif(altura >= 1.2 and altura < 1.7) and (peso >= 60 and peso <= 90):\n",
        "  print(\"classificação E\");\n",
        "elif(altura > 1.7) and (peso >= 60 and peso <= 90):\n",
        "  print(\"classificação F\");\n",
        "elif(altura < 1.2) and (peso > 90):\n",
        "  print(\"classificação G\");\n",
        "elif(altura >= 1.2 and altura < 1.7) and (peso > 90):\n",
        "  print(\"classificação H\");\n",
        "elif(altura > 1.7) and (peso > 90):\n",
        "  print(\"classificação I\");"
      ],
      "execution_count": 0,
      "outputs": [
        {
          "output_type": "stream",
          "text": [
            "informe a altura da pessoa: 1.8\n",
            "informe o pesso da pessoa: 98\n",
            "classificação F\n"
          ],
          "name": "stdout"
        }
      ]
    },
    {
      "cell_type": "markdown",
      "metadata": {
        "id": "U2TDWQOF0Xtk",
        "colab_type": "text"
      },
      "source": [
        "12. Faça um programa que receba:\n",
        "\n",
        "- O código de um produto comprado, supondo que a digitação do código do produto seja sempre válida, isto é, um número inteiro entre 1 e 10.\n",
        "- O peso do produto em quilos.\n",
        "- O código do país de origem, supondo que a digitação do código seja sempre válida, isto é, um número inteiro entre 1 e 3. \n",
        "\n",
        "Tabelas:\n",
        "\n",
        "| Código do País de Origem | Imposto |\n",
        "|--------------------------|---------|\n",
        "| 1                        | 0%      |\n",
        "| 2                        | 15%     |\n",
        "| 3                        | 25%     |\n",
        "\n",
        "\n",
        "| Código do Produto | Preço por Grama |\n",
        "|-------------------|-----------------|\n",
        "| 1 a 4             | 10              |\n",
        "| 5 a 7             | 25              |\n",
        "| 8 a 10            | 35              |"
      ]
    },
    {
      "cell_type": "code",
      "metadata": {
        "id": "T8rfOhMY0Xtk",
        "colab_type": "code",
        "colab": {
          "base_uri": "https://localhost:8080/",
          "height": 86
        },
        "outputId": "1b5d8db5-25c0-43a5-d6db-5da8297cfd97"
      },
      "source": [
        "codigoProduto = int(input(\"digite o codigo do produto: \"));\n",
        "codigoPais = int(input(\"digite o codigo do Pais: \"));\n",
        "pesoProduto = float(input(\"digite o peso do produto : \"));\n",
        "\n",
        "if(codigoProduto >=1 and codigoProduto <= 4) and (codigoPais == 1):\n",
        "  precoGrama = 10;\n",
        "  precoFinal = ((pesoProduto * 1000) * precoGrama );\n",
        "elif(codigoProduto >=1 and codigoProduto <= 4) and (codigoPais == 2):\n",
        "  precoGrama = 25;\n",
        "  precoFinal = ((pesoProduto * 1000) * precoGrama ) * 0.75;\n",
        "elif(codigoProduto >=1 and codigoProduto <= 4) and (codigoPais == 3):\n",
        "  precoGrama = 35;\n",
        "  precoFinal = ((pesoProduto * 1000) * precoGrama ) * 0.65;\n",
        "elif(codigoProduto >4 and codigoProduto <= 7) and (codigoPais == 1):\n",
        "  precoGrama = 10;\n",
        "  precoFinal = ((pesoProduto * 1000) * precoGrama );\n",
        "elif(codigoProduto >4 and codigoProduto <= 7) and (codigoPais == 2):\n",
        "  precoGrama = 25;\n",
        "  precoFinal = ((pesoProduto * 1000) * precoGrama )* 0.75;\n",
        "if(codigoProduto >4 and codigoProduto <= 7) and (codigoPais == 3):\n",
        "  precoGrama = 35;\n",
        "  precoFinal = ((pesoProduto * 1000) * precoGrama ) * 0.65;\n",
        "if(codigoProduto >7 and codigoProduto <= 10) and (codigoPais == 1):\n",
        "  precoGrama = 10;\n",
        "  precoFinal = ((pesoProduto * 1000) * precoGrama );\n",
        "elif(codigoProduto >7 and codigoProduto <= 10) and (codigoPais == 2):\n",
        "  precoGrama = 25;\n",
        "  precoFinal = ((pesoProduto * 1000) * precoGrama ) * 0.75;\n",
        "elif(codigoProduto >7 and codigoProduto <= 10) and (codigoPais == 3):\n",
        "  precoGrama = 35;\n",
        "  precoFinal = ((pesoProduto * 1000) * precoGrama ) * 0.65;\n",
        "\n",
        "print(\"o preco final em R$:\",(precoFinal /100));"
      ],
      "execution_count": 97,
      "outputs": [
        {
          "output_type": "stream",
          "text": [
            "digite o codigo do produto: 1\n",
            "digite o codigo do produto: 1\n",
            "digite o peso do produto : 1.3\n",
            "o preco final em R$: 130.0\n"
          ],
          "name": "stdout"
        }
      ]
    },
    {
      "cell_type": "markdown",
      "metadata": {
        "id": "5fqHYTCk0Xtn",
        "colab_type": "text"
      },
      "source": [
        "  13. Escreva um programa que calcule o quadrado e o cubo dos números de 0 a 10, e imprima os valores em forma de tabela. Número | Quadrado | Cubo"
      ]
    },
    {
      "cell_type": "code",
      "metadata": {
        "id": "llTlWk0I0Xtp",
        "colab_type": "code",
        "outputId": "c2cc9eb0-3ad6-4d41-c961-23f5a4c5e42f",
        "colab": {
          "base_uri": "https://localhost:8080/",
          "height": 391
        }
      },
      "source": [
        "numeros = [0,1,2,3,4,5,6,7,8,9,10];\n",
        "for numero in numeros :\n",
        "  print(\"numero | quadrado | cubo\");\n",
        "  print(numeros[numero],\"     |      \",(numero **2), \"|\",(numero**3));"
      ],
      "execution_count": 0,
      "outputs": [
        {
          "output_type": "stream",
          "text": [
            "numero | quadrado | cubo\n",
            "0      |       0 | 0\n",
            "numero | quadrado | cubo\n",
            "1      |       1 | 1\n",
            "numero | quadrado | cubo\n",
            "2      |       4 | 8\n",
            "numero | quadrado | cubo\n",
            "3      |       9 | 27\n",
            "numero | quadrado | cubo\n",
            "4      |       16 | 64\n",
            "numero | quadrado | cubo\n",
            "5      |       25 | 125\n",
            "numero | quadrado | cubo\n",
            "6      |       36 | 216\n",
            "numero | quadrado | cubo\n",
            "7      |       49 | 343\n",
            "numero | quadrado | cubo\n",
            "8      |       64 | 512\n",
            "numero | quadrado | cubo\n",
            "9      |       81 | 729\n",
            "numero | quadrado | cubo\n",
            "10      |       100 | 1000\n"
          ],
          "name": "stdout"
        }
      ]
    },
    {
      "cell_type": "markdown",
      "metadata": {
        "id": "eT2mHJc-0Xtr",
        "colab_type": "text"
      },
      "source": [
        "14. Um funcionário de uma empresa recebe, anualmente, aumento salarial. Sabe-se que:\n",
        "\n",
        "- Esse funcionário foi contratado em 2005, com salário inicial de R\\\\$ 1.000,00.\n",
        "- Em 2006, ele recebeu aumento de 1,5% sobre seu salário inicial.\n",
        "- A partir de 2007 (inclusive), os aumentos salariais sempre corresponderam ao dobro do percentual do ano anterior.\n",
        "\n",
        "Faça um programa que determine o salário atual desse funcionário."
      ]
    },
    {
      "cell_type": "code",
      "metadata": {
        "id": "ASDm5_oJ0Xts",
        "colab_type": "code",
        "outputId": "05221aca-9f79-4b13-e5fa-89189fc3f757",
        "colab": {
          "base_uri": "https://localhost:8080/",
          "height": 295
        }
      },
      "source": [
        "anos = [2005,2006,2007,2008,2009,2010,2011,2012,2013,2014,2015,2016,2017,2018,2019,2020];\n",
        "salario = 1000;\n",
        "juros = 0.75;\n",
        "for ano in anos:\n",
        "  juros = (juros * 2)\n",
        "  salario = salario + (salario*(juros/100));\n",
        "  print(salario);\n",
        "  "
      ],
      "execution_count": 5,
      "outputs": [
        {
          "output_type": "stream",
          "text": [
            "1015.0\n",
            "1045.45\n",
            "1108.1770000000001\n",
            "1241.1582400000002\n",
            "1539.0362176000003\n",
            "2277.7736020480006\n",
            "4464.436260014081\n",
            "13036.153879241117\n",
            "63094.984775527\n",
            "547664.4678515744\n",
            "8959790.694051756\n",
            "284204560.8153217\n",
            "17745732777.308685\n",
            "2198341376452.9998\n",
            "542462718053542.2\n",
            "2.671737378957306e+17\n"
          ],
          "name": "stdout"
        }
      ]
    },
    {
      "cell_type": "markdown",
      "metadata": {
        "id": "EUrWxLaP0Xtu",
        "colab_type": "text"
      },
      "source": [
        "15. Foi feita uma pesquisa para determinar o índice de mortalidade infantil em certo período. Faça um programa que:\n",
        "\n",
        "- Leia o número de crianças nascidas no período;\n",
        "- Identifique o sexo (M ou F) e o tempo de vida de cada criança nascida.\n",
        "\n",
        "O programa deve calcular e mostrar:\n",
        "\n",
        "- A porcentagem de crianças do sexo feminino mortas no período;\n",
        "- A porcentagem de crianças do sexo masculino mortas no período;\n",
        "- A porcentagem de crianças que viveram 24 meses ou menos no período."
      ]
    },
    {
      "cell_type": "code",
      "metadata": {
        "id": "IpzcxHA00Xtv",
        "colab_type": "code",
        "colab": {}
      },
      "source": [
        ""
      ],
      "execution_count": 0,
      "outputs": []
    },
    {
      "cell_type": "markdown",
      "metadata": {
        "id": "0Va1hbsa0Xtx",
        "colab_type": "text"
      },
      "source": [
        "16. Faça um programa que receba duas notas de seis alunos. Calcule e mostre:\n",
        "\n",
        "- A média aritmética das duas notas de cada aluno; e\n",
        "- A mensagem que está na tabela a seguir:\n",
        "- O total de alunos aprovados;\n",
        "- O total de alunos de exame;\n",
        "- O total de alunos reprovados;\n",
        "- A média da classe.\n",
        "\n",
        "| Média Aritmética | Situação       |\n",
        "|------------------|----------------|\n",
        "| Entre 0 e 29     | Reprovado      |\n",
        "| Entre 30 e 69    | Exame Especial |\n",
        "| Entre 70 e 100   | Aprovado       |\n"
      ]
    },
    {
      "cell_type": "code",
      "metadata": {
        "id": "O6famLyb0Xty",
        "colab_type": "code",
        "colab": {
          "base_uri": "https://localhost:8080/",
          "height": 503
        },
        "outputId": "322bafeb-c7b1-4101-970b-80a6a4ac400c"
      },
      "source": [
        "alunos = 0;\n",
        "notas = 0;\n",
        "mediaClasse = [];\n",
        "aprovados = 0;\n",
        "exame = 0;\n",
        "reprovados = 0;\n",
        "mediaTotal = 0;\n",
        "while alunos < 6:\n",
        "    print(\"referente a nota do aluno\",alunos + 1);\n",
        "    nota1 = float(input(\"digite a primeira nota do aluno:\"));\n",
        "    nota2 = float(input(\"digite a segunda nota do aluno:\"));\n",
        "    media = (nota1 + nota2) /2;\n",
        "    mediaClasse.append(media);\n",
        "    alunos = alunos +1;\n",
        "    if(media < 30):\n",
        "      reprovados = reprovados + 1;\n",
        "      print(\"a media do aluno :\", media, \"e o aluno foi Reprovado\");\n",
        "    elif(media < 70):\n",
        "      exame = exame + 1;\n",
        "      print(\"a media do aluno :\", media, \"e o aluno precisa fazer Exame Especial\");\n",
        "    elif(media <= 100):\n",
        "      aprovados = aprovados + 1;\n",
        "      print(\"a media do aluno :\", media, \"e o aluno foi Aprovado\");\n",
        "\n",
        "for item in mediaClasse:\n",
        "  mediaTotal = mediaTotal + item;\n",
        "\n",
        "mediaTotal = mediaTotal / alunos\n",
        "\n",
        "\n",
        "print(\"O total de alunos aprovados: \",aprovados);\n",
        "print(\"O total de alunos de exame:\", exame);\n",
        "print(\"O total de alunos reprovados:\", reprovados);\n",
        "print(\"a media da classe:\", mediaTotal);"
      ],
      "execution_count": 21,
      "outputs": [
        {
          "output_type": "stream",
          "text": [
            "referente a nota do aluno 1\n",
            "digite a primeira nota do aluno:90\n",
            "digite a segunda nota do aluno:90\n",
            "a media do aluno : 90.0 e o aluno foi Aprovado\n",
            "referente a nota do aluno 2\n",
            "digite a primeira nota do aluno:90\n",
            "digite a segunda nota do aluno:90\n",
            "a media do aluno : 90.0 e o aluno foi Aprovado\n",
            "referente a nota do aluno 3\n",
            "digite a primeira nota do aluno:90\n",
            "digite a segunda nota do aluno:90\n",
            "a media do aluno : 90.0 e o aluno foi Aprovado\n",
            "referente a nota do aluno 4\n",
            "digite a primeira nota do aluno:90\n",
            "digite a segunda nota do aluno:90\n",
            "a media do aluno : 90.0 e o aluno foi Aprovado\n",
            "referente a nota do aluno 5\n",
            "digite a primeira nota do aluno:90\n",
            "digite a segunda nota do aluno:90\n",
            "a media do aluno : 90.0 e o aluno foi Aprovado\n",
            "referente a nota do aluno 6\n",
            "digite a primeira nota do aluno:90\n",
            "digite a segunda nota do aluno:90\n",
            "a media do aluno : 90.0 e o aluno foi Aprovado\n",
            "O total de alunos aprovados:  6\n",
            "O total de alunos de exame: 0\n",
            "O total de alunos reprovados: 0\n",
            "a media da classe: 90.0\n"
          ],
          "name": "stdout"
        }
      ]
    },
    {
      "cell_type": "markdown",
      "metadata": {
        "id": "AWWlDtPG0Xt0",
        "colab_type": "text"
      },
      "source": [
        "17. Faça um programa para calcular a área de um triângulo e que não permita a entrada de dados inválidos, ou seja, medidas menores ou iguais a 0."
      ]
    },
    {
      "cell_type": "code",
      "metadata": {
        "id": "9eqPBmog0Xt1",
        "colab_type": "code",
        "colab": {
          "base_uri": "https://localhost:8080/",
          "height": 52
        },
        "outputId": "271ca83e-6573-44e2-ab50-55c656aa5ec2"
      },
      "source": [
        "base = float(input(\"digite a base do triangulo: \"));\n",
        "if base <= 0:\n",
        "  print(\"entrada de dados invalidas\");\n",
        "elif base > 0 :\n",
        "  altura = float(input(\"digite a altura do traingulo: \"));\n",
        "elif altura <= 0:\n",
        "  print(\"entrada de dados invalidas\");\n",
        "\n",
        "\n",
        "area = (base * altura) /2\n",
        "if area > 0 :\n",
        "  print(\"a area do triangulo: \", area);\n",
        "\n"
      ],
      "execution_count": 44,
      "outputs": [
        {
          "output_type": "stream",
          "text": [
            "digite a base do triangulo: -0\n",
            "entrada de dados invalidas\n"
          ],
          "name": "stdout"
        }
      ]
    },
    {
      "cell_type": "markdown",
      "metadata": {
        "id": "AjLRPcx30Xt3",
        "colab_type": "text"
      },
      "source": [
        "18. Faça um programa que leia um conjunto não determinado de valores e mostre o valor lido, seu quadrado, seu cubo e sua raiz quadrada. Finalize a entrada de dados com um valor negativo ou zero."
      ]
    },
    {
      "cell_type": "code",
      "metadata": {
        "id": "OaBEwYeq0Xt4",
        "colab_type": "code",
        "colab": {
          "base_uri": "https://localhost:8080/",
          "height": 139
        },
        "outputId": "5e33763b-d963-471e-ff8b-e7c52d886134"
      },
      "source": [
        "numero = 1;\n",
        "\n",
        "while numero > 0:\n",
        "  valor = float(input(\"digite um numero:\"));\n",
        "  if valor > 0:\n",
        "    print(valor);\n",
        "    print(valor ** 2);\n",
        "    print(valor ** 3);\n",
        "    print(valor ** 0.5);\n",
        "  else:\n",
        "    print(\"encerrando Programa\")\n",
        "  numero = valor;"
      ],
      "execution_count": 38,
      "outputs": [
        {
          "output_type": "stream",
          "text": [
            "digite um numero:9\n",
            "9.0\n",
            "81.0\n",
            "729.0\n",
            "3.0\n",
            "digite um numero:0\n",
            "encerrando Programa\n"
          ],
          "name": "stdout"
        }
      ]
    },
    {
      "cell_type": "markdown",
      "metadata": {
        "id": "YqoLtmsL0Xt6",
        "colab_type": "text"
      },
      "source": [
        "19. Faça um programa que leia um número não determinado de pares de valores [m,n], todos inteiros e positivos, um par de cada vez, e que calcule e mostre a soma de todos os números inteiros entre m e n (inclusive). A digitação de pares terminará quando m for maior ou igual a n."
      ]
    },
    {
      "cell_type": "code",
      "metadata": {
        "id": "3Yya3I7E0Xt7",
        "colab_type": "code",
        "colab": {
          "base_uri": "https://localhost:8080/",
          "height": 69
        },
        "outputId": "f893d44d-eb0a-4816-86ba-91bfd21585f8"
      },
      "source": [
        "m = 1;\n",
        "n= 0;\n",
        "total = 0;\n",
        "while m >= n:\n",
        "  valor1 = int(input(\"digite um numero:\"));\n",
        "  valor2 = int(input(\"digite outro numero:\"));\n",
        "\n",
        "  if valor1 > valor2:\n",
        "    lista = range(int(valor2),int(valor1));\n",
        "    for item in lista:\n",
        "      print(item);\n",
        "      total = total + item;\n",
        "    print(\"o total da soma dos numeros entre\",valor2, \"e\",valor1,\" igual a :\" ,total); \n",
        "  else:\n",
        "    print(\"terminando programa\");\n",
        "  \n",
        "  m = valor1;\n",
        "  n = valor2;"
      ],
      "execution_count": 53,
      "outputs": [
        {
          "output_type": "stream",
          "text": [
            "digite um numero:-2\n",
            "digite outro numero:0\n",
            "terminando programa\n"
          ],
          "name": "stdout"
        }
      ]
    },
    {
      "cell_type": "markdown",
      "metadata": {
        "id": "sWs_YtYX0Xt-",
        "colab_type": "text"
      },
      "source": [
        "20. Faça um programa que receba vários números, calcule e mostre:\n",
        "\n",
        "    - A soma dos números digitados;\n",
        "    - A quantidade de números digitados;\n",
        "    - A média dos números digitados;\n",
        "    - O maior número digitado;\n",
        "    - O menor número digitado;\n",
        "    - A média dos números pares;\n",
        "    - A porcentagem dos números ímpares entre todos os números digitados.\n",
        "\n",
        "Finalize a entrada de dados com a digitação do número 0."
      ]
    },
    {
      "cell_type": "code",
      "metadata": {
        "id": "p2PxT9ZN0Xt_",
        "colab_type": "code",
        "colab": {
          "base_uri": "https://localhost:8080/",
          "height": 295
        },
        "outputId": "577807f5-fc6d-4a20-bb12-731d11194805"
      },
      "source": [
        "contador = 1;\n",
        "numerosDigitados = [];\n",
        "soma = 0;\n",
        "somaPar = 0;\n",
        "while contador != 0:\n",
        "  numero = float(input(\"digite um numero: \"));\n",
        "  if numero != 0:\n",
        "    soma = soma + numero;\n",
        "    numerosDigitados.append(numero);\n",
        "    if numero % 2 == 0:\n",
        "      somaPar = somaPar + numero;\n",
        "    print(\"a soma dos numeros :\", soma);\n",
        "    print(\"A quantidade de numeros Digitados:\",len(numerosDigitados));\n",
        "    print(\"A media dos numeros Digitados\", soma / (len(numerosDigitados) ));\n",
        "    print(\"a soma dos numeros pares:\",somaPar)\n",
        "    print(\"O menor numero digitado:\", min(numerosDigitados));\n",
        "    print(\"O maior numero digitado: \", max(numerosDigitados));\n",
        "  contador = numero;\n",
        "print(\"encerrando programa\")\n",
        "\n",
        "  "
      ],
      "execution_count": 89,
      "outputs": [
        {
          "output_type": "stream",
          "text": [
            "digite um numero: 6\n",
            "a soma dos numeros : 6.0\n",
            "A quantidade de numeros Digitados: 1\n",
            "A media dos numeros Digitados 6.0\n",
            "a soma dos numeros pares: 6.0\n",
            "O menor numero digitado: 6.0\n",
            "O maior numero digitado:  6.0\n",
            "digite um numero: 2\n",
            "a soma dos numeros : 8.0\n",
            "A quantidade de numeros Digitados: 2\n",
            "A media dos numeros Digitados 4.0\n",
            "a soma dos numeros pares: 8.0\n",
            "O menor numero digitado: 2.0\n",
            "O maior numero digitado:  6.0\n",
            "digite um numero: 0\n",
            "encerrando programa\n"
          ],
          "name": "stdout"
        }
      ]
    }
  ]
}
=======
 "cells": [
  {
   "cell_type": "markdown",
   "metadata": {},
   "source": [
    "## Estruturas de Controle \n",
    "\n",
    "\n",
    "### Estruturas de Seleção\n",
    "\n",
    "As estruturas de seleção *if* e *if/else* são usadas para controle da execução sequêncial de um programa. \n",
    "Na prática, se uma determinada condição lógica for avaliada como verdadeira, o interpretador Python executa todos os comandos dentro do bloco da estrutura de seleção. \n",
    "Em Python, para a estruturas de seleção única usamos a palavra-chave *if* e para estruturas de seleção múltiplas usamos o nome *elsif*. \n",
    "\n",
    "```python\n",
    " if condicao1:\n",
    "    # Executa quando a condição1 for verdadeira\n",
    " elif condicao2:\n",
    "    # Executa quando a condição2 for verdadeira\n",
    " else:\n",
    "    # Executa quando todas condições não forem satisfeitas\n",
    "```\n",
    "\n",
    "### Estruturas de Repetição\n",
    "\n",
    "O Python possui duas estruturas de repetição, são elas: *for* e *while*. A estrutura de repetição *for*, em sua sintaxe, difere um pouco, por exemplo, das linguagens de programação baseadas em C, onde definimos uma condição de parada (i < n) e um passo de iteração (i++). O comando *for* é usado para percorrer os itens de qualquer sequência (p. ex.: lista, string ou tupla) para que eles apareçam em série ou simplesmente como um laço de repetição (*loop*). "
   ]
  },
  {
   "cell_type": "code",
   "execution_count": null,
   "metadata": {},
   "outputs": [],
   "source": [
    "cores  = [\"Vermelho\", \"Laranja\", \"Amarelo\", \"Verde\", \"Azul\", \"Anil\", \"Violeta\"]\n",
    "\n",
    "for cor in cores:\n",
    "    print(\"Eu ♥ \" + cor)"
   ]
  },
  {
   "cell_type": "markdown",
   "metadata": {},
   "source": [
    "Se você possui alguma experiência anterior com programação, deve estar se perguntando neste exato momento, como podemos percorrer os itens de uma sequência usando índices? Para tal, podemos utilizar a função range() em conjunto com a função len(). A função *range(start, stop, step)* do Python, retorna uma sequência de números, começando em 0 (zero) por padrão, e incrementando de um em um, até o fim de um número especificado como parâmetro. A função len(), por sua vez, retorna o número de itens de uma determina sequência. Acompanhe abaixo, alguns exemplos de como essas funções podem ser usadas em conjunto com a instrução *for* para indexar itens de uma lista."
   ]
  },
  {
   "cell_type": "code",
   "execution_count": null,
   "metadata": {},
   "outputs": [],
   "source": [
    "# EXEMPLOS - Função range()\n",
    "lista1 = range(5)\n",
    "lista2 = range(10, 20, 2)\n",
    "lista3 = range(1, 5)\n",
    "lista4 = range(5, -1, -1)\n",
    "\n",
    "print(\"EXEMPLOS: Função range()\\n\")\n",
    "\n",
    "for item in lista1:\n",
    "    print(item) # Para range(5) Saída: [0, 1, 2, 3, 4]\n",
    "\n",
    "print(\"\\n\") \n",
    "    \n",
    "for item in lista2:\n",
    "    print(item) # Para range(10, 20, 2) Saída: [10, 12, 14, 16, 18]\n",
    "\n",
    "print(\"\\n\")     \n",
    "    \n",
    "for item in lista3:\n",
    "    print(item) # Para range(1, 5) Saída: [1, 2, 3, 4]\n",
    "\n",
    "print(\"\\n\")     \n",
    "    \n",
    "for item in lista4:\n",
    "    print(item) # Para range(1, 5) Saída: [1, 2, 3, 4]\n",
    "    \n",
    "    \n",
    "print(\"\\n\")     \n",
    "    \n",
    "    \n",
    "# EXEMPLOS - for, range() e len\n",
    "print(\"EXEMPLOS: for, len() e range()\\n\")\n",
    "\n",
    "\n",
    "# Imprimindo lista de cores\n",
    "cores  = [\"Vermelho\", \"Laranja\", \"Amarelo\", \"Verde\", \"Azul\", \"Anil\", \"Violeta\"]\n",
    "n = len(cores) # a função len() retorna o número de elementos\n",
    "\n",
    "for i in range(n):\n",
    "    print(cores[i])\n",
    "\n",
    "print(\"\\n\")\n",
    "\n",
    "for i in range((n - 1), -1, -1):\n",
    "    print(cores[i])\n",
    "\n",
    "\n",
    "# for aninhado para impressão de um padrão numérico\n",
    "for i in range(10):\n",
    "    for j in range(i):\n",
    "        print(i, end=\" \")    # Imprime o número\n",
    "    print(\"\\n\")              # Adiciona quebra de linha ao final de cada linha"
   ]
  },
  {
   "cell_type": "markdown",
   "metadata": {},
   "source": [
    "Assim como o for, a estrutura de repetição while é usada para repetir um trecho de código várias vezes, porém, no while a repetição continua enquanto uma condição lógica definida seja verdadeira (True), veja alguns exemplos abaixo: \n",
    "\n",
    "```python\n",
    "while condicao: # enquanto condição for verdadeira\n",
    "    # Executa algum(ns) comando(s)\n",
    "    # Atualiza variável de controle\n",
    "```"
   ]
  },
  {
   "cell_type": "code",
   "execution_count": null,
   "metadata": {},
   "outputs": [],
   "source": [
    "contador = 0                 # Define uma variável de controle que será avaliada na condição\n",
    "\n",
    "while contador < 10:         # enquanto a condição (contador < 10) for verdadeira\n",
    "    print(contador)          # Executa algum comando: print(contador)\n",
    "    contador = contador + 1  # Atualiza a variável de controle\n",
    "    \n",
    "print(\"\\n\")\n",
    "\n",
    "\n",
    "# EXEMPLO: Algoritmo Fatorial Iterativo\n",
    "n = 3\n",
    "i = 1\n",
    "resultado = 1\n",
    "\n",
    "while i <= n:\n",
    "    resultado = resultado * i\n",
    "    i = i + 1\n",
    "    \n",
    "print(\"Fatorial de %d é %d\" % (n, resultado))\n",
    "    "
   ]
  },
  {
   "cell_type": "markdown",
   "metadata": {},
   "source": [
    "### Técnicas de Looping\n",
    "\n",
    "1. Ao percorrer dicionários, a chave e o valor, podem ser recuperados ao mesmo tempo através do método *items()*;\n",
    "\n",
    "```python\n",
    "websites = {'site': \"Python Software Foundation\", 'url': \"https://www.python.org/\"}\n",
    "\n",
    "for key, value in websites.items():\n",
    "    print(key, value)\n",
    "    \n",
    "# Saída\n",
    "# site Python Software Foundation\n",
    "# url https://www.python.org/\n",
    "```\n",
    "\n",
    "2. Ao percorrer sequências, índice e o item, podem ser recuperados ao mesmo tempo através do método *enumerate()*;\n",
    "\n",
    "```python\n",
    "rgb = [\"Red\", \"Green\", \"Blue\"]\n",
    "\n",
    "for i, item in enumerate(rgb):\n",
    "    print(i, item)\n",
    "    \n",
    "# Saída\n",
    "# 0 Red\n",
    "# 1 Green\n",
    "# 2 Blue\n",
    "```\n",
    "\n",
    "3. Para percorrer duas ou mais sequências ao mesmo tempo, as entradas podem ser emparelhadas através da função *zip()*;\n",
    "\n",
    "\n",
    "```python\n",
    "condinomes_android = [\"Petit Four\", \"Eclair\",  \"Honeycomb\", \"Ice Cream Sandwich\", \"Lollipop\", \"Marshmallow\", \"Nougat\", \"Oreo\", \"Pie\"]\n",
    "versoes_android = [\"1.1\", \"2.0 – 2.1\", \"3.0 – 3.2.6\", \"4.0 – 4.0.4\", \"5.0 – 5.1.1\", \"6.0 – 6.0.1\", \"7.0 – 7.1.2\", \"8.0 – 8.1\", \"9.0\"]\n",
    "\n",
    "for codinome, versao in zip(condinomes_android, versoes_android):\n",
    "    print(codinome, versao)\n",
    "    \n",
    "# Saída\n",
    "# Petit Four 1.1\n",
    "# Eclair 2.0 – 2.1\n",
    "# Honeycomb 3.0 – 3.2.6\n",
    "# Ice Cream Sandwich 4.0 – 4.0.4\n",
    "# Lollipop 5.0 – 5.1.1\n",
    "# Marshmallow 6.0 – 6.0.1\n",
    "# Nougat 7.0 – 7.1.2\n",
    "# Oreo 8.0 – 8.1\n",
    "# Pie 9.0\n",
    "```\n",
    "\n",
    "4. Para iterar em uma sequência ordenada sem alterar a ordem dos elementos utilize o metodo *sorted()* que irá retornar uma nova lista ordenada sem alterar a original\n",
    "\n",
    "```python\n",
    "estados_sudeste_brasileiro = [\"São Paulo\", \"Rio de Janeiro\", \"Minas Gerais\", \"Espírito Santo\"]\n",
    "\n",
    "for estado in sorted(set(estados_sudeste_brasileiro)):\n",
    "    print(estado)\n",
    "    \n",
    "# Saída\n",
    "# Espírito Santo\n",
    "# Minas Gerais\n",
    "# Rio de Janeiro\n",
    "# São Paulo    \n",
    "    \n",
    "```"
   ]
  },
  {
   "cell_type": "markdown",
   "metadata": {},
   "source": [
    "## Exercícios"
   ]
  },
  {
   "cell_type": "markdown",
   "metadata": {},
   "source": [
    "1. A nota final de um estudante é calculada a partir de três notas atribuídas, respectivamente, a um trabalho\n",
    "de laboratório, a uma avaliação semestral e a um exame final. A média das três notas mencionadas\n",
    "obedece aos pesos a seguir:\n",
    "\n",
    "| Nota                    | Peso |\n",
    "|-------------------------|------|\n",
    "| Trabalho de Laboratório | 2    |\n",
    "| Avaliação Semestral     | 3    |\n",
    "| Exame Final             | 5    |\n",
    "\n",
    "\n",
    "Faça um programa que receba as três notas, calcule e mostre a média ponderada e o conceito que segue\n",
    "a tabela:\n",
    "\n",
    "| Média Ponderada        | Conceito |\n",
    "|------------------------|----------|\n",
    "| 8,00 <= Média <= 10,00 | A        |\n",
    "| 7,00 <= Média < 8,00   | B        |\n",
    "| 6,00 <= Média < 7,00   | C        |\n",
    "| 5,00 <= Média < 6,00   | D        |\n",
    "| 0,00 <= Média < 5,00   | E        |\n",
    "\n"
   ]
  },
  {
   "cell_type": "code",
   "execution_count": null,
   "metadata": {},
   "outputs": [],
   "source": []
  },
  {
   "cell_type": "markdown",
   "metadata": {},
   "source": [
    "2. Faça um programa que receba três notas de um aluno, calcule e mostre a média aritmética e a mensagem constante na tabela a seguir. \n",
    "\n",
    "| Média                  | Situação       |\n",
    "|------------------------|----------------|\n",
    "| 7,00 <= Média <= 10,00 | Aprovado       |\n",
    "| 3,00 <= Média < 7,00   | Exame Especial |\n",
    "| 0,00 <= Média < 3,00   | Reprovado      |"
   ]
  },
  {
   "cell_type": "code",
   "execution_count": null,
   "metadata": {},
   "outputs": [],
   "source": []
  },
  {
   "cell_type": "markdown",
   "metadata": {},
   "source": [
    "3. Faça um programa que receba dois números e mostre o maior."
   ]
  },
  {
   "cell_type": "code",
   "execution_count": null,
   "metadata": {},
   "outputs": [],
   "source": []
  },
  {
   "cell_type": "markdown",
   "metadata": {},
   "source": [
    "4. Faça um programa que receba um número inteiro e verifique se é par ou ímpar."
   ]
  },
  {
   "cell_type": "code",
   "execution_count": null,
   "metadata": {},
   "outputs": [],
   "source": []
  },
  {
   "cell_type": "markdown",
   "metadata": {},
   "source": [
    "5. Faça um programa que mostre o menu de opções a seguir, receba a opção do usuário e os dados necessários para executar cada operação.\n",
    "\n",
    "Menu de opções:\n",
    "\n",
    "1. Somar dois números.\n",
    "2. Raiz quadrada de um número.\n",
    "\n",
    "Digite a opção desejada:"
   ]
  },
  {
   "cell_type": "code",
   "execution_count": null,
   "metadata": {},
   "outputs": [],
   "source": []
  },
  {
   "cell_type": "markdown",
   "metadata": {},
   "source": [
    "6. Faça um programa que receba o código correspondente ao cargo de um funcionário e seu salário atual e mostre o cargo, o valor do aumento e seu novo salário. Os cargos estão na tabela a seguir.\n",
    "\n",
    "| Código | Cargo       | Percentual  |\n",
    "|--------|-------------|-------------|\n",
    "| 1      | Escrituário | 50%         |\n",
    "| 2      | Secretário  | 35%         |\n",
    "| 3      | Caixa       | 20%         |\n",
    "| 4      | Gerente     | 10%         |\n",
    "| 5      | Diretor     | Sem Aumento |"
   ]
  },
  {
   "cell_type": "code",
   "execution_count": null,
   "metadata": {},
   "outputs": [],
   "source": []
  },
  {
   "cell_type": "markdown",
   "metadata": {},
   "source": [
    "7. Faça um programa que receba o salário inicial de um funcionário, calcule e mostre o novo salário, acrescido de bonificação e de auxílio escola.\n",
    "\n",
    "| Salário                      | Bonificação     |\n",
    "|------------------------------|-----------------|\n",
    "| Até R\\\\$500,00                 | 5% do salário  |\n",
    "| Entre R\\\\$500,00 e R\\$1.1200,00 | 12% do salário  \n",
    "| Acima de R\\\\$1.200,00          | Sem Bonificação |\n",
    "\n",
    "| Salário           | Auxílio Escola |\n",
    "|-------------------|----------------|\n",
    "| Até R\\\\$600,00      | R\\\\$150,00       |\n",
    "| Acima de R\\\\$600,00 | R\\\\$100,00       |"
   ]
  },
  {
   "cell_type": "code",
   "execution_count": null,
   "metadata": {},
   "outputs": [],
   "source": []
  },
  {
   "cell_type": "markdown",
   "metadata": {},
   "source": [
    "8. Um supermercado deseja reajustar os preços de seus produtos usando o seguinte critério: o produto poderá ter seu preço aumentado ou diminuído. Para o preço ser alterado, o produto deve preencher pelo menos um dos requisitos a seguir:\n",
    "\n",
    "| Venda Média Mensal | Preço Atual             | % de Aumento | % de Diminuição |\n",
    "|--------------------|-------------------------|--------------|-----------------|\n",
    "| < 500              | < R\\\\$ 30,00              | 10           | -               |\n",
    "| >= 500 e < 1.200   | >= R\\\\$30,00 e < R\\\\$ 80,00 | 15           | -               |\n",
    "| >= 1.200           | >= R\\\\$80,00              | -            | 20              |"
   ]
  },
  {
   "cell_type": "code",
   "execution_count": null,
   "metadata": {},
   "outputs": [],
   "source": []
  },
  {
   "cell_type": "markdown",
   "metadata": {},
   "source": [
    "9. Faça um programa para resolver equações do 2º grau.\n",
    "\n",
    "$$\n",
    "a^{2} + bx + c = 0\n",
    "$$\n",
    "\n",
    "\n",
    "Onde x é uma variável, sendo a, b e c constantes, com a ≠ 0 \n",
    "\n",
    "\n",
    "$$\n",
    "\\Delta = b^{2} - 4ac\n",
    "$$\n",
    "\n",
    "$$\n",
    "\\Delta < 0 \\rightarrow não \\: existe  \\: raiz  \\: real\n",
    "$$\n",
    "\n",
    "$$\n",
    "\\Delta = 0 \\rightarrow  existe  \\: raiz  \\: real\n",
    "$$\n",
    "\n",
    "$$\n",
    "x = \\frac{-b}{2a}\n",
    "$$\n",
    "\n",
    "\n",
    "\n",
    "$$\n",
    "\\Delta > 0 \\rightarrow existem \\: duas  \\: raizes  \\: reais\n",
    "$$\n",
    "\n",
    "\n",
    "$$\n",
    "x_1 = \\frac{-b \\: + \\: \\sqrt{\\Delta } }{2a}\n",
    "$$\n",
    "\n",
    "$$\n",
    "x_2 = \\frac{-b \\: - \\: \\sqrt{\\Delta } }{2a}\n",
    "$$"
   ]
  },
  {
   "cell_type": "code",
   "execution_count": null,
   "metadata": {},
   "outputs": [],
   "source": []
  },
  {
   "cell_type": "markdown",
   "metadata": {},
   "source": [
    "10. Dados três valores X, Y e Z, verifique se eles podem ser os comprimentos dos lados de um triângulo e, se forem, verifique se é um triângulo equilátero, isósceles ou escaleno. Se eles não formarem um triângulo, escreva uma mensagem. Considere que:\n",
    "\n",
    "- O comprimento de cada lado de um triângulo é menor que a soma dos outros dois lados;\n",
    "- Chama-se equilátero o triângulo que tem três lados iguais;\n",
    "- Denomina-se isósceles o triângulo que tem o comprimento de dois lados iguais;\n",
    "- Recebe o nome de escaleno o triângulo que tem os três lados diferentes."
   ]
  },
  {
   "cell_type": "code",
   "execution_count": null,
   "metadata": {},
   "outputs": [],
   "source": []
  },
  {
   "cell_type": "markdown",
   "metadata": {},
   "source": [
    "11. Faça um programa que receba a altura e o peso de uma pessoa. De acordo com a tabela a seguir, verifique e mostre a classificação dessa pessoa.\n",
    "\n",
    "| Altura           | Peso até 60 | Peso entre 60 e 90 (Inclusive) | Peso Acima de 90 |\n",
    "|------------------|-------------|--------------------------------|------------------|\n",
    "| Menores que 1,20 | A           | D                              | G                |\n",
    "| De 1,20 a 1,70   | B           | E                              | H                |\n",
    "| Maiores que 1,70 | C           | F                              | I                |"
   ]
  },
  {
   "cell_type": "code",
   "execution_count": null,
   "metadata": {},
   "outputs": [],
   "source": []
  },
  {
   "cell_type": "markdown",
   "metadata": {},
   "source": [
    "12. Faça um programa que receba:\n",
    "\n",
    "- O código de um produto comprado, supondo que a digitação do código do produto seja sempre válida, isto é, um número inteiro entre 1 e 10.\n",
    "- O peso do produto em quilos.\n",
    "- O código do país de origem, supondo que a digitação do código seja sempre válida, isto é, um número inteiro entre 1 e 3. \n",
    "\n",
    "Tabelas:\n",
    "\n",
    "| Código do País de Origem | Imposto |\n",
    "|--------------------------|---------|\n",
    "| 1                        | 0%      |\n",
    "| 2                        | 15%     |\n",
    "| 3                        | 25%     |\n",
    "\n",
    "\n",
    "| Código do Produto | Preço por Grama |\n",
    "|-------------------|-----------------|\n",
    "| 1 a 4             | 10              |\n",
    "| 5 a 7             | 25              |\n",
    "| 8 a 10            | 35              |"
   ]
  },
  {
   "cell_type": "code",
   "execution_count": null,
   "metadata": {},
   "outputs": [],
   "source": []
  },
  {
   "cell_type": "markdown",
   "metadata": {},
   "source": [
    "13. Escreva um programa que calcule o quadrado e o cubo dos números de 0 a 10, e imprima os valores em forma de tabela. Número | Quadrado | Cubo"
   ]
  },
  {
   "cell_type": "code",
   "execution_count": null,
   "metadata": {},
   "outputs": [],
   "source": []
  },
  {
   "cell_type": "markdown",
   "metadata": {},
   "source": [
    "14. Um funcionário de uma empresa recebe, anualmente, aumento salarial. Sabe-se que:\n",
    "\n",
    "- Esse funcionário foi contratado em 2005, com salário inicial de R\\\\$ 1.000,00.\n",
    "- Em 2006, ele recebeu aumento de 1,5% sobre seu salário inicial.\n",
    "- A partir de 2007 (inclusive), os aumentos salariais sempre corresponderam ao dobro do percentual do ano anterior.\n",
    "\n",
    "Faça um programa que determine o salário atual desse funcionário."
   ]
  },
  {
   "cell_type": "code",
   "execution_count": null,
   "metadata": {},
   "outputs": [],
   "source": []
  },
  {
   "cell_type": "markdown",
   "metadata": {},
   "source": [
    "15. Foi feita uma pesquisa para determinar o índice de mortalidade infantil em certo período. Faça um programa que:\n",
    "\n",
    "- Leia o número de crianças nascidas no período;\n",
    "- Identifique o sexo (M ou F) e o tempo de vida de cada criança nascida.\n",
    "\n",
    "O programa deve calcular e mostrar:\n",
    "\n",
    "- A porcentagem de crianças do sexo feminino mortas no período;\n",
    "- A porcentagem de crianças do sexo masculino mortas no período;\n",
    "- A porcentagem de crianças que viveram 24 meses ou menos no período."
   ]
  },
  {
   "cell_type": "code",
   "execution_count": null,
   "metadata": {},
   "outputs": [],
   "source": []
  },
  {
   "cell_type": "markdown",
   "metadata": {},
   "source": [
    "16. Faça um programa que receba duas notas de seis alunos. Calcule e mostre:\n",
    "\n",
    "- A média aritmética das duas notas de cada aluno; e\n",
    "- A mensagem que está na tabela a seguir:\n",
    "- O total de alunos aprovados;\n",
    "- O total de alunos de exame;\n",
    "- O total de alunos reprovados;\n",
    "- A média da classe.\n",
    "\n",
    "| Média Aritmética | Situação       |\n",
    "|------------------|----------------|\n",
    "| Entre 0 e 29     | Reprovado      |\n",
    "| Entre 30 e 69    | Exame Especial |\n",
    "| Entre 70 e 100   | Aprovado       |\n"
   ]
  },
  {
   "cell_type": "code",
   "execution_count": null,
   "metadata": {},
   "outputs": [],
   "source": []
  },
  {
   "cell_type": "markdown",
   "metadata": {},
   "source": [
    "17. Faça um programa para calcular a área de um triângulo e que não permita a entrada de dados inválidos, ou seja, medidas menores ou iguais a 0."
   ]
  },
  {
   "cell_type": "code",
   "execution_count": null,
   "metadata": {},
   "outputs": [],
   "source": []
  },
  {
   "cell_type": "markdown",
   "metadata": {},
   "source": [
    "18. Faça um programa que leia um conjunto não determinado de valores e mostre o valor lido, seu quadrado, seu cubo e sua raiz quadrada. Finalize a entrada de dados com um valor negativo ou zero."
   ]
  },
  {
   "cell_type": "code",
   "execution_count": null,
   "metadata": {},
   "outputs": [],
   "source": []
  },
  {
   "cell_type": "markdown",
   "metadata": {},
   "source": [
    "19. Faça um programa que leia um número não determinado de pares de valores [m,n], todos inteiros e positivos, um par de cada vez, e que calcule e mostre a soma de todos os números inteiros entre m e n (inclusive). A digitação de pares terminará quando m for maior ou igual a n."
   ]
  },
  {
   "cell_type": "code",
   "execution_count": null,
   "metadata": {},
   "outputs": [],
   "source": []
  },
  {
   "cell_type": "markdown",
   "metadata": {},
   "source": [
    "20. Faça um programa que receba vários números, calcule e mostre:\n",
    "\n",
    "    - A soma dos números digitados;\n",
    "    - A quantidade de números digitados;\n",
    "    - A média dos números digitados;\n",
    "    - O maior número digitado;\n",
    "    - O menor número digitado;\n",
    "    - A média dos números pares;\n",
    "    - A porcentagem dos números ímpares entre todos os números digitados.\n",
    "\n",
    "Finalize a entrada de dados com a digitação do número 0."
   ]
  },
  {
   "cell_type": "code",
   "execution_count": null,
   "metadata": {},
   "outputs": [],
   "source": []
  }
 ],
 "metadata": {
  "kernelspec": {
   "display_name": "Python 3",
   "language": "python",
   "name": "python3"
  },
  "language_info": {
   "codemirror_mode": {
    "name": "ipython",
    "version": 3
   },
   "file_extension": ".py",
   "mimetype": "text/x-python",
   "name": "python",
   "nbconvert_exporter": "python",
   "pygments_lexer": "ipython3",
   "version": "3.7.4"
  }
 },
 "nbformat": 4,
 "nbformat_minor": 4
}
>>>>>>> 9fece7c684d49ede70eb9fed1d334023fbc9c8ca
