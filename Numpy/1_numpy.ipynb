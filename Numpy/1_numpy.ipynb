{
  "nbformat": 4,
  "nbformat_minor": 0,
  "metadata": {
    "kernelspec": {
      "display_name": "Python 3",
      "language": "python",
      "name": "python3"
    },
    "language_info": {
      "codemirror_mode": {
        "name": "ipython",
        "version": 3
      },
      "file_extension": ".py",
      "mimetype": "text/x-python",
      "name": "python",
      "nbconvert_exporter": "python",
      "pygments_lexer": "ipython3",
      "version": "3.7.4"
    },
    "colab": {
      "name": "1_numpy.ipynb",
      "provenance": [],
      "collapsed_sections": [
        "v3i2qYuzUpL2"
      ]
    }
  },
  "cells": [
    {
      "cell_type": "markdown",
      "metadata": {
        "id": "_7y57fS9UpLp",
        "colab_type": "text"
      },
      "source": [
        "# NumPy - Manipulando Dados Numéricos"
      ]
    },
    {
      "cell_type": "markdown",
      "metadata": {
        "id": "v3i2qYuzUpL2",
        "colab_type": "text"
      },
      "source": [
        "## O que é o NumPy?\n",
        "\n",
        "O *NumPy* é uma biblioteca para a Linguagem de Programação Python, que da suporte à linguagem para trabalhar com grandes matrizes e vetores multidimensionais, juntamente com uma ampla coleção de funções matemáticas de alto nível.\n",
        "\n",
        "Especificamente, essa bibioteca fornece ao Python, objetos *arrays* multidimensionais e vários objetos derivados (p. ex.: masked arrays e matrices), com um conjunto de funções para operações rápidas em vetores e a Computação Numérica, por exemplo: \n",
        "\n",
        "* Funções Matemáticas e Lógicas;\n",
        "* Manipulação de Formas;\n",
        "* Ordenação;\n",
        "* Seleção;\n",
        "* Leitura de Dados (E/S);\n",
        "* Transformada Discreta de Fourier;\n",
        "* Álgebra Linear Básica;\n",
        "* Operações Estatísticas Básicas;\n",
        "* Simulação Aleatória.\n",
        "\n",
        "No núcleo da biblioteca NumPy temos o objeto *narray* que encapsula vetores n-dimensionais com tipos de dados homgêneos e muitas operações executadas no código compilado a fim de desempenho. \n",
        "\n",
        "### NumPy X Sequências Padrão do Python\n",
        "\n",
        "Existem várias diferenças importantes entre os vetores do NumPy e as sequências padrão do Python, são elas: \n",
        "\n",
        "* **Vetores Estáticos:** os vetores do NumPy têm tamanho fixo em sua criação, diferente das listas do Python que podem crescer dinamicamente em tempo de execução. Logo, quando alteramos o tamanho de um objeto *narray*, será criado um novo vetor e excluído o original;\n",
        "\n",
        "* **Tipo de Dados Homogêneo dos Itens:**  todos os elementos dos vetores em NumPy, devem ser obrigatoriamente do mesmo tipo de dados, logo, eles irão ter o mesmo tamanho em memória;\n",
        "\n",
        "* **Operações Matemáticas Avançadas:** os vetores do NumPy otimizam operações matemáticas avançadas e qualquer tipo de outras operações para um grande número de dados. Na prática, essas operações são executadas mais eficientemente e com menos código do que se usarmos as sequências padrão do Python;"
      ]
    },
    {
      "cell_type": "code",
      "metadata": {
        "id": "hyrEnADOUpL8",
        "colab_type": "code",
        "colab": {}
      },
      "source": [
        "# NumPy na Prática\n",
        "import numpy as np             # Importa a biblioteca NumPy para seu projeto\n",
        "\n",
        "vetor = np.array([0, 1, 2, 3]) # instancia um vetor (array) em NumPy\n",
        "vetor                          # Imprime seu conteúdo"
      ],
      "execution_count": 0,
      "outputs": []
    },
    {
      "cell_type": "markdown",
      "metadata": {
        "id": "M1SNk4ZbUpMu",
        "colab_type": "text"
      },
      "source": [
        "## Tipos de Dados"
      ]
    },
    {
      "cell_type": "markdown",
      "metadata": {
        "id": "M7svmwk4UpMw",
        "colab_type": "text"
      },
      "source": [
        "| Tipo de Dado | Descrição                                            |\n",
        "|:-------------|:-----------------------------------------------------|\n",
        "| np.int64     | Números inteiros de 64bits                           |\n",
        "| np.float32   | Números de ponto flutuante de precisão dupla (Reais) |\n",
        "| np.complex   | Números Complexos                                    |\n",
        "| np.bool      | Tipo lógico (Booleano)                               |\n",
        "| np.object    | Tipo object do Python                                |\n",
        "| np.string_   | Cadeia de Caracteres Fixa (String)                   |\n",
        "| np.unicode_  | Cadeia de Caracteres Unicode Fixa (String)           |"
      ]
    },
    {
      "cell_type": "markdown",
      "metadata": {
        "id": "_7qQn9dvUpMy",
        "colab_type": "text"
      },
      "source": [
        "## Criação de Vetores"
      ]
    },
    {
      "cell_type": "markdown",
      "metadata": {
        "id": "RJkK3jesUpM1",
        "colab_type": "text"
      },
      "source": [
        "### Construção Manual de Vetores"
      ]
    },
    {
      "cell_type": "code",
      "metadata": {
        "id": "0GmTFw-UUpM5",
        "colab_type": "code",
        "colab": {}
      },
      "source": [
        "# CONSTRUÇÃO MANUAL DE VETORES\n",
        "# Unidimencional (1D)\n",
        "\n",
        "vetor_numpy = np.array([0, 1, 2, 3, 4])\n",
        "\n",
        "print(vetor_numpy)        # Imprime o vetor\n",
        "print(vetor_numpy.ndim)   # Retorna o número de dimensões do vetor\n",
        "print(vetor_numpy.shape)  # Retorna a forma do vetor ou atribui uma tupla para as dimnesões do vetor\n",
        "print(len(vetor_numpy))   # Retorna o número de elementos do vetor\n",
        "\n",
        "# Multi-dimencional (n-D)\n",
        "\n",
        "# Matriz Bidimensional 2 (linhas) X 3 (colunas)\n",
        "matriz_numpy = np.array([[0, 1, 2], [3, 4, 5]]) \n",
        "\n",
        "print(matriz_numpy)\n",
        "print(matriz_numpy.ndim)\n",
        "print(matriz_numpy.shape)\n",
        "print(len(matriz_numpy))         # Retorna o tamanho da primeira dimensão do vetor (linhas)"
      ],
      "execution_count": 0,
      "outputs": []
    },
    {
      "cell_type": "markdown",
      "metadata": {
        "id": "pUPcwW9eUpNz",
        "colab_type": "text"
      },
      "source": [
        "### Funções para Criação de Vetores"
      ]
    },
    {
      "cell_type": "code",
      "metadata": {
        "id": "rRQb5WpFUpN2",
        "colab_type": "code",
        "colab": {
          "base_uri": "https://localhost:8080/",
          "height": 646
        },
        "outputId": "ab842cb8-4e12-47fa-e011-a0706465ccb8"
      },
      "source": [
        "# Vetores Igualmente Espaçado\n",
        "print(\"Vetores Igualmente Espaçado\")\n",
        "vetor = np.arange(10) # 0 .. n - 1\n",
        "print(vetor)\n",
        "\n",
        "vetor_impar = np.arange(1, 9, 2) # Início, Fim e Incremento\n",
        "print(vetor_impar)\n",
        "\n",
        "# Vetores por números de pontos\n",
        "print(\"\\nVetores por Números de Pontos\")\n",
        "numero_pontos = np.linspace(0, 1, 6) # Início, Fim, Número de Pontos\n",
        "print(numero_pontos)\n",
        "\n",
        "# Matrizes Populares\n",
        "print(\"\\nMATRIZES POPULARES\")\n",
        "print(\"\\nMatriz de Uns\")\n",
        "matriz_de_uns = np.ones((3, 3)) # Tupla (3, 3)\n",
        "print(matriz_de_uns)\n",
        "\n",
        "print(\"\\nMatriz de Zeros\")\n",
        "matriz_de_zeros = np.zeros((2, 2))\n",
        "print(matriz_de_zeros)\n",
        "\n",
        "print(\"\\nMatriz Zerada com Diagonal de Uns\")\n",
        "matriz_zeros_diagonal_uns = np.eye(4)\n",
        "print(matriz_zeros_diagonal_uns)\n",
        "\n",
        "print(\"\\nMatriz Zerada com Diagonal de Permutações\")\n",
        "matriz_diagonal_permutacao = np.diag(np.array([1, 2, 3, 4]))\n",
        "print(matriz_diagonal_permutacao)\n",
        "\n",
        "print(\"\\nVETORES ALEATÓRIOS\")\n",
        "print(\"\\nVetor Aleatório Uniforme\")\n",
        "vetor_uniforme_aleatorio = np.random.rand(4)\n",
        "print(vetor_uniforme_aleatorio)\n",
        "\n",
        "print(\"\\nVetor Aleatório Gaussiano\")\n",
        "vetor_aleatorio_gaussiano = np.random.randn(4)\n",
        "print(vetor_aleatorio_gaussiano)\n",
        "\n",
        "np.random.seed(1234) # Definindo a semente aleatória"
      ],
      "execution_count": 178,
      "outputs": [
        {
          "output_type": "stream",
          "text": [
            "Vetores Igualmente Espaçado\n",
            "[0 1 2 3 4 5 6 7 8 9]\n",
            "[1 3 5 7]\n",
            "\n",
            "Vetores por Números de Pontos\n",
            "[0.  0.2 0.4 0.6 0.8 1. ]\n",
            "\n",
            "MATRIZES POPULARES\n",
            "\n",
            "Matriz de Uns\n",
            "[[1. 1. 1.]\n",
            " [1. 1. 1.]\n",
            " [1. 1. 1.]]\n",
            "\n",
            "Matriz de Zeros\n",
            "[[0. 0.]\n",
            " [0. 0.]]\n",
            "\n",
            "Matriz Zerada com Diagonal de Uns\n",
            "[[1. 0. 0. 0.]\n",
            " [0. 1. 0. 0.]\n",
            " [0. 0. 1. 0.]\n",
            " [0. 0. 0. 1.]]\n",
            "\n",
            "Matriz Zerada com Diagonal de Permutações\n",
            "[[1 0 0 0]\n",
            " [0 2 0 0]\n",
            " [0 0 3 0]\n",
            " [0 0 0 4]]\n",
            "\n",
            "VETORES ALEATÓRIOS\n",
            "\n",
            "Vetor Aleatório Uniforme\n",
            "[0.50483752 0.31637022 0.33731334 0.06887365]\n",
            "\n",
            "Vetor Aleatório Gaussiano\n",
            "[-0.95334243  1.64170743  0.80444467 -2.80379505]\n"
          ],
          "name": "stdout"
        }
      ]
    },
    {
      "cell_type": "markdown",
      "metadata": {
        "id": "g-gZo4ZYUpOX",
        "colab_type": "text"
      },
      "source": [
        "### Operações Matemáticas com Vetores"
      ]
    },
    {
      "cell_type": "code",
      "metadata": {
        "id": "Hz32VgICUpOZ",
        "colab_type": "code",
        "colab": {}
      },
      "source": [
        "import numpy as np\n",
        "\n",
        "vetor_a = np.array([1, 2, 3])\n",
        "vetor_b = np.array([4, 5, 6])\n",
        "\n",
        "\n",
        "# Adição\n",
        "vetor_a + vetor_b              # Usando operador aritmético\n",
        "np.add(vetor_a, vetor_b)       # Usando função definida do NumPy\n",
        "\n",
        "# Subtração\n",
        "vetor_a - vetor_b              # Usando operador aritmético\n",
        "np.subtract(vetor_a, vetor_b)  # Usando função definida do NumPy\n",
        "\n",
        "# Multiplicação\n",
        "vetor_a * vetor_b              # Usando operador aritmético\n",
        "np.multiply(vetor_a, vetor_b)  # Usando função definida do NumPy\n",
        "\n",
        "# Divisão\n",
        "vetor_a / vetor_b              # Usando operador aritmético\n",
        "np.divide(vetor_a, vetor_b)    # Usando função definida do NumPy\n",
        "\n",
        "# Raiz Quadrada\n",
        "np.sqrt(vetor_a)\n",
        "\n",
        "# Função Exponencia\n",
        "np.exp(vetor_a)                \n",
        "\n",
        "# Seno\n",
        "np.sin(vetor_a)\n",
        "\n",
        "# Coseno\n",
        "np.cos(vetor_a)\n",
        "\n",
        "# Logaritmo Natural\n",
        "np.log(vetor_a)"
      ],
      "execution_count": 0,
      "outputs": []
    },
    {
      "cell_type": "markdown",
      "metadata": {
        "id": "PEyQDHKXUpPA",
        "colab_type": "text"
      },
      "source": [
        "### Comparação"
      ]
    },
    {
      "cell_type": "code",
      "metadata": {
        "id": "5KHO_LTwUpPH",
        "colab_type": "code",
        "colab": {}
      },
      "source": [
        "import numpy as np\n",
        "\n",
        "vetor_a = np.array([1, 2, 3])\n",
        "vetor_b = np.array([4, 5, 6])\n",
        "\n",
        "# Compara cada um dos elementos dos vetores\n",
        "# Retorna um vetor booleano com os resultados da comparação\n",
        "vetor_a == vetor_b\n",
        "vetor_a != vetor_b\n",
        "\n",
        "vetor_a > vetor_b\n",
        "vetor_a >= vetor_b\n",
        "\n",
        "vetor_a < vetor_b\n",
        "vetor_a <= vetor_b"
      ],
      "execution_count": 0,
      "outputs": []
    },
    {
      "cell_type": "markdown",
      "metadata": {
        "id": "Qq0G9F9OUpP3",
        "colab_type": "text"
      },
      "source": [
        "### Funções Agregadas"
      ]
    },
    {
      "cell_type": "code",
      "metadata": {
        "id": "erskc4zSUpP6",
        "colab_type": "code",
        "colab": {}
      },
      "source": [
        "import numpy as np\n",
        "\n",
        "vetor = np.array([1, 2, 3, 4, 5])\n",
        "\n",
        "vetor.sum()         # Soma todos os elementos do vetor\n",
        "vetor.cumsum()      # Soma acumulada de todos os elementos do vetor\n",
        "\n",
        "vetor.min()         # Retorna o menor elemento do vetor numérico\n",
        "vetor.max()         # Retorna o maior elemento do vetor numérico\n",
        "\n",
        "vetor.mean()        # Média\n",
        "np.median(vetor)    # Mediana\n",
        "np.corrcoef(vetor)  # Coeficiente de Correlação\n",
        "np.std(vetor)       # Desvio Padrão"
      ],
      "execution_count": 0,
      "outputs": []
    },
    {
      "cell_type": "markdown",
      "metadata": {
        "id": "2IeMmCNEUpQU",
        "colab_type": "text"
      },
      "source": [
        "### Copiando Vetores"
      ]
    },
    {
      "cell_type": "code",
      "metadata": {
        "id": "sR4AjdmsUpQc",
        "colab_type": "code",
        "colab": {}
      },
      "source": [
        "import numpy as np\n",
        "\n",
        "vetor = np.array([1, 2, 3, 4, 5])\n",
        "\n",
        "copia_vetor = np.copy(vetor)\n",
        "print(copia_vetor)\n",
        "\n",
        "copia = vetor.copy()  \n",
        "print(copia)\n",
        "\n",
        "visao = vetor.view()  # Cria uma visão (view) do vetor [representação virutal em memória]\n",
        "print(visao)"
      ],
      "execution_count": 0,
      "outputs": []
    },
    {
      "cell_type": "markdown",
      "metadata": {
        "id": "cw_-jzibUpQ8",
        "colab_type": "text"
      },
      "source": [
        "### Ordenando Vetores"
      ]
    },
    {
      "cell_type": "code",
      "metadata": {
        "id": "CqFPQIqsUpQ_",
        "colab_type": "code",
        "colab": {}
      },
      "source": [
        "import numpy as np\n",
        "\n",
        "vetor = np.array([9, 8, 7, 6, 5, 4, 3, 2, 1])\n",
        "vetor.sort()\n",
        "vetor"
      ],
      "execution_count": 0,
      "outputs": []
    },
    {
      "cell_type": "markdown",
      "metadata": {
        "id": "QR6jlY0gUpRm",
        "colab_type": "text"
      },
      "source": [
        "### Subconjunto, Fatiamento e Indexação"
      ]
    },
    {
      "cell_type": "code",
      "metadata": {
        "id": "GO9HhO9oUpRs",
        "colab_type": "code",
        "colab": {}
      },
      "source": [
        "import numpy as np\n",
        "\n",
        "vetor = np.array([1, 2, 3, 4, 5])\n",
        "matriz = np.array([(1, 2, 3), (4, 5, 6), (7, 8, 9)])\n",
        "\n",
        "\n",
        "print(vetor[2])        # vetor[i] = Pega o elemento do vetor na posição (i)\n",
        "print(matriz[1, 2])    # vetor[linha, coluna] = Pega um elemento em uma matriz\n",
        "\n",
        "\n",
        "print(vetor[0:3])      # vetor[inicio:quantidade] = Retorna 3 elementos contados à partir da posição de início ([0] \n",
        "print(matriz[1:2])     # Seleciona todos elementos da primeira linha até a terceira coluna\n",
        "print(matriz[0:3, 1])  # matriz[inicio:quantidade, coluna] Seleciona 3 elementos da segunda coluna [1], à partir da primeira linha [0]\n",
        "\n",
        "print(matriz[:1])      # Seleciona todos os itens da primeira linha\n",
        "print(matriz[:2])      # Seleciona todos os itens da primeira linha e segunda linha\n",
        "\n",
        "print(vetor[ : :-1])   # Seleciona todos os elementos de trás pra frente (invertido)\n",
        "\n",
        "# Indexação Lógica\n",
        "print(vetor[vetor <= 3]) # Seleciona todos os elementos dos índices menores iguais a 3\n",
        "print(vetor[1 + 3])      # Calcula dinamicamente a posição do vetor\n",
        "\n",
        "\n",
        "print(matriz[[1, 0, 1, 0]]) # Retorna uma matriz com as linhas 1 e 0 repetidas"
      ],
      "execution_count": 0,
      "outputs": []
    },
    {
      "cell_type": "markdown",
      "metadata": {
        "id": "hIjRgVjNUpR1",
        "colab_type": "text"
      },
      "source": [
        "## Entrada/Saída (I/O)"
      ]
    },
    {
      "cell_type": "code",
      "metadata": {
        "id": "mhahv4L4UpR-",
        "colab_type": "code",
        "colab": {}
      },
      "source": [
        "import numpy as np\n",
        "from io import StringIO\n",
        "\n",
        "data = u\"1, 2, 3\\n4, 5, 6\"\n",
        "vetor = np.genfromtxt(StringIO(data), delimiter=\",\") # Converte dados para vetor\n",
        "np.savetxt(\"nome_arquivo.txt\", vetor, delimiter=\" \") # Salva o vetor como arquivo"
      ],
      "execution_count": 0,
      "outputs": []
    },
    {
      "cell_type": "markdown",
      "metadata": {
        "id": "GvAafpUaUpSN",
        "colab_type": "text"
      },
      "source": [
        "```python\n",
        "# Exemplo - Carregamento de Arquivos\n",
        "np.genfromtxt(\"nome_arquivo.csv\", delimiter=',')\n",
        "np.loadtxt(\"nome_arquivo.txt\")\n",
        "```"
      ]
    },
    {
      "cell_type": "markdown",
      "metadata": {
        "id": "CdppQa0rUpSj",
        "colab_type": "text"
      },
      "source": [
        "# Exercícios"
      ]
    },
    {
      "cell_type": "markdown",
      "metadata": {
        "id": "U_e2YCS2UpSl",
        "colab_type": "text"
      },
      "source": [
        "1. Importe o pacote numpy com o nome np."
      ]
    },
    {
      "cell_type": "code",
      "metadata": {
        "id": "Db_D1EF-UpSo",
        "colab_type": "code",
        "colab": {}
      },
      "source": [
        "import numpy as np"
      ],
      "execution_count": 0,
      "outputs": []
    },
    {
      "cell_type": "markdown",
      "metadata": {
        "id": "KkRUXGC-UpTB",
        "colab_type": "text"
      },
      "source": [
        "2. Crie o seguinte vetor unidimensional (1D):\n",
        "\n",
        "| 0 | 1 | 2 | 3 | 4 | 5 | 6 | 7 | 8 | 9 |\n",
        "|:-:|:-:|:-:|:-:|:-:|:-:|:-:|:-:|:-:|:-:|"
      ]
    },
    {
      "cell_type": "code",
      "metadata": {
        "id": "sP9pwOR9UpTD",
        "colab_type": "code",
        "colab": {}
      },
      "source": [
        "vetor = np.arange(10)"
      ],
      "execution_count": 0,
      "outputs": []
    },
    {
      "cell_type": "markdown",
      "metadata": {
        "id": "nXetLUYfUpTo",
        "colab_type": "text"
      },
      "source": [
        "3. Qual é o comprimento `len` do vetor?"
      ]
    },
    {
      "cell_type": "code",
      "metadata": {
        "id": "PQIXb8cNUpTr",
        "colab_type": "code",
        "outputId": "de5020a0-9b11-40b8-8141-70a57fd52516",
        "colab": {
          "base_uri": "https://localhost:8080/",
          "height": 34
        }
      },
      "source": [
        "len(vetor)"
      ],
      "execution_count": 130,
      "outputs": [
        {
          "output_type": "execute_result",
          "data": {
            "text/plain": [
              "10"
            ]
          },
          "metadata": {
            "tags": []
          },
          "execution_count": 130
        }
      ]
    },
    {
      "cell_type": "markdown",
      "metadata": {
        "id": "osX4I2hqUpUD",
        "colab_type": "text"
      },
      "source": [
        "4. Quantas dimensões `ndim` o vetor possui?"
      ]
    },
    {
      "cell_type": "code",
      "metadata": {
        "id": "pAZCl08dUpUF",
        "colab_type": "code",
        "colab": {
          "base_uri": "https://localhost:8080/",
          "height": 34
        },
        "outputId": "7c29cd6f-ee06-4709-aced-517e077a61d1"
      },
      "source": [
        "np.ndim(vetor)"
      ],
      "execution_count": 131,
      "outputs": [
        {
          "output_type": "execute_result",
          "data": {
            "text/plain": [
              "1"
            ]
          },
          "metadata": {
            "tags": []
          },
          "execution_count": 131
        }
      ]
    },
    {
      "cell_type": "markdown",
      "metadata": {
        "id": "TEYYquT0UpUb",
        "colab_type": "text"
      },
      "source": [
        "5. O que a função `shape` retorna?"
      ]
    },
    {
      "cell_type": "code",
      "metadata": {
        "id": "MofMf0UwUpUd",
        "colab_type": "code",
        "colab": {
          "base_uri": "https://localhost:8080/",
          "height": 34
        },
        "outputId": "6d726b60-9f63-488c-c76f-f3d850e03857"
      },
      "source": [
        "np.shape(vetor)\n",
        "\n",
        "# shape retorna a quantidade de linhas e colunas lidas"
      ],
      "execution_count": 132,
      "outputs": [
        {
          "output_type": "execute_result",
          "data": {
            "text/plain": [
              "(10,)"
            ]
          },
          "metadata": {
            "tags": []
          },
          "execution_count": 132
        }
      ]
    },
    {
      "cell_type": "markdown",
      "metadata": {
        "id": "fBTUkE7dUpUs",
        "colab_type": "text"
      },
      "source": [
        "**Resposta**:"
      ]
    },
    {
      "cell_type": "markdown",
      "metadata": {
        "id": "9aBrW-iKUpUt",
        "colab_type": "text"
      },
      "source": [
        "6. Crie a variável *pares* e extraia todos os números pares do vetor para ela:"
      ]
    },
    {
      "cell_type": "code",
      "metadata": {
        "id": "V1MWePmEUpUv",
        "colab_type": "code",
        "colab": {
          "base_uri": "https://localhost:8080/",
          "height": 34
        },
        "outputId": "7d4bc6e0-489b-483a-aa80-ed64d3acaf51"
      },
      "source": [
        "pares = vetor[vetor% 2 == 0]\n",
        "print(pares)"
      ],
      "execution_count": 135,
      "outputs": [
        {
          "output_type": "stream",
          "text": [
            "[0 2 4 6 8]\n"
          ],
          "name": "stdout"
        }
      ]
    },
    {
      "cell_type": "markdown",
      "metadata": {
        "id": "YA73LUDgUpVD",
        "colab_type": "text"
      },
      "source": [
        "7. Substitua todos os elementos ímpares do vetor por -1, em seguida, ordene os resultados:"
      ]
    },
    {
      "cell_type": "code",
      "metadata": {
        "id": "MtSreBQ3UpVE",
        "colab_type": "code",
        "colab": {
          "base_uri": "https://localhost:8080/",
          "height": 34
        },
        "outputId": "8c0a08ce-769e-4f1b-85b2-3702995793e1"
      },
      "source": [
        "arr = np.copy(vetor)\n",
        "arr[arr % 2 == 1] = -1\n",
        "print(arr)"
      ],
      "execution_count": 146,
      "outputs": [
        {
          "output_type": "stream",
          "text": [
            "[-1 -1 -1 -1 -1  0  2  4  6  8]\n"
          ],
          "name": "stdout"
        }
      ]
    },
    {
      "cell_type": "markdown",
      "metadata": {
        "id": "6gIJhaypUpVs",
        "colab_type": "text"
      },
      "source": [
        "8. Converta o vetor unidimensional (1D) abaixo para uma matriz (2D) com 4 linhas. **Dica:** `reshape`."
      ]
    },
    {
      "cell_type": "code",
      "metadata": {
        "id": "Q732kT4hUpVu",
        "colab_type": "code",
        "colab": {
          "base_uri": "https://localhost:8080/",
          "height": 85
        },
        "outputId": "a0d528ba-2191-4e58-adff-f0972048ef95"
      },
      "source": [
        "vetor = np.arange(12)\n",
        "vetor.reshape(4, -1)"
      ],
      "execution_count": 150,
      "outputs": [
        {
          "output_type": "execute_result",
          "data": {
            "text/plain": [
              "array([[ 0,  1,  2],\n",
              "       [ 3,  4,  5],\n",
              "       [ 6,  7,  8],\n",
              "       [ 9, 10, 11]])"
            ]
          },
          "metadata": {
            "tags": []
          },
          "execution_count": 150
        }
      ]
    },
    {
      "cell_type": "markdown",
      "metadata": {
        "id": "dvXc6s2YUpWI",
        "colab_type": "text"
      },
      "source": [
        "9. Obtenha os itens em comum, ou seja, a intersecção dos vetores `a` e `b` abaixo:\n",
        "**Saída**: [2, 4, 6]"
      ]
    },
    {
      "cell_type": "code",
      "metadata": {
        "id": "pZidYJyCUpWJ",
        "colab_type": "code",
        "colab": {
          "base_uri": "https://localhost:8080/",
          "height": 34
        },
        "outputId": "4d69a25e-66a0-4089-ff0f-2c20e71d21bd"
      },
      "source": [
        "vetor_a = np.array([1, 2, 3,4,12,6])\n",
        "vetor_b = np.array([4, 5, 6,2,9,8])\n",
        "np.intersect1d(vetor_a,vetor_b)"
      ],
      "execution_count": 154,
      "outputs": [
        {
          "output_type": "execute_result",
          "data": {
            "text/plain": [
              "array([2, 4, 6])"
            ]
          },
          "metadata": {
            "tags": []
          },
          "execution_count": 154
        }
      ]
    },
    {
      "cell_type": "markdown",
      "metadata": {
        "id": "gJobTJXdUpWe",
        "colab_type": "text"
      },
      "source": [
        "10. Retorne os valores únicos do vetor `a` que não estão no vetor `b` (diferença).\n",
        "**Saída**: [1, 3]"
      ]
    },
    {
      "cell_type": "code",
      "metadata": {
        "id": "7YCstGnaUpW6",
        "colab_type": "code",
        "colab": {
          "base_uri": "https://localhost:8080/",
          "height": 34
        },
        "outputId": "ee4f578a-8334-4031-85d7-657938c37d78"
      },
      "source": [
        "vetor_a = np.array([1, 2, 3,4,5,6])\n",
        "vetor_b = np.array([4, 5, 6,2,9,8])\n",
        "np.setdiff1d(vetor_a,vetor_b)"
      ],
      "execution_count": 152,
      "outputs": [
        {
          "output_type": "execute_result",
          "data": {
            "text/plain": [
              "array([1, 3])"
            ]
          },
          "metadata": {
            "tags": []
          },
          "execution_count": 152
        }
      ]
    },
    {
      "cell_type": "markdown",
      "metadata": {
        "id": "lR9b58dmUpXn",
        "colab_type": "text"
      },
      "source": [
        "11. Retorne um vetor com as posições (índices) onde os elementos do vetor `a` sãos iguais aos elementos do vetor `b`. **Dica**: `where`.\n",
        "**Saída**: [2, 3, 5]"
      ]
    },
    {
      "cell_type": "code",
      "metadata": {
        "id": "pn6mFLVxUpXt",
        "colab_type": "code",
        "colab": {
          "base_uri": "https://localhost:8080/",
          "height": 34
        },
        "outputId": "c81284eb-428b-4c6e-ea53-9065000c55c7"
      },
      "source": [
        "vetor_a = np.array([1, 2, 3,4,5,8])\n",
        "vetor_b = np.array([4, 5, 3,4,9,8])\n",
        "np.where(vetor_a == vetor_b)"
      ],
      "execution_count": 156,
      "outputs": [
        {
          "output_type": "execute_result",
          "data": {
            "text/plain": [
              "(array([2, 3, 5]),)"
            ]
          },
          "metadata": {
            "tags": []
          },
          "execution_count": 156
        }
      ]
    },
    {
      "cell_type": "markdown",
      "metadata": {
        "id": "pw_vN76KUpX5",
        "colab_type": "text"
      },
      "source": [
        "12. Obtenha todos os itens entre 5 e 15 do vetor `a = [0, 1, 2, 3, . . ., 20]`."
      ]
    },
    {
      "cell_type": "code",
      "metadata": {
        "id": "FBFwufn2UpX6",
        "colab_type": "code",
        "colab": {
          "base_uri": "https://localhost:8080/",
          "height": 34
        },
        "outputId": "4f8c851c-eff6-4194-8cd1-881b5ce589a6"
      },
      "source": [
        "vetor = np.arange(21);\n",
        "index = np.where((vetor >= 5) & (vetor <= 10))\n",
        "vetor[index]"
      ],
      "execution_count": 158,
      "outputs": [
        {
          "output_type": "execute_result",
          "data": {
            "text/plain": [
              "array([ 5,  6,  7,  8,  9, 10])"
            ]
          },
          "metadata": {
            "tags": []
          },
          "execution_count": 158
        }
      ]
    },
    {
      "cell_type": "markdown",
      "metadata": {
        "id": "2z1rHYcjUpYQ",
        "colab_type": "text"
      },
      "source": [
        "13. Crie e imprima um vetor com 5 números aleatórios, sem seguida, obtenha os valores máximo e mínimo dele e mostre na tela."
      ]
    },
    {
      "cell_type": "code",
      "metadata": {
        "id": "3k50nKxvUpYd",
        "colab_type": "code",
        "colab": {
          "base_uri": "https://localhost:8080/",
          "height": 68
        },
        "outputId": "5fc502dd-0555-4368-b863-d4519be3a076"
      },
      "source": [
        "vetor = np.random.rand(5);\n",
        "print(vetor);\n",
        "print(vetor.max());\n",
        "print(vetor.min())"
      ],
      "execution_count": 163,
      "outputs": [
        {
          "output_type": "stream",
          "text": [
            "[0.60400701 0.21566621 0.98649562 0.81228688 0.4171057 ]\n",
            "0.9864956201122275\n",
            "0.21566621365683014\n"
          ],
          "name": "stdout"
        }
      ]
    },
    {
      "cell_type": "markdown",
      "metadata": {
        "id": "UqF4Dsl5UpY5",
        "colab_type": "text"
      },
      "source": [
        "14. Crie a seguinte matriz:\n",
        "\n",
        "|   |   |   |\n",
        "|:-:|:-:|:-:|\n",
        "| 7 | 8 | 9 |\n",
        "| 4 | 5 | 6 |\n",
        "| 1 | 2 | 3 |"
      ]
    },
    {
      "cell_type": "code",
      "metadata": {
        "id": "2scPIekeUpY6",
        "colab_type": "code",
        "colab": {
          "base_uri": "https://localhost:8080/",
          "height": 68
        },
        "outputId": "51164b4a-17a1-4756-bf4f-88c00bdb6d81"
      },
      "source": [
        "matriz = np.array([(7, 8, 9), (4, 5, 6),(1, 2, 3)])\n",
        "matriz"
      ],
      "execution_count": 166,
      "outputs": [
        {
          "output_type": "execute_result",
          "data": {
            "text/plain": [
              "array([[7, 8, 9],\n",
              "       [4, 5, 6],\n",
              "       [1, 2, 3]])"
            ]
          },
          "metadata": {
            "tags": []
          },
          "execution_count": 166
        }
      ]
    },
    {
      "cell_type": "markdown",
      "metadata": {
        "id": "5Sos7hACUpZc",
        "colab_type": "text"
      },
      "source": [
        "15. Troque de lugar a primeira coluna com a útllima coluna da matriz."
      ]
    },
    {
      "cell_type": "code",
      "metadata": {
        "id": "45JneyYmUpZj",
        "colab_type": "code",
        "colab": {
          "base_uri": "https://localhost:8080/",
          "height": 68
        },
        "outputId": "f3634f57-cfcd-44c9-c2e1-d0985eb16327"
      },
      "source": [
        "print(matriz)"
      ],
      "execution_count": 175,
      "outputs": [
        {
          "output_type": "stream",
          "text": [
            "[[7 8 9]\n",
            " [4 5 6]\n",
            " [1 2 3]]\n"
          ],
          "name": "stdout"
        }
      ]
    },
    {
      "cell_type": "markdown",
      "metadata": {
        "id": "B3xCStP0UpZw",
        "colab_type": "text"
      },
      "source": [
        "16. Troque de lugar a primeira linha com a útllima linha da matriz."
      ]
    },
    {
      "cell_type": "code",
      "metadata": {
        "id": "kk1NyUENUpZz",
        "colab_type": "code",
        "colab": {
          "base_uri": "https://localhost:8080/",
          "height": 68
        },
        "outputId": "9884131a-6062-4d0c-9f25-0b18d7b88bef"
      },
      "source": [
        "print(matriz[[2, 1, 0 ]]);"
      ],
      "execution_count": 169,
      "outputs": [
        {
          "output_type": "stream",
          "text": [
            "[[1 2 3]\n",
            " [4 5 6]\n",
            " [7 8 9]]\n"
          ],
          "name": "stdout"
        }
      ]
    },
    {
      "cell_type": "markdown",
      "metadata": {
        "id": "A-p7IpJTUpaH",
        "colab_type": "text"
      },
      "source": [
        "17. Crie uma matriz  7 × 5 preenchida com números decimais aleatórios entre 1 e 5."
      ]
    },
    {
      "cell_type": "code",
      "metadata": {
        "id": "fWMvw79EUpaJ",
        "colab_type": "code",
        "colab": {
          "base_uri": "https://localhost:8080/",
          "height": 136
        },
        "outputId": "d152654e-c48f-4a91-a116-ab9af58546ec"
      },
      "source": [
        "matriz_random = np.random.uniform(1,5, size=(7,5));\n",
        "print(matriz);"
      ],
      "execution_count": 185,
      "outputs": [
        {
          "output_type": "stream",
          "text": [
            "[[3.42877482 3.26377857 1.02705625 3.46976684 4.64849155]\n",
            " [4.16209653 4.96832586 4.83520705 4.16785654 2.14100384]\n",
            " [3.49966682 2.91237518 1.78270071 2.52926981 1.21549474]\n",
            " [2.80659363 4.92801897 1.4957708  1.47752359 3.95409222]\n",
            " [3.34921453 2.88653014 1.42850727 1.91687426 4.59986078]\n",
            " [2.66701415 3.14340665 1.02483407 2.20256682 2.74757269]\n",
            " [3.44859599 4.6727923  3.50294668 3.82399026 1.59933486]]\n"
          ],
          "name": "stdout"
        }
      ]
    },
    {
      "cell_type": "markdown",
      "metadata": {
        "id": "4nVP14f2Upar",
        "colab_type": "text"
      },
      "source": [
        "18. Qual é o comprimento `len` da matriz?"
      ]
    },
    {
      "cell_type": "code",
      "metadata": {
        "id": "gdRhwdjHUpay",
        "colab_type": "code",
        "colab": {
          "base_uri": "https://localhost:8080/",
          "height": 34
        },
        "outputId": "ed378b4d-e2c8-4b3a-934b-5b17ee5b6fe0"
      },
      "source": [
        "len(matriz_random)"
      ],
      "execution_count": 186,
      "outputs": [
        {
          "output_type": "execute_result",
          "data": {
            "text/plain": [
              "7"
            ]
          },
          "metadata": {
            "tags": []
          },
          "execution_count": 186
        }
      ]
    },
    {
      "cell_type": "markdown",
      "metadata": {
        "id": "pCO7mpKfUpbc",
        "colab_type": "text"
      },
      "source": [
        "19. Quantas dimensões `ndim` a matriz possui?"
      ]
    },
    {
      "cell_type": "code",
      "metadata": {
        "id": "g-t7emDtUpbe",
        "colab_type": "code",
        "colab": {
          "base_uri": "https://localhost:8080/",
          "height": 34
        },
        "outputId": "af9bf5b5-2eec-49ec-c8ee-6c7577aa9142"
      },
      "source": [
        "np.ndim(matriz_random)"
      ],
      "execution_count": 187,
      "outputs": [
        {
          "output_type": "execute_result",
          "data": {
            "text/plain": [
              "2"
            ]
          },
          "metadata": {
            "tags": []
          },
          "execution_count": 187
        }
      ]
    },
    {
      "cell_type": "markdown",
      "metadata": {
        "id": "ALiGCKpOUpb4",
        "colab_type": "text"
      },
      "source": [
        "20. O que a função `shape` retorna?"
      ]
    },
    {
      "cell_type": "code",
      "metadata": {
        "id": "fRQZvwPkUpb6",
        "colab_type": "code",
        "colab": {
          "base_uri": "https://localhost:8080/",
          "height": 34
        },
        "outputId": "b24eb1e7-6d0b-4a2c-9495-ffee9730e76b"
      },
      "source": [
        "np.shape(matriz_random)\n",
        "# retorna o numero de linhas e colunas da matriz"
      ],
      "execution_count": 188,
      "outputs": [
        {
          "output_type": "execute_result",
          "data": {
            "text/plain": [
              "(7, 5)"
            ]
          },
          "metadata": {
            "tags": []
          },
          "execution_count": 188
        }
      ]
    },
    {
      "cell_type": "markdown",
      "metadata": {
        "id": "ybw768KrUpca",
        "colab_type": "text"
      },
      "source": [
        "**Resposta**:"
      ]
    },
    {
      "cell_type": "markdown",
      "metadata": {
        "id": "63jlfrAPUpce",
        "colab_type": "text"
      },
      "source": [
        "# EXERCÍCIO: Análise de Dados dos Jogadores da FIFA ⚽"
      ]
    },
    {
      "cell_type": "markdown",
      "metadata": {
        "id": "nlY9X5LgUpcf",
        "colab_type": "text"
      },
      "source": [
        "Neste exercício, iremos usar a biblioteca NumPy para fazer uma análise de dados de jogares de futebol da FIFA disponíveis em [`data/fifa.csv`](data/fifa.csv). O conjunto de dados (dataset) foi adaptado da versão original disponibilizada nas plataformas: [Kaggle](https://www.kaggle.com/karangadiya/fifa19/data) e [GitHub](https://github.com/amanthedorkknight/fifa18-all-player-statistics).\n",
        "\n",
        "## Dicionário de Dados\n",
        "\n",
        "| Coluna        | Descrição                                        |\n",
        "|:--------------|:-------------------------------------------------|\n",
        "| id            | Identificador único do jogador                   |\n",
        "| nome          | Nome do jogador                                  |\n",
        "| foto          | URL da fotografia do jogador.                    |\n",
        "| nacionalidade | País do jogador.                                 |\n",
        "| avaliacao     | Avaliação geral do jogador.                      |\n",
        "| potencial     | Indicador da classificação potencial do jogador. |\n",
        "| time          | Nome do time do jogador.                         |\n",
        "| pe_preferido  | Direito (Destro), Esquerdo (Canhoto).            |\n",
        "| reputacao     | Reputação Internacional do jogador.              |\n",
        "| altura_cm     | Altura do jogador em centímetros (cm).           |\n",
        "| peso_kg       | Peso do jogador em kilos (kg).                   |\n",
        "| posicao       | Posição do jogador no time.                      |\n",
        "| numero_camisa | Número da camisa do jogador.                     |"
      ]
    },
    {
      "cell_type": "markdown",
      "metadata": {
        "id": "pyYFhnL9Upch",
        "colab_type": "text"
      },
      "source": [
        "1. Importe o pacote numpy com o nome np."
      ]
    },
    {
      "cell_type": "code",
      "metadata": {
        "id": "OFt5mRHNUpcj",
        "colab_type": "code",
        "colab": {}
      },
      "source": [
        "import numpy as np\n"
      ],
      "execution_count": 0,
      "outputs": []
    },
    {
      "cell_type": "markdown",
      "metadata": {
        "id": "qEXXagaUUpdP",
        "colab_type": "text"
      },
      "source": [
        "2. Carregue o conjunto de dados da Fifa disponível na pasta (`data/fifa.csv`), ignorando a coluna `foto`, para uma matriz em uma variavel chamada `dados`. **Dicas:**\n",
        "    - Pesquise pela função `genfromtxt`; \n",
        "    - Não esqueça de especificar a codificação (encoding) como UTF-8;\n",
        "    - Ignore o cabeçalho dos dados usando o parâmetro `skip_header=True`"
      ]
    },
    {
      "cell_type": "code",
      "metadata": {
        "id": "YrYL3CAGUpdQ",
        "colab_type": "code",
        "colab": {
          "base_uri": "https://localhost:8080/",
          "height": 187
        },
        "outputId": "dd4e4e1f-3fe8-4477-b694-720af01a650f"
      },
      "source": [
        "dados = np.genfromtxt('data/fifa.csv',\n",
        "                      delimiter=',',\n",
        "                      encoding='utf-8',\n",
        "                      dtype=object,\n",
        "                      skip_header=True,\n",
        "                      usecols=[0,1,2,4,5,6,7,8,9,10,11,12]\n",
        "                      )\n",
        "dados"
      ],
      "execution_count": 41,
      "outputs": [
        {
          "output_type": "execute_result",
          "data": {
            "text/plain": [
              "array([[b'158023', b'L. Messi', b'31', ..., b'170', b'72.121', b'RF'],\n",
              "       [b'20801', b'Cristiano Ronaldo', b'33', ..., b'188', b'83.007',\n",
              "        b'ST'],\n",
              "       [b'190871', b'Neymar Jr', b'26', ..., b'175', b'68.039', b'LW'],\n",
              "       ...,\n",
              "       [b'241638', b'B. Worman', b'16', ..., b'173', b'67.132', b'ST'],\n",
              "       [b'246268', b'D. Walker-Rice', b'17', ..., b'152', b'69.853',\n",
              "        b'RW'],\n",
              "       [b'246269', b'G. Nugent', b'16', ..., b'152', b'79.832', b'CM']],\n",
              "      dtype=object)"
            ]
          },
          "metadata": {
            "tags": []
          },
          "execution_count": 41
        }
      ]
    },
    {
      "cell_type": "markdown",
      "metadata": {
        "id": "lN0Zbp0vUpeW",
        "colab_type": "text"
      },
      "source": [
        "3. Quantas linhas foram lidas do arquivo?"
      ]
    },
    {
      "cell_type": "code",
      "metadata": {
        "id": "6zrCq6hAUpeY",
        "colab_type": "code",
        "colab": {
          "base_uri": "https://localhost:8080/",
          "height": 34
        },
        "outputId": "219dd4ad-5736-4cf0-82d9-8f01b3889684"
      },
      "source": [
        "len(dados)"
      ],
      "execution_count": 12,
      "outputs": [
        {
          "output_type": "execute_result",
          "data": {
            "text/plain": [
              "18207"
            ]
          },
          "metadata": {
            "tags": []
          },
          "execution_count": 12
        }
      ]
    },
    {
      "cell_type": "markdown",
      "metadata": {
        "id": "t2J7KPvOUpep",
        "colab_type": "text"
      },
      "source": [
        "4. Quantas dimensões sua variável `dados` possui?"
      ]
    },
    {
      "cell_type": "code",
      "metadata": {
        "id": "YTLpQSc9Upe4",
        "colab_type": "code",
        "colab": {
          "base_uri": "https://localhost:8080/",
          "height": 34
        },
        "outputId": "072fd2f1-7122-48fb-89fc-fbeef27b740b"
      },
      "source": [
        "np.ndim(dados)"
      ],
      "execution_count": 42,
      "outputs": [
        {
          "output_type": "execute_result",
          "data": {
            "text/plain": [
              "2"
            ]
          },
          "metadata": {
            "tags": []
          },
          "execution_count": 42
        }
      ]
    },
    {
      "cell_type": "markdown",
      "metadata": {
        "id": "DyoX16kwUpfa",
        "colab_type": "text"
      },
      "source": [
        "5. O que a função shape retorna?"
      ]
    },
    {
      "cell_type": "code",
      "metadata": {
        "id": "kSDqFfgLUpfb",
        "colab_type": "code",
        "colab": {
          "base_uri": "https://localhost:8080/",
          "height": 34
        },
        "outputId": "9d6cb3e2-7267-4926-e12f-022bb969d311"
      },
      "source": [
        "np.shape(dados)\n",
        "\n",
        "# shape retorna a quantidade de linhas e colunas"
      ],
      "execution_count": 43,
      "outputs": [
        {
          "output_type": "execute_result",
          "data": {
            "text/plain": [
              "(18207, 12)"
            ]
          },
          "metadata": {
            "tags": []
          },
          "execution_count": 43
        }
      ]
    },
    {
      "cell_type": "markdown",
      "metadata": {
        "id": "nJW7QsJYUpfn",
        "colab_type": "text"
      },
      "source": [
        "**Resposta**:"
      ]
    },
    {
      "cell_type": "markdown",
      "metadata": {
        "id": "bavbKxSaUpfw",
        "colab_type": "text"
      },
      "source": [
        "6. Mostre o dado que está na 3ª linha da 4ª coluna?"
      ]
    },
    {
      "cell_type": "code",
      "metadata": {
        "id": "LOgXTDUrUpfy",
        "colab_type": "code",
        "colab": {
          "base_uri": "https://localhost:8080/",
          "height": 34
        },
        "outputId": "8fa300f3-90e4-4032-f928-cd971dad0bb1"
      },
      "source": [
        "dados[2,3]"
      ],
      "execution_count": 21,
      "outputs": [
        {
          "output_type": "execute_result",
          "data": {
            "text/plain": [
              "b'Brasil'"
            ]
          },
          "metadata": {
            "tags": []
          },
          "execution_count": 21
        }
      ]
    },
    {
      "cell_type": "markdown",
      "metadata": {
        "id": "FzNhLffaUpgG",
        "colab_type": "text"
      },
      "source": [
        "7. Exiba os dados da primeira linha do dataset."
      ]
    },
    {
      "cell_type": "code",
      "metadata": {
        "id": "zJTBobzKUpgI",
        "colab_type": "code",
        "colab": {
          "base_uri": "https://localhost:8080/",
          "height": 68
        },
        "outputId": "28dc3ba6-a9a3-4c41-cbd1-2b4cb8a9bca6"
      },
      "source": [
        "dados[0]"
      ],
      "execution_count": 44,
      "outputs": [
        {
          "output_type": "execute_result",
          "data": {
            "text/plain": [
              "array([b'158023', b'L. Messi', b'31', b'Argentina', b'94', b'94',\n",
              "       b'FC Barcelona', b'Esquerdo', b'5', b'170', b'72.121', b'RF'],\n",
              "      dtype=object)"
            ]
          },
          "metadata": {
            "tags": []
          },
          "execution_count": 44
        }
      ]
    },
    {
      "cell_type": "markdown",
      "metadata": {
        "id": "jhxFwLggUpgd",
        "colab_type": "text"
      },
      "source": [
        "8. Mostre as 5 primeiras linhas do conjunto de dados."
      ]
    },
    {
      "cell_type": "code",
      "metadata": {
        "id": "yRFT1zs7Upgh",
        "colab_type": "code",
        "colab": {
          "base_uri": "https://localhost:8080/",
          "height": 221
        },
        "outputId": "90c41b4e-08ab-4619-cd0b-5ac5aec4e7f2"
      },
      "source": [
        "dados[:5]"
      ],
      "execution_count": 45,
      "outputs": [
        {
          "output_type": "execute_result",
          "data": {
            "text/plain": [
              "array([[b'158023', b'L. Messi', b'31', b'Argentina', b'94', b'94',\n",
              "        b'FC Barcelona', b'Esquerdo', b'5', b'170', b'72.121', b'RF'],\n",
              "       [b'20801', b'Cristiano Ronaldo', b'33', b'Portugal', b'94', b'94',\n",
              "        b'Juventus', b'Direito', b'5', b'188', b'83.007', b'ST'],\n",
              "       [b'190871', b'Neymar Jr', b'26', b'Brasil', b'92', b'93',\n",
              "        b'Paris Saint-Germain', b'Direito', b'5', b'175', b'68.039',\n",
              "        b'LW'],\n",
              "       [b'193080', b'De Gea', b'27', b'Espanha', b'91', b'93',\n",
              "        b'Manchester United', b'Direito', b'4', b'193', b'76.204', b'GK'],\n",
              "       [b'192985', b'K. De Bruyne', b'27', b'B\\xe9lgica', b'91', b'92',\n",
              "        b'Manchester City', b'Direito', b'4', b'155', b'69.853', b'RCM']],\n",
              "      dtype=object)"
            ]
          },
          "metadata": {
            "tags": []
          },
          "execution_count": 45
        }
      ]
    },
    {
      "cell_type": "markdown",
      "metadata": {
        "id": "OQ86zpbJUpgx",
        "colab_type": "text"
      },
      "source": [
        "9. Selecione todas as linhas da coluna `nome` (segunda coluna). **Dica:** use o operador `:`"
      ]
    },
    {
      "cell_type": "code",
      "metadata": {
        "id": "2qlrPWb6Upgy",
        "colab_type": "code",
        "colab": {
          "base_uri": "https://localhost:8080/",
          "height": 51
        },
        "outputId": "756ffd8f-862c-4f94-8d82-94d5b8e53479"
      },
      "source": [
        "dados[:,1]"
      ],
      "execution_count": 46,
      "outputs": [
        {
          "output_type": "execute_result",
          "data": {
            "text/plain": [
              "array([b'L. Messi', b'Cristiano Ronaldo', b'Neymar Jr', ..., b'B. Worman',\n",
              "       b'D. Walker-Rice', b'G. Nugent'], dtype=object)"
            ]
          },
          "metadata": {
            "tags": []
          },
          "execution_count": 46
        }
      ]
    },
    {
      "cell_type": "markdown",
      "metadata": {
        "id": "canKnO4IUphD",
        "colab_type": "text"
      },
      "source": [
        "10. Inicialize um vetor de inteiros NumPy chamado: **idades**; com todas as linhas da coluna `idade` (3ª coluna)."
      ]
    },
    {
      "cell_type": "code",
      "metadata": {
        "id": "RKLmE2zDUphI",
        "colab_type": "code",
        "colab": {
          "base_uri": "https://localhost:8080/",
          "height": 34
        },
        "outputId": "07069b9e-57ff-4fc3-9cc6-932e6cca6fb3"
      },
      "source": [
        "idades = np.array(dados[:,2],dtype=int)\n",
        "idades"
      ],
      "execution_count": 28,
      "outputs": [
        {
          "output_type": "execute_result",
          "data": {
            "text/plain": [
              "array([31, 33, 26, ..., 16, 17, 16])"
            ]
          },
          "metadata": {
            "tags": []
          },
          "execution_count": 28
        }
      ]
    },
    {
      "cell_type": "markdown",
      "metadata": {
        "id": "wCegNS_bUphN",
        "colab_type": "text"
      },
      "source": [
        "11. Qual é a média de idades dos jogadores?"
      ]
    },
    {
      "cell_type": "code",
      "metadata": {
        "id": "4EhvkOBSUphp",
        "colab_type": "code",
        "colab": {
          "base_uri": "https://localhost:8080/",
          "height": 34
        },
        "outputId": "5d5f66b0-e397-493f-cf38-1fd0f5d18e64"
      },
      "source": [
        "idades.mean()"
      ],
      "execution_count": 29,
      "outputs": [
        {
          "output_type": "execute_result",
          "data": {
            "text/plain": [
              "25.122205745043114"
            ]
          },
          "metadata": {
            "tags": []
          },
          "execution_count": 29
        }
      ]
    },
    {
      "cell_type": "markdown",
      "metadata": {
        "id": "xB33AD0tUpiH",
        "colab_type": "text"
      },
      "source": [
        "12. Qual é a maior idade do conjunto de dados?"
      ]
    },
    {
      "cell_type": "code",
      "metadata": {
        "id": "7OxILb06UpiO",
        "colab_type": "code",
        "colab": {
          "base_uri": "https://localhost:8080/",
          "height": 34
        },
        "outputId": "98eff250-0603-4b66-9cdf-8a9b9b714e66"
      },
      "source": [
        "idades.max()"
      ],
      "execution_count": 31,
      "outputs": [
        {
          "output_type": "execute_result",
          "data": {
            "text/plain": [
              "45"
            ]
          },
          "metadata": {
            "tags": []
          },
          "execution_count": 31
        }
      ]
    },
    {
      "cell_type": "markdown",
      "metadata": {
        "id": "dBwArfmnUpiy",
        "colab_type": "text"
      },
      "source": [
        "13. Qual é a menor idade do conjunto de dados?"
      ]
    },
    {
      "cell_type": "code",
      "metadata": {
        "id": "fo3bNfyAUpi5",
        "colab_type": "code",
        "colab": {
          "base_uri": "https://localhost:8080/",
          "height": 34
        },
        "outputId": "67227b80-761d-4fe4-978e-98a4a2e0dc0d"
      },
      "source": [
        "idades.min()"
      ],
      "execution_count": 32,
      "outputs": [
        {
          "output_type": "execute_result",
          "data": {
            "text/plain": [
              "16"
            ]
          },
          "metadata": {
            "tags": []
          },
          "execution_count": 32
        }
      ]
    },
    {
      "cell_type": "markdown",
      "metadata": {
        "id": "kjM9LlB-UpjB",
        "colab_type": "text"
      },
      "source": [
        "14. Selecione todos os jogadores que possuem a maior idade deste conjunto de dados. Quantas linhas retornaram? "
      ]
    },
    {
      "cell_type": "code",
      "metadata": {
        "id": "Ypaz3mOzUpjC",
        "colab_type": "code",
        "colab": {
          "base_uri": "https://localhost:8080/",
          "height": 34
        },
        "outputId": "18b2084e-26e7-46a1-a15d-50bb6c606fbf"
      },
      "source": [
        "maior_idade = idades.max();\n",
        "condicao = dados[:,2].astype(int) == maior_idade;\n",
        "\n",
        "dados[condicao, :]\n",
        "len(dados[condicao, :])"
      ],
      "execution_count": 36,
      "outputs": [
        {
          "output_type": "execute_result",
          "data": {
            "text/plain": [
              "1"
            ]
          },
          "metadata": {
            "tags": []
          },
          "execution_count": 36
        }
      ]
    },
    {
      "cell_type": "markdown",
      "metadata": {
        "id": "qGV8Uk5NUpjO",
        "colab_type": "text"
      },
      "source": [
        "15. Selecione todos os jogadores que possuem a menor idade deste conjunto de dados. Quantas linhas retornaram? "
      ]
    },
    {
      "cell_type": "code",
      "metadata": {
        "id": "gO_nukldUpjP",
        "colab_type": "code",
        "colab": {
          "base_uri": "https://localhost:8080/",
          "height": 34
        },
        "outputId": "23a32cfc-58a0-4dca-ddeb-215c66fde423"
      },
      "source": [
        "menor_idade = idades.min();\n",
        "condicao = dados[:,2].astype(int) == menor_idade;\n",
        "\n",
        "dados[condicao, :]\n",
        "len(dados[condicao, :])"
      ],
      "execution_count": 37,
      "outputs": [
        {
          "output_type": "execute_result",
          "data": {
            "text/plain": [
              "42"
            ]
          },
          "metadata": {
            "tags": []
          },
          "execution_count": 37
        }
      ]
    },
    {
      "cell_type": "markdown",
      "metadata": {
        "id": "ExaVOc6HUpjt",
        "colab_type": "text"
      },
      "source": [
        "16. Selecione todos os jogadores brasileiros para uma variável chamada dados_brasil. Use `b'Brasil'` para fazer a comparação."
      ]
    },
    {
      "cell_type": "code",
      "metadata": {
        "id": "RFdyFi4ZUpj0",
        "colab_type": "code",
        "colab": {
          "base_uri": "https://localhost:8080/",
          "height": 1000
        },
        "outputId": "a2a73ee9-faaa-4e5b-a540-26195e25e14d"
      },
      "source": [
        "condicao = dados[:,3] == b'Brasil';\n",
        "dados_brasil = dados[condicao,:]\n",
        "dados_brasil"
      ],
      "execution_count": 39,
      "outputs": [
        {
          "output_type": "execute_result",
          "data": {
            "text/plain": [
              "array([[b'190871', b'Neymar Jr', b'26', b'Brasil', b'92', b'93',\n",
              "        b'Paris Saint-Germain', b'Direito', b'5', b'175', b'68.039'],\n",
              "       [b'200145', b'Casemiro', b'26', b'Brasil', b'88', b'90',\n",
              "        b'Real Madrid', b'Direito', b'3', b'185', b'83.915'],\n",
              "       [b'189242', b'Coutinho', b'26', b'Brasil', b'88', b'89',\n",
              "        b'FC Barcelona', b'Direito', b'3', b'173', b'68.039'],\n",
              "       [b'176676', b'Marcelo', b'30', b'Brasil', b'88', b'88',\n",
              "        b'Real Madrid', b'Esquerdo', b'4', b'175', b'79.832'],\n",
              "       [b'164240', b'Thiago Silva', b'33', b'Brasil', b'88', b'88',\n",
              "        b'Paris Saint-Germain', b'Direito', b'4', b'183', b'82.100'],\n",
              "       [b'210257', b'Ederson', b'24', b'Brasil', b'86', b'90',\n",
              "        b'Manchester City', b'Esquerdo', b'2', b'188', b'86.183'],\n",
              "       [b'201942', b'Roberto Firmino', b'26', b'Brasil', b'86', b'87',\n",
              "        b'Liverpool', b'Direito', b'3', b'155', b'76.204'],\n",
              "       [b'191043', b'Alex Sandro', b'27', b'Brasil', b'86', b'86',\n",
              "        b'Juventus', b'Esquerdo', b'3', b'155', b'79.832'],\n",
              "       [b'190483', b'Douglas Costa', b'27', b'Brasil', b'86', b'86',\n",
              "        b'Juventus', b'Esquerdo', b'3', b'173', b'69.853'],\n",
              "       [b'135507', b'Fernandinho', b'33', b'Brasil', b'86', b'86',\n",
              "        b'Manchester City', b'Direito', b'3', b'152', b'67.132'],\n",
              "       [b'212831', b'Alisson', b'25', b'Brasil', b'85', b'90',\n",
              "        b'Liverpool', b'Direito', b'3', b'191', b'91.172'],\n",
              "       [b'187961', b'Paulinho', b'29', b'Brasil', b'85', b'85',\n",
              "        b'Guangzhou Evergrande Taobao FC', b'Direito', b'3', b'183',\n",
              "        b'71.214'],\n",
              "       [b'171919', b'Naldo', b'35', b'Brasil', b'85', b'85',\n",
              "        b'FC Schalke 04', b'Direito', b'3', b'198', b'91.172'],\n",
              "       [b'168609', b'Miranda', b'33', b'Brasil', b'85', b'85', b'Inter',\n",
              "        b'Direito', b'3', b'185', b'78.018'],\n",
              "       [b'164169', b'Filipe Lu\\xeds', b'32', b'Brasil', b'85', b'85',\n",
              "        b'Atl\\xe9tico Madrid', b'Esquerdo', b'3', b'183', b'73.936'],\n",
              "       [b'212462', b'Alex Telles', b'25', b'Brasil', b'84', b'87',\n",
              "        b'FC Porto', b'Esquerdo', b'3', b'155', b'71.214'],\n",
              "       [b'209499', b'Fabinho', b'24', b'Brasil', b'84', b'88',\n",
              "        b'Liverpool', b'Direito', b'3', b'188', b'78.018'],\n",
              "       [b'207865', b'Marquinhos', b'24', b'Brasil', b'84', b'89',\n",
              "        b'Paris Saint-Germain', b'Direito', b'3', b'183', b'74.843'],\n",
              "       [b'180403', b'Willian', b'29', b'Brasil', b'84', b'84',\n",
              "        b'Chelsea', b'Direito', b'3', b'175', b'78.018'],\n",
              "       [b'176769', b'Jonas', b'34', b'Brasil', b'84', b'84',\n",
              "        b'SL Benfica', b'Direito', b'3', b'155', b'73.936'],\n",
              "       [b'230666', b'Gabriel Jesus', b'21', b'Brasil', b'83', b'92',\n",
              "        b'Manchester City', b'Direito', b'2', b'175', b'73.028'],\n",
              "       [b'230481', b'Ronaldo Cabrais', b'26', b'Brasil', b'83', b'83',\n",
              "        b'Gr\\xeamio', b'Direito', b'1', b'152', b'74.843'],\n",
              "       [b'230375', b'Josu\\xe9 Chiamulera', b'26', b'Brasil', b'83',\n",
              "        b'83', b'Gr\\xeamio', b'Direito', b'1', b'185', b'79.832'],\n",
              "       [b'230294', b'Louri Beretta', b'26', b'Brasil', b'83', b'83',\n",
              "        b'Atl\\xe9tico Mineiro', b'Direito', b'1', b'188', b'83.007'],\n",
              "       [b'212523', b'Anderson Talisca', b'24', b'Brasil', b'83', b'90',\n",
              "        b'Guangzhou Evergrande Taobao FC', b'Esquerdo', b'2', b'191',\n",
              "        b'79.832'],\n",
              "       [b'207863', b'Felipe', b'29', b'Brasil', b'83', b'83',\n",
              "        b'FC Porto', b'Direito', b'3', b'191', b'86.183'],\n",
              "       [b'201995', b'Felipe Anderson', b'25', b'Brasil', b'83', b'85',\n",
              "        b'West Ham United', b'Direito', b'3', b'175', b'69.853'],\n",
              "       [b'200949', b'Lucas Moura', b'25', b'Brasil', b'83', b'84',\n",
              "        b'Tottenham Hotspur', b'Direito', b'3', b'175', b'69.853'],\n",
              "       [b'199914', b'Allan', b'27', b'Brasil', b'83', b'83', b'Napoli',\n",
              "        b'Direito', b'2', b'175', b'73.936'],\n",
              "       [b'194404', b'Neto', b'28', b'Brasil', b'83', b'84',\n",
              "        b'Valencia CF', b'Direito', b'2', b'191', b'83.915'],\n",
              "       [b'188152', b'Oscar', b'26', b'Brasil', b'83', b'84',\n",
              "        b'Shanghai SIPG FC', b'Direito', b'3', b'152', b'66.224'],\n",
              "       [b'185221', b'Luiz Gustavo', b'30', b'Brasil', b'83', b'83',\n",
              "        b'Olympique de Marseille', b'Esquerdo', b'3', b'188', b'78.018'],\n",
              "       [b'184942', b'Giuliano', b'28', b'Brasil', b'83', b'83',\n",
              "        b'Al Nassr', b'Direito', b'2', b'173', b'68.039'],\n",
              "       [b'179944', b'David Luiz', b'31', b'Brasil', b'83', b'83',\n",
              "        b'Chelsea', b'Direito', b'4', b'188', b'86.183'],\n",
              "       [b'176266', b'Lucas Leiva', b'31', b'Brasil', b'83', b'83',\n",
              "        b'Lazio', b'Direito', b'3', b'152', b'78.018'],\n",
              "       [b'230658', b'Arthur', b'21', b'Brasil', b'82', b'90',\n",
              "        b'FC Barcelona', b'Direito', b'1', b'170', b'73.028'],\n",
              "       [b'230258', b'Rosberto Dourado', b'30', b'Brasil', b'82', b'82',\n",
              "        b'Atl\\xe9tico Mineiro', b'Direito', b'1', b'175', b'69.853'],\n",
              "       [b'230225', b'Juiano Mestres', b'34', b'Brasil', b'82', b'82',\n",
              "        b'Cruzeiro', b'Direito', b'1', b'155', b'82.100'],\n",
              "       [b'230168', b'Raphaelito Anjos', b'30', b'Brasil', b'82', b'82',\n",
              "        b'Gr\\xeamio', b'Direito', b'1', b'191', b'84.822'],\n",
              "       [b'222737', b'Malcom', b'21', b'Brasil', b'82', b'89',\n",
              "        b'FC Barcelona', b'Esquerdo', b'2', b'173', b'73.936'],\n",
              "       [b'209297', b'Fred', b'25', b'Brasil', b'82', b'84',\n",
              "        b'Manchester United', b'Esquerdo', b'1', b'170', b'63.957'],\n",
              "       [b'201400', b'Rafinha', b'25', b'Brasil', b'82', b'87',\n",
              "        b'FC Barcelona', b'Esquerdo', b'2', b'175', b'71.214'],\n",
              "       [b'201305', b'Gabriel Paulista', b'27', b'Brasil', b'82', b'83',\n",
              "        b'Valencia CF', b'Direito', b'2', b'188', b'78.925'],\n",
              "       [b'195093', b'Willian Jos\\xe9', b'26', b'Brasil', b'82', b'83',\n",
              "        b'Real Sociedad', b'Direito', b'2', b'188', b'92.986'],\n",
              "       [b'188803', b'Taison', b'30', b'Brasil', b'82', b'82',\n",
              "        b'Shakhtar Donetsk', b'Direito', b'2', b'173', b'63.957'],\n",
              "       [b'168530', b'Jardel', b'32', b'Brasil', b'82', b'82',\n",
              "        b'SL Benfica', b'Direito', b'2', b'193', b'87.090'],\n",
              "       [b'146530', b'Dani Alves', b'35', b'Brasil', b'82', b'82',\n",
              "        b'Paris Saint-Germain', b'Direito', b'4', b'173', b'68.039'],\n",
              "       [b'230271', b'Laure Santeiro', b'30', b'Brasil', b'81', b'81',\n",
              "        b'Fluminense', b'Esquerdo', b'1', b'170', b'63.049'],\n",
              "       [b'189362', b'Hulk', b'31', b'Brasil', b'81', b'81',\n",
              "        b'Shanghai SIPG FC', b'Esquerdo', b'4', b'155', b'84.822'],\n",
              "       [b'169195', b'Renato Augusto', b'30', b'Brasil', b'81', b'81',\n",
              "        b'Beijing Sinobo Guoan FC', b'Direito', b'2', b'185', b'86.183'],\n",
              "       [b'144622', b'Raffael', b'33', b'Brasil', b'81', b'81',\n",
              "        b'Borussia M\\xf6nchengladbach', b'Direito', b'2', b'175',\n",
              "        b'68.946'],\n",
              "       [b'230347', b'Welington Dano', b'30', b'Brasil', b'80', b'80',\n",
              "        b'Cruzeiro', b'Esquerdo', b'1', b'152', b'68.946'],\n",
              "       [b'230234', b'Everton Andr\\xe3o', b'34', b'Brasil', b'80', b'80',\n",
              "        b'Fluminense', b'Direito', b'1', b'152', b'74.843'],\n",
              "       [b'221540', b'Ra\\xfal', b'28', b'Brasil', b'80', b'80',\n",
              "        b'SC Braga', b'Esquerdo', b'1', b'188', b'81.193'],\n",
              "       [b'205525', b'Bernard', b'25', b'Brasil', b'80', b'81',\n",
              "        b'Everton', b'Direito', b'2', b'165', b'59.874'],\n",
              "       [b'201119', b'Ismaily', b'28', b'Brasil', b'80', b'80',\n",
              "        b'Shakhtar Donetsk', b'Esquerdo', b'1', b'152', b'82.100'],\n",
              "       [b'191687', b'Maicon', b'29', b'Brasil', b'80', b'80',\n",
              "        b'Galatasaray SK', b'Direito', b'2', b'191', b'88.904'],\n",
              "       [b'180334', b'Marcelo', b'31', b'Brasil', b'80', b'80',\n",
              "        b'Olympique Lyonnais', b'Direito', b'2', b'191', b'84.822'],\n",
              "       [b'180175', b'Alexandre Pato', b'28', b'Brasil', b'80', b'80',\n",
              "        b'Tianjin Quanjian FC', b'Direito', b'3', b'155', b'81.193'],\n",
              "       [b'158625', b'Dante', b'34', b'Brasil', b'80', b'80', b'OGC Nice',\n",
              "        b'Esquerdo', b'3', b'188', b'84.822'],\n",
              "       [b'236632', b'David Neres', b'21', b'Brasil', b'79', b'86',\n",
              "        b'Ajax', b'Esquerdo', b'2', b'175', b'66.224'],\n",
              "       [b'233419', b'Raphinha', b'21', b'Brasil', b'79', b'86',\n",
              "        b'Sporting CP', b'Esquerdo', b'1', b'175', b'68.039'],\n",
              "       [b'231943', b'Richarlison', b'21', b'Brasil', b'79', b'86',\n",
              "        b'Everton', b'Direito', b'1', b'155', b'69.853'],\n",
              "       [b'230498', b'Luimo Boas Santos', b'30', b'Brasil', b'79', b'79',\n",
              "        b'Santos', b'Direito', b'1', b'175', b'73.028'],\n",
              "       [b'230312', b'Gabri Prest\\xe3o', b'26', b'Brasil', b'79', b'79',\n",
              "        b'Internacional', b'Direito', b'1', b'185', b'79.832'],\n",
              "       [b'230251', b'Melvin Parrela', b'30', b'Brasil', b'79', b'79',\n",
              "        b'Am\\xe9rica FC (Minas Gerais)', b'Direito', b'1', b'188',\n",
              "        b'87.997'],\n",
              "       [b'230212', b'Ant\\xf4nio Chiamuloira', b'30', b'Brasil', b'79',\n",
              "        b'79', b'Internacional', b'Esquerdo', b'1', b'183', b'78.925'],\n",
              "       [b'230201', b'Maikel Catarino', b'34', b'Brasil', b'79', b'79',\n",
              "        b'Atl\\xe9tico Mineiro', b'Direito', b'1', b'152', b'74.843'],\n",
              "       [b'210411', b'Ot\\xe1vio', b'23', b'Brasil', b'79', b'85',\n",
              "        b'FC Porto', b'Direito', b'1', b'173', b'71.214']], dtype=object)"
            ]
          },
          "metadata": {
            "tags": []
          },
          "execution_count": 39
        }
      ]
    },
    {
      "cell_type": "markdown",
      "metadata": {
        "id": "4OlQDUVgUpkN",
        "colab_type": "text"
      },
      "source": [
        "17. Quantos são os jogadores brasileiros?"
      ]
    },
    {
      "cell_type": "code",
      "metadata": {
        "id": "4Br4Z7KCUpkP",
        "colab_type": "code",
        "colab": {
          "base_uri": "https://localhost:8080/",
          "height": 34
        },
        "outputId": "7819415c-dcfa-4466-b850-d76a1eafb5f9"
      },
      "source": [
        "len(dados_brasil)"
      ],
      "execution_count": 40,
      "outputs": [
        {
          "output_type": "execute_result",
          "data": {
            "text/plain": [
              "69"
            ]
          },
          "metadata": {
            "tags": []
          },
          "execution_count": 40
        }
      ]
    },
    {
      "cell_type": "markdown",
      "metadata": {
        "id": "82tnxQVXUpka",
        "colab_type": "text"
      },
      "source": [
        "18. Para as colunas `idade`, `altura` e `peso`, calcule:\n",
        "    - Média\n",
        "    - Mediana\n",
        "    - Máximo\n",
        "    - Mínimo"
      ]
    },
    {
      "cell_type": "code",
      "metadata": {
        "id": "kBa7m9ezUpkk",
        "colab_type": "code",
        "colab": {
          "base_uri": "https://localhost:8080/",
          "height": 221
        },
        "outputId": "a8d2f2a9-c7b3-4d97-951d-f802e44fbbfe"
      },
      "source": [
        "#idade\n",
        "print('media de idades: ',idades.mean());\n",
        "print('mediana de idades: ',np.median(idades));\n",
        "print('idade maxima: ',idades.max());\n",
        "print('idade minima: ',idades.min());\n",
        "\n",
        "#altura\n",
        "condicao_vazio = dados[:,9] != b'';\n",
        "altura = dados[condicao_vazio,9].astype(int);\n",
        "print('media de altura: ', altura.mean());\n",
        "print('mediana de altura: ', np.median(altura));\n",
        "print('altura maxima: ', altura.max());\n",
        "print('altura minima: ', altura.min());\n",
        "#peso\n",
        "condicao_vazio = dados[:,10] != b'';\n",
        "peso = dados[condicao_vazio,10].astype(float);\n",
        "print('a media de peso: ',peso.mean());\n",
        "print('a mediana de peso: ', np.median(peso));\n",
        "print('o peso maximo: ', peso.max());\n",
        "print('o peso minimo: ', peso.min());"
      ],
      "execution_count": 77,
      "outputs": [
        {
          "output_type": "stream",
          "text": [
            "media de idades:  25.122205745043114\n",
            "mediana de idades:  25.0\n",
            "idade maxima:  45\n",
            "idade minima:  16\n",
            "media de altura:  174.7126493749656\n",
            "mediana de altura:  175.0\n",
            "altura maxima:  206\n",
            "altura minima:  152\n",
            "a media de peso:  75.28690153642822\n",
            "a mediana de peso:  74.843\n",
            "o peso maximo:  110.223\n",
            "o peso minimo:  49.895\n"
          ],
          "name": "stdout"
        }
      ]
    },
    {
      "cell_type": "markdown",
      "metadata": {
        "id": "oPzdTJ6UUpkx",
        "colab_type": "text"
      },
      "source": [
        "19. Calcule o desvio padrão da `reputação` dos jogadores brasileiros"
      ]
    },
    {
      "cell_type": "code",
      "metadata": {
        "id": "YFkPkLeyUpky",
        "colab_type": "code",
        "colab": {
          "base_uri": "https://localhost:8080/",
          "height": 34
        },
        "outputId": "62486ff9-b7bf-479e-9d5f-ad89f535c948"
      },
      "source": [
        "condicao_vazio = dados[:,9] != b'';\n",
        "reputacao = dados[condicao_vazio,8].astype(int);\n",
        "np.std(reputacao)"
      ],
      "execution_count": 119,
      "outputs": [
        {
          "output_type": "execute_result",
          "data": {
            "text/plain": [
              "0.394019906232981"
            ]
          },
          "metadata": {
            "tags": []
          },
          "execution_count": 119
        }
      ]
    },
    {
      "cell_type": "markdown",
      "metadata": {
        "id": "hwF7g9vnUplK",
        "colab_type": "text"
      },
      "source": [
        "20. Qual jogador brasileiro tem menor pontencial?"
      ]
    },
    {
      "cell_type": "code",
      "metadata": {
        "id": "eYYD668gUplM",
        "colab_type": "code",
        "colab": {
          "base_uri": "https://localhost:8080/",
          "height": 34
        },
        "outputId": "ca4e94e8-501a-4000-b52c-e94296f9879a"
      },
      "source": [
        "potencial = dados_brasil[:,5].astype(int);\n",
        "potencial_min = potencial.min();\n",
        "dados_brasil[potencial_min:]\n"
      ],
      "execution_count": 128,
      "outputs": [
        {
          "output_type": "execute_result",
          "data": {
            "text/plain": [
              "array([], shape=(0, 11), dtype=object)"
            ]
          },
          "metadata": {
            "tags": []
          },
          "execution_count": 128
        }
      ]
    }
  ]
}