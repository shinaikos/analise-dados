{
  "nbformat": 4,
  "nbformat_minor": 0,
  "metadata": {
    "kernelspec": {
      "display_name": "Python 3",
      "language": "python",
      "name": "python3"
    },
    "language_info": {
      "codemirror_mode": {
        "name": "ipython",
        "version": 3
      },
      "file_extension": ".py",
      "mimetype": "text/x-python",
      "name": "python",
      "nbconvert_exporter": "python",
      "pygments_lexer": "ipython3",
      "version": "3.7.4"
    },
    "colab": {
      "name": "exercícios_anatel_mg.ipynb",
      "provenance": [],
      "toc_visible": true
    }
  },
  "cells": [
    {
      "cell_type": "markdown",
      "metadata": {
        "id": "ELMU8GVHUUR9",
        "colab_type": "text"
      },
      "source": [
        "![anatel](img/anatel_logo.png \"Logo Anatel\")\n",
        "\n",
        "# Análise de Dados da Anatel em Minas Gerais (2006 - 2019)"
      ]
    },
    {
      "cell_type": "markdown",
      "metadata": {
        "id": "Dn_vOFD3UUSA",
        "colab_type": "text"
      },
      "source": [
        "A Agência Nacional de Telecomunicaçõe ([Anatel](https://www.anatel.gov.br/institucional/)) foi criada em 16 de julho de 1997 com o objetivo de regular o setor de telecomunicações para contribuir com o desenvolvimento do Brasil. Neste estudo iremos explorar o conjunto de dados das **Reclamações Registradas na Anatel** no estado de Minas Gerais durante os anos de 2006 até 2019. Os dados foram baixaados do  website [Dados Abertos](http://www.dados.gov.br/dataset/solicitacoesregistradasnaanatel) e o [Dicionário de Dados Oficial](data/Reclamações_Glossário_e_Metadados.pdf) está disponível na pasta: [`data/Reclamações_Glossário_e_Metadados.pdf`](data/Reclamações_Glossário_e_Metadados.pdf)."
      ]
    },
    {
      "cell_type": "markdown",
      "metadata": {
        "id": "JvtqLfYPUUSC",
        "colab_type": "text"
      },
      "source": [
        "## Exercícios\n",
        "Faça as questões abaixo usando somente a biblioteca [pandas](https://pandas.pydata.org/)."
      ]
    },
    {
      "cell_type": "markdown",
      "metadata": {
        "id": "hybMK6bGUUSE",
        "colab_type": "text"
      },
      "source": [
        "1. Importe o pacote **pandas** como o nome pd."
      ]
    },
    {
      "cell_type": "code",
      "metadata": {
        "id": "RXXmT5UFUUSF",
        "colab_type": "code",
        "colab": {}
      },
      "source": [
        "import numpy as np\n",
        "import pandas as pd"
      ],
      "execution_count": 3,
      "outputs": []
    },
    {
      "cell_type": "markdown",
      "metadata": {
        "id": "AP2RXhWwUUSO",
        "colab_type": "text"
      },
      "source": [
        "2. Carregue em memória o conjunto de dados disponível na pasta [`data/anatel_mg_2006_2019.csv`](data/anatel_mg_2006_2019.csv) para uma variável chamada **df**."
      ]
    },
    {
      "cell_type": "code",
      "metadata": {
        "id": "VzB4HxqFUUST",
        "colab_type": "code",
        "colab": {}
      },
      "source": [
        "df = pd.read_csv('anatel_mg_2006_2019.csv')"
      ],
      "execution_count": 4,
      "outputs": []
    },
    {
      "cell_type": "markdown",
      "metadata": {
        "id": "_Vr95lSmUUSb",
        "colab_type": "text"
      },
      "source": [
        "3. Quantas linhas e quantas colunas foram carregadas em memória?"
      ]
    },
    {
      "cell_type": "code",
      "metadata": {
        "id": "Ud6pp5gRUUSd",
        "colab_type": "code",
        "colab": {
          "base_uri": "https://localhost:8080/",
          "height": 34
        },
        "outputId": "44746068-2932-48e3-cd7a-de77f3a574c7"
      },
      "source": [
        "df.shape"
      ],
      "execution_count": 5,
      "outputs": [
        {
          "output_type": "execute_result",
          "data": {
            "text/plain": [
              "(35327, 12)"
            ]
          },
          "metadata": {
            "tags": []
          },
          "execution_count": 5
        }
      ]
    },
    {
      "cell_type": "markdown",
      "metadata": {
        "id": "6mSWh_uHUUSk",
        "colab_type": "text"
      },
      "source": [
        "4. Mostre as 5 primeiras linhas do *dataset*."
      ]
    },
    {
      "cell_type": "code",
      "metadata": {
        "id": "G_e57JkOUUSm",
        "colab_type": "code",
        "colab": {
          "base_uri": "https://localhost:8080/",
          "height": 360
        },
        "outputId": "718a215c-b7f4-4c5e-b375-6515306e827b"
      },
      "source": [
        "df.head()"
      ],
      "execution_count": 6,
      "outputs": [
        {
          "output_type": "execute_result",
          "data": {
            "text/html": [
              "<div>\n",
              "<style scoped>\n",
              "    .dataframe tbody tr th:only-of-type {\n",
              "        vertical-align: middle;\n",
              "    }\n",
              "\n",
              "    .dataframe tbody tr th {\n",
              "        vertical-align: top;\n",
              "    }\n",
              "\n",
              "    .dataframe thead th {\n",
              "        text-align: right;\n",
              "    }\n",
              "</style>\n",
              "<table border=\"1\" class=\"dataframe\">\n",
              "  <thead>\n",
              "    <tr style=\"text-align: right;\">\n",
              "      <th></th>\n",
              "      <th>DataExtracao</th>\n",
              "      <th>Ano</th>\n",
              "      <th>Mes</th>\n",
              "      <th>CanalEntrada</th>\n",
              "      <th>Condicao</th>\n",
              "      <th>GrupoEconNorm</th>\n",
              "      <th>Tipo</th>\n",
              "      <th>Servico</th>\n",
              "      <th>Modalidade</th>\n",
              "      <th>Motivo</th>\n",
              "      <th>UF</th>\n",
              "      <th>QtdeSolic</th>\n",
              "    </tr>\n",
              "  </thead>\n",
              "  <tbody>\n",
              "    <tr>\n",
              "      <th>0</th>\n",
              "      <td>2016-04-28</td>\n",
              "      <td>2006</td>\n",
              "      <td>1</td>\n",
              "      <td>Atendimento Pessoal</td>\n",
              "      <td>Nova</td>\n",
              "      <td>Anatel</td>\n",
              "      <td>Denúncia</td>\n",
              "      <td>Radiodifusão (Rádio e TV)</td>\n",
              "      <td>Rádio FM</td>\n",
              "      <td>Interferência</td>\n",
              "      <td>MG</td>\n",
              "      <td>3.0</td>\n",
              "    </tr>\n",
              "    <tr>\n",
              "      <th>1</th>\n",
              "      <td>2016-04-28</td>\n",
              "      <td>2006</td>\n",
              "      <td>1</td>\n",
              "      <td>Atendimento Pessoal</td>\n",
              "      <td>Nova</td>\n",
              "      <td>Anatel</td>\n",
              "      <td>Denúncia</td>\n",
              "      <td>Radiodifusão (Rádio e TV)</td>\n",
              "      <td>Rádio FM</td>\n",
              "      <td>Outorga</td>\n",
              "      <td>MG</td>\n",
              "      <td>8.0</td>\n",
              "    </tr>\n",
              "    <tr>\n",
              "      <th>2</th>\n",
              "      <td>2016-04-28</td>\n",
              "      <td>2006</td>\n",
              "      <td>1</td>\n",
              "      <td>Atendimento Pessoal</td>\n",
              "      <td>Nova</td>\n",
              "      <td>NET</td>\n",
              "      <td>Reclamação</td>\n",
              "      <td>Serviço Telefônico Fixo Comutado - STFC</td>\n",
              "      <td>Local</td>\n",
              "      <td>Cobrança</td>\n",
              "      <td>MG</td>\n",
              "      <td>1.0</td>\n",
              "    </tr>\n",
              "    <tr>\n",
              "      <th>3</th>\n",
              "      <td>2016-04-28</td>\n",
              "      <td>2006</td>\n",
              "      <td>1</td>\n",
              "      <td>Atendimento Pessoal</td>\n",
              "      <td>Nova</td>\n",
              "      <td>OI</td>\n",
              "      <td>Reclamação</td>\n",
              "      <td>Móvel Pessoal</td>\n",
              "      <td>Pós-Pago</td>\n",
              "      <td>Serviços Adicionais</td>\n",
              "      <td>MG</td>\n",
              "      <td>1.0</td>\n",
              "    </tr>\n",
              "    <tr>\n",
              "      <th>4</th>\n",
              "      <td>2016-04-28</td>\n",
              "      <td>2006</td>\n",
              "      <td>1</td>\n",
              "      <td>Atendimento Pessoal</td>\n",
              "      <td>Nova</td>\n",
              "      <td>Outros</td>\n",
              "      <td>Reclamação</td>\n",
              "      <td>Móvel Pessoal</td>\n",
              "      <td>Pós-Pago</td>\n",
              "      <td>Clonagem</td>\n",
              "      <td>MG</td>\n",
              "      <td>1.0</td>\n",
              "    </tr>\n",
              "  </tbody>\n",
              "</table>\n",
              "</div>"
            ],
            "text/plain": [
              "  DataExtracao   Ano  Mes  ...               Motivo  UF QtdeSolic\n",
              "0   2016-04-28  2006    1  ...        Interferência  MG       3.0\n",
              "1   2016-04-28  2006    1  ...              Outorga  MG       8.0\n",
              "2   2016-04-28  2006    1  ...             Cobrança  MG       1.0\n",
              "3   2016-04-28  2006    1  ...  Serviços Adicionais  MG       1.0\n",
              "4   2016-04-28  2006    1  ...             Clonagem  MG       1.0\n",
              "\n",
              "[5 rows x 12 columns]"
            ]
          },
          "metadata": {
            "tags": []
          },
          "execution_count": 6
        }
      ]
    },
    {
      "cell_type": "markdown",
      "metadata": {
        "id": "V4blRbUlUUSt",
        "colab_type": "text"
      },
      "source": [
        "5.  Quais são os tipos de dados de cada uma das colunas?"
      ]
    },
    {
      "cell_type": "code",
      "metadata": {
        "id": "hY8gBktVUUSv",
        "colab_type": "code",
        "colab": {
          "base_uri": "https://localhost:8080/",
          "height": 238
        },
        "outputId": "d239b831-7aaa-4172-a46f-3cef12914579"
      },
      "source": [
        "df.dtypes"
      ],
      "execution_count": null,
      "outputs": [
        {
          "output_type": "execute_result",
          "data": {
            "text/plain": [
              "DataExtracao      object\n",
              "Ano                int64\n",
              "Mes                int64\n",
              "CanalEntrada      object\n",
              "Condicao          object\n",
              "GrupoEconNorm     object\n",
              "Tipo              object\n",
              "Servico           object\n",
              "Modalidade        object\n",
              "Motivo            object\n",
              "UF                object\n",
              "QtdeSolic        float64\n",
              "dtype: object"
            ]
          },
          "metadata": {
            "tags": []
          },
          "execution_count": 18
        }
      ]
    },
    {
      "cell_type": "markdown",
      "metadata": {
        "id": "6qiWT0WyUUS2",
        "colab_type": "text"
      },
      "source": [
        "6. Mostre a quantidade de colunas para cada um dos tipos de dados."
      ]
    },
    {
      "cell_type": "code",
      "metadata": {
        "id": "ubpRQKx9UUS3",
        "colab_type": "code",
        "colab": {
          "base_uri": "https://localhost:8080/",
          "height": 85
        },
        "outputId": "55e9b0eb-c59a-48c0-e451-78573e0d7888"
      },
      "source": [
        "df.dtypes.value_counts()"
      ],
      "execution_count": 7,
      "outputs": [
        {
          "output_type": "execute_result",
          "data": {
            "text/plain": [
              "object     9\n",
              "int64      2\n",
              "float64    1\n",
              "dtype: int64"
            ]
          },
          "metadata": {
            "tags": []
          },
          "execution_count": 7
        }
      ]
    },
    {
      "cell_type": "markdown",
      "metadata": {
        "id": "x7nVgyhEUUS_",
        "colab_type": "text"
      },
      "source": [
        "7. Mostre as informações básicas do DataFrame."
      ]
    },
    {
      "cell_type": "code",
      "metadata": {
        "id": "tuglb6MlUUTB",
        "colab_type": "code",
        "colab": {
          "base_uri": "https://localhost:8080/",
          "height": 340
        },
        "outputId": "1aaad867-e064-4405-941d-25cfaeccff4a"
      },
      "source": [
        "df.info()"
      ],
      "execution_count": 8,
      "outputs": [
        {
          "output_type": "stream",
          "text": [
            "<class 'pandas.core.frame.DataFrame'>\n",
            "RangeIndex: 35327 entries, 0 to 35326\n",
            "Data columns (total 12 columns):\n",
            " #   Column         Non-Null Count  Dtype  \n",
            "---  ------         --------------  -----  \n",
            " 0   DataExtracao   35327 non-null  object \n",
            " 1   Ano            35327 non-null  int64  \n",
            " 2   Mes            35327 non-null  int64  \n",
            " 3   CanalEntrada   35327 non-null  object \n",
            " 4   Condicao       35327 non-null  object \n",
            " 5   GrupoEconNorm  35326 non-null  object \n",
            " 6   Tipo           35326 non-null  object \n",
            " 7   Servico        35326 non-null  object \n",
            " 8   Modalidade     35326 non-null  object \n",
            " 9   Motivo         35326 non-null  object \n",
            " 10  UF             35326 non-null  object \n",
            " 11  QtdeSolic      35326 non-null  float64\n",
            "dtypes: float64(1), int64(2), object(9)\n",
            "memory usage: 3.2+ MB\n"
          ],
          "name": "stdout"
        }
      ]
    },
    {
      "cell_type": "markdown",
      "metadata": {
        "id": "DiD2aHZAUUTI",
        "colab_type": "text"
      },
      "source": [
        "8. Verifique se existem dados ausentes (*misssing data*) no conjunto de dados."
      ]
    },
    {
      "cell_type": "code",
      "metadata": {
        "id": "IKkp1VHrUUTJ",
        "colab_type": "code",
        "colab": {
          "base_uri": "https://localhost:8080/",
          "height": 34
        },
        "outputId": "c2c25f5e-087e-405b-f349-e2f8be0cab25"
      },
      "source": [
        "df.isnull().values.any()"
      ],
      "execution_count": 9,
      "outputs": [
        {
          "output_type": "execute_result",
          "data": {
            "text/plain": [
              "True"
            ]
          },
          "metadata": {
            "tags": []
          },
          "execution_count": 9
        }
      ]
    },
    {
      "cell_type": "markdown",
      "metadata": {
        "id": "64TdLqy-UUTP",
        "colab_type": "text"
      },
      "source": [
        "9. Qual é o número total de dados ausentes?"
      ]
    },
    {
      "cell_type": "code",
      "metadata": {
        "id": "g4-5uV8BUUTR",
        "colab_type": "code",
        "colab": {
          "base_uri": "https://localhost:8080/",
          "height": 34
        },
        "outputId": "bb51aab1-0fca-4bba-c408-66485cc8a3f9"
      },
      "source": [
        "df.isnull().sum().sum()"
      ],
      "execution_count": 10,
      "outputs": [
        {
          "output_type": "execute_result",
          "data": {
            "text/plain": [
              "7"
            ]
          },
          "metadata": {
            "tags": []
          },
          "execution_count": 10
        }
      ]
    },
    {
      "cell_type": "markdown",
      "metadata": {
        "id": "UGhUij13UUTd",
        "colab_type": "text"
      },
      "source": [
        "10. Qual é o número total de dados ausentes por coluna? "
      ]
    },
    {
      "cell_type": "code",
      "metadata": {
        "id": "Mq_i-q3tUUTf",
        "colab_type": "code",
        "colab": {
          "base_uri": "https://localhost:8080/",
          "height": 238
        },
        "outputId": "2ab293ef-dd36-44ef-eeae-729798a5a343"
      },
      "source": [
        "df.isnull().sum()"
      ],
      "execution_count": 11,
      "outputs": [
        {
          "output_type": "execute_result",
          "data": {
            "text/plain": [
              "DataExtracao     0\n",
              "Ano              0\n",
              "Mes              0\n",
              "CanalEntrada     0\n",
              "Condicao         0\n",
              "GrupoEconNorm    1\n",
              "Tipo             1\n",
              "Servico          1\n",
              "Modalidade       1\n",
              "Motivo           1\n",
              "UF               1\n",
              "QtdeSolic        1\n",
              "dtype: int64"
            ]
          },
          "metadata": {
            "tags": []
          },
          "execution_count": 11
        }
      ]
    },
    {
      "cell_type": "markdown",
      "metadata": {
        "id": "40NM24PSUUTo",
        "colab_type": "text"
      },
      "source": [
        "11. Remova todos os dados ausentes encontrados."
      ]
    },
    {
      "cell_type": "code",
      "metadata": {
        "id": "qY41ak11UUTp",
        "colab_type": "code",
        "colab": {
          "base_uri": "https://localhost:8080/",
          "height": 34
        },
        "outputId": "79cec9bd-ca96-4f54-c263-d64d211f72d0"
      },
      "source": [
        "df = df.dropna();\n",
        "df.isnull().values.any()"
      ],
      "execution_count": 12,
      "outputs": [
        {
          "output_type": "execute_result",
          "data": {
            "text/plain": [
              "False"
            ]
          },
          "metadata": {
            "tags": []
          },
          "execution_count": 12
        }
      ]
    },
    {
      "cell_type": "markdown",
      "metadata": {
        "id": "DEpeO8TsUUTv",
        "colab_type": "text"
      },
      "source": [
        "12. Selecione o serviço que possui o maior número de solicitações `QtdeSolic` na Anatel."
      ]
    },
    {
      "cell_type": "code",
      "metadata": {
        "id": "CNS0eRrlUUTw",
        "colab_type": "code",
        "colab": {
          "base_uri": "https://localhost:8080/",
          "height": 117
        },
        "outputId": "91db5b8f-a8f2-4d8e-cd7e-90b762378634"
      },
      "source": [
        "df.sort_values(by='QtdeSolic', ascending=False).head(1)\n"
      ],
      "execution_count": 19,
      "outputs": [
        {
          "output_type": "execute_result",
          "data": {
            "text/html": [
              "<div>\n",
              "<style scoped>\n",
              "    .dataframe tbody tr th:only-of-type {\n",
              "        vertical-align: middle;\n",
              "    }\n",
              "\n",
              "    .dataframe tbody tr th {\n",
              "        vertical-align: top;\n",
              "    }\n",
              "\n",
              "    .dataframe thead th {\n",
              "        text-align: right;\n",
              "    }\n",
              "</style>\n",
              "<table border=\"1\" class=\"dataframe\">\n",
              "  <thead>\n",
              "    <tr style=\"text-align: right;\">\n",
              "      <th></th>\n",
              "      <th>DataExtracao</th>\n",
              "      <th>Ano</th>\n",
              "      <th>Mes</th>\n",
              "      <th>CanalEntrada</th>\n",
              "      <th>Condicao</th>\n",
              "      <th>GrupoEconNorm</th>\n",
              "      <th>Tipo</th>\n",
              "      <th>Servico</th>\n",
              "      <th>Modalidade</th>\n",
              "      <th>Motivo</th>\n",
              "      <th>UF</th>\n",
              "      <th>QtdeSolic</th>\n",
              "    </tr>\n",
              "  </thead>\n",
              "  <tbody>\n",
              "    <tr>\n",
              "      <th>23602</th>\n",
              "      <td>2016-04-28</td>\n",
              "      <td>2007</td>\n",
              "      <td>12</td>\n",
              "      <td>Call Center</td>\n",
              "      <td>Nova</td>\n",
              "      <td>TIM</td>\n",
              "      <td>Reclamação</td>\n",
              "      <td>Móvel Pessoal</td>\n",
              "      <td>Pós-Pago</td>\n",
              "      <td>Cobrança</td>\n",
              "      <td>MG</td>\n",
              "      <td>611.0</td>\n",
              "    </tr>\n",
              "  </tbody>\n",
              "</table>\n",
              "</div>"
            ],
            "text/plain": [
              "      DataExtracao   Ano  Mes CanalEntrada  ... Modalidade    Motivo  UF QtdeSolic\n",
              "23602   2016-04-28  2007   12  Call Center  ...   Pós-Pago  Cobrança  MG     611.0\n",
              "\n",
              "[1 rows x 12 columns]"
            ]
          },
          "metadata": {
            "tags": []
          },
          "execution_count": 19
        }
      ]
    },
    {
      "cell_type": "markdown",
      "metadata": {
        "id": "FwoG4K-mUUT3",
        "colab_type": "text"
      },
      "source": [
        "13. Qual é o menor número de solicitações `QtdeSolic` na Anatel."
      ]
    },
    {
      "cell_type": "code",
      "metadata": {
        "id": "SdzQQDDBUUT5",
        "colab_type": "code",
        "colab": {
          "base_uri": "https://localhost:8080/",
          "height": 34
        },
        "outputId": "c9438f82-3969-4d1b-df95-67234297b756"
      },
      "source": [
        "df.QtdeSolic.min()"
      ],
      "execution_count": 14,
      "outputs": [
        {
          "output_type": "execute_result",
          "data": {
            "text/plain": [
              "1.0"
            ]
          },
          "metadata": {
            "tags": []
          },
          "execution_count": 14
        }
      ]
    },
    {
      "cell_type": "markdown",
      "metadata": {
        "id": "UCGg7HbXUUT_",
        "colab_type": "text"
      },
      "source": [
        "14. Mostre todas as linhs iguais ao menor número de solicitações `QtdeSolic` na Anatel."
      ]
    },
    {
      "cell_type": "code",
      "metadata": {
        "id": "fw2s9NrpUUUA",
        "colab_type": "code",
        "colab": {
          "base_uri": "https://localhost:8080/",
          "height": 813
        },
        "outputId": "967e869f-909a-40f1-ca04-e7c51c6c49bb"
      },
      "source": [
        "menor = df.QtdeSolic.min()\n",
        "df.loc[df['QtdeSolic'] == menor]"
      ],
      "execution_count": 15,
      "outputs": [
        {
          "output_type": "execute_result",
          "data": {
            "text/html": [
              "<div>\n",
              "<style scoped>\n",
              "    .dataframe tbody tr th:only-of-type {\n",
              "        vertical-align: middle;\n",
              "    }\n",
              "\n",
              "    .dataframe tbody tr th {\n",
              "        vertical-align: top;\n",
              "    }\n",
              "\n",
              "    .dataframe thead th {\n",
              "        text-align: right;\n",
              "    }\n",
              "</style>\n",
              "<table border=\"1\" class=\"dataframe\">\n",
              "  <thead>\n",
              "    <tr style=\"text-align: right;\">\n",
              "      <th></th>\n",
              "      <th>DataExtracao</th>\n",
              "      <th>Ano</th>\n",
              "      <th>Mes</th>\n",
              "      <th>CanalEntrada</th>\n",
              "      <th>Condicao</th>\n",
              "      <th>GrupoEconNorm</th>\n",
              "      <th>Tipo</th>\n",
              "      <th>Servico</th>\n",
              "      <th>Modalidade</th>\n",
              "      <th>Motivo</th>\n",
              "      <th>UF</th>\n",
              "      <th>QtdeSolic</th>\n",
              "    </tr>\n",
              "  </thead>\n",
              "  <tbody>\n",
              "    <tr>\n",
              "      <th>2</th>\n",
              "      <td>2016-04-28</td>\n",
              "      <td>2006</td>\n",
              "      <td>1</td>\n",
              "      <td>Atendimento Pessoal</td>\n",
              "      <td>Nova</td>\n",
              "      <td>NET</td>\n",
              "      <td>Reclamação</td>\n",
              "      <td>Serviço Telefônico Fixo Comutado - STFC</td>\n",
              "      <td>Local</td>\n",
              "      <td>Cobrança</td>\n",
              "      <td>MG</td>\n",
              "      <td>1.0</td>\n",
              "    </tr>\n",
              "    <tr>\n",
              "      <th>3</th>\n",
              "      <td>2016-04-28</td>\n",
              "      <td>2006</td>\n",
              "      <td>1</td>\n",
              "      <td>Atendimento Pessoal</td>\n",
              "      <td>Nova</td>\n",
              "      <td>OI</td>\n",
              "      <td>Reclamação</td>\n",
              "      <td>Móvel Pessoal</td>\n",
              "      <td>Pós-Pago</td>\n",
              "      <td>Serviços Adicionais</td>\n",
              "      <td>MG</td>\n",
              "      <td>1.0</td>\n",
              "    </tr>\n",
              "    <tr>\n",
              "      <th>4</th>\n",
              "      <td>2016-04-28</td>\n",
              "      <td>2006</td>\n",
              "      <td>1</td>\n",
              "      <td>Atendimento Pessoal</td>\n",
              "      <td>Nova</td>\n",
              "      <td>Outros</td>\n",
              "      <td>Reclamação</td>\n",
              "      <td>Móvel Pessoal</td>\n",
              "      <td>Pós-Pago</td>\n",
              "      <td>Clonagem</td>\n",
              "      <td>MG</td>\n",
              "      <td>1.0</td>\n",
              "    </tr>\n",
              "    <tr>\n",
              "      <th>5</th>\n",
              "      <td>2016-04-28</td>\n",
              "      <td>2006</td>\n",
              "      <td>1</td>\n",
              "      <td>Atendimento Pessoal</td>\n",
              "      <td>Reaberta</td>\n",
              "      <td>NET</td>\n",
              "      <td>Reclamação</td>\n",
              "      <td>Serviço Telefônico Fixo Comutado - STFC</td>\n",
              "      <td>Local</td>\n",
              "      <td>Reparo</td>\n",
              "      <td>MG</td>\n",
              "      <td>1.0</td>\n",
              "    </tr>\n",
              "    <tr>\n",
              "      <th>6</th>\n",
              "      <td>2016-04-28</td>\n",
              "      <td>2006</td>\n",
              "      <td>1</td>\n",
              "      <td>Atendimento Pessoal</td>\n",
              "      <td>Reaberta</td>\n",
              "      <td>Outros</td>\n",
              "      <td>Reclamação</td>\n",
              "      <td>Serviço Telefônico Fixo Comutado - STFC</td>\n",
              "      <td>Local</td>\n",
              "      <td>Cancelamento</td>\n",
              "      <td>MG</td>\n",
              "      <td>1.0</td>\n",
              "    </tr>\n",
              "    <tr>\n",
              "      <th>...</th>\n",
              "      <td>...</td>\n",
              "      <td>...</td>\n",
              "      <td>...</td>\n",
              "      <td>...</td>\n",
              "      <td>...</td>\n",
              "      <td>...</td>\n",
              "      <td>...</td>\n",
              "      <td>...</td>\n",
              "      <td>...</td>\n",
              "      <td>...</td>\n",
              "      <td>...</td>\n",
              "      <td>...</td>\n",
              "    </tr>\n",
              "    <tr>\n",
              "      <th>35317</th>\n",
              "      <td>2016-04-28</td>\n",
              "      <td>2008</td>\n",
              "      <td>8</td>\n",
              "      <td>Fale Conosco</td>\n",
              "      <td>Reaberta</td>\n",
              "      <td>Outros</td>\n",
              "      <td>Reclamação</td>\n",
              "      <td>Móvel Pessoal</td>\n",
              "      <td>Pré-Pago</td>\n",
              "      <td>Promoções</td>\n",
              "      <td>MG</td>\n",
              "      <td>1.0</td>\n",
              "    </tr>\n",
              "    <tr>\n",
              "      <th>35318</th>\n",
              "      <td>2016-04-28</td>\n",
              "      <td>2008</td>\n",
              "      <td>8</td>\n",
              "      <td>Fale Conosco</td>\n",
              "      <td>Reaberta</td>\n",
              "      <td>Outros</td>\n",
              "      <td>Reclamação</td>\n",
              "      <td>Móvel Pessoal</td>\n",
              "      <td>Pré-Pago</td>\n",
              "      <td>Serviços Adicionais</td>\n",
              "      <td>MG</td>\n",
              "      <td>1.0</td>\n",
              "    </tr>\n",
              "    <tr>\n",
              "      <th>35319</th>\n",
              "      <td>2016-04-28</td>\n",
              "      <td>2008</td>\n",
              "      <td>8</td>\n",
              "      <td>Fale Conosco</td>\n",
              "      <td>Reaberta</td>\n",
              "      <td>Outros</td>\n",
              "      <td>Reclamação</td>\n",
              "      <td>Serviço Telefônico Fixo Comutado - STFC</td>\n",
              "      <td>Local</td>\n",
              "      <td>Completamento de Chamadas</td>\n",
              "      <td>MG</td>\n",
              "      <td>1.0</td>\n",
              "    </tr>\n",
              "    <tr>\n",
              "      <th>35321</th>\n",
              "      <td>2016-04-28</td>\n",
              "      <td>2008</td>\n",
              "      <td>8</td>\n",
              "      <td>Fale Conosco</td>\n",
              "      <td>Reaberta</td>\n",
              "      <td>TIM</td>\n",
              "      <td>Pedido de Informação</td>\n",
              "      <td>Móvel Pessoal</td>\n",
              "      <td>Pós-Pago</td>\n",
              "      <td>Planos de serviço</td>\n",
              "      <td>MG</td>\n",
              "      <td>1.0</td>\n",
              "    </tr>\n",
              "    <tr>\n",
              "      <th>35323</th>\n",
              "      <td>2016-04-28</td>\n",
              "      <td>2008</td>\n",
              "      <td>8</td>\n",
              "      <td>Fale Conosco</td>\n",
              "      <td>Reaberta</td>\n",
              "      <td>TIM</td>\n",
              "      <td>Reclamação</td>\n",
              "      <td>Móvel Pessoal</td>\n",
              "      <td>Pós-Pago</td>\n",
              "      <td>Cancelamento</td>\n",
              "      <td>MG</td>\n",
              "      <td>1.0</td>\n",
              "    </tr>\n",
              "  </tbody>\n",
              "</table>\n",
              "<p>17969 rows × 12 columns</p>\n",
              "</div>"
            ],
            "text/plain": [
              "      DataExtracao   Ano  Mes  ...                     Motivo  UF QtdeSolic\n",
              "2       2016-04-28  2006    1  ...                   Cobrança  MG       1.0\n",
              "3       2016-04-28  2006    1  ...        Serviços Adicionais  MG       1.0\n",
              "4       2016-04-28  2006    1  ...                   Clonagem  MG       1.0\n",
              "5       2016-04-28  2006    1  ...                     Reparo  MG       1.0\n",
              "6       2016-04-28  2006    1  ...               Cancelamento  MG       1.0\n",
              "...            ...   ...  ...  ...                        ...  ..       ...\n",
              "35317   2016-04-28  2008    8  ...                  Promoções  MG       1.0\n",
              "35318   2016-04-28  2008    8  ...        Serviços Adicionais  MG       1.0\n",
              "35319   2016-04-28  2008    8  ...  Completamento de Chamadas  MG       1.0\n",
              "35321   2016-04-28  2008    8  ...          Planos de serviço  MG       1.0\n",
              "35323   2016-04-28  2008    8  ...               Cancelamento  MG       1.0\n",
              "\n",
              "[17969 rows x 12 columns]"
            ]
          },
          "metadata": {
            "tags": []
          },
          "execution_count": 15
        }
      ]
    },
    {
      "cell_type": "markdown",
      "metadata": {
        "id": "8-z8b5BtUUUI",
        "colab_type": "text"
      },
      "source": [
        "15. Mostre as contagens de solicitações `QtdeSolic` por tipo de serviço `Servico`."
      ]
    },
    {
      "cell_type": "code",
      "metadata": {
        "id": "eYqlFXV4UUUK",
        "colab_type": "code",
        "colab": {
          "base_uri": "https://localhost:8080/",
          "height": 545
        },
        "outputId": "0926f065-d092-4a1d-b8cc-0db66a6957d9"
      },
      "source": [
        "pd.crosstab(df['Servico'], ['QtdeSolic'])"
      ],
      "execution_count": 16,
      "outputs": [
        {
          "output_type": "execute_result",
          "data": {
            "text/html": [
              "<div>\n",
              "<style scoped>\n",
              "    .dataframe tbody tr th:only-of-type {\n",
              "        vertical-align: middle;\n",
              "    }\n",
              "\n",
              "    .dataframe tbody tr th {\n",
              "        vertical-align: top;\n",
              "    }\n",
              "\n",
              "    .dataframe thead th {\n",
              "        text-align: right;\n",
              "    }\n",
              "</style>\n",
              "<table border=\"1\" class=\"dataframe\">\n",
              "  <thead>\n",
              "    <tr style=\"text-align: right;\">\n",
              "      <th>col_0</th>\n",
              "      <th>QtdeSolic</th>\n",
              "    </tr>\n",
              "    <tr>\n",
              "      <th>Servico</th>\n",
              "      <th></th>\n",
              "    </tr>\n",
              "  </thead>\n",
              "  <tbody>\n",
              "    <tr>\n",
              "      <th>Limitado Privado</th>\n",
              "      <td>187</td>\n",
              "    </tr>\n",
              "    <tr>\n",
              "      <th>Móvel Pessoal</th>\n",
              "      <td>16568</td>\n",
              "    </tr>\n",
              "    <tr>\n",
              "      <th>Outros</th>\n",
              "      <td>210</td>\n",
              "    </tr>\n",
              "    <tr>\n",
              "      <th>Radioamador (PY)</th>\n",
              "      <td>288</td>\n",
              "    </tr>\n",
              "    <tr>\n",
              "      <th>Radiochamada (Paging)</th>\n",
              "      <td>11</td>\n",
              "    </tr>\n",
              "    <tr>\n",
              "      <th>Radiodifusão (Rádio e TV)</th>\n",
              "      <td>913</td>\n",
              "    </tr>\n",
              "    <tr>\n",
              "      <th>Rádio do Cidadão (PX)</th>\n",
              "      <td>222</td>\n",
              "    </tr>\n",
              "    <tr>\n",
              "      <th>Serviço Móvel Aeronáutico</th>\n",
              "      <td>15</td>\n",
              "    </tr>\n",
              "    <tr>\n",
              "      <th>Serviço Móvel Marítimo</th>\n",
              "      <td>6</td>\n",
              "    </tr>\n",
              "    <tr>\n",
              "      <th>Serviço Telefônico Fixo Comutado - STFC</th>\n",
              "      <td>9681</td>\n",
              "    </tr>\n",
              "    <tr>\n",
              "      <th>Serviço de Comunicação Multimídia</th>\n",
              "      <td>2826</td>\n",
              "    </tr>\n",
              "    <tr>\n",
              "      <th>Serviço de Rede e Transporte de Telecomunicações - SRTT</th>\n",
              "      <td>531</td>\n",
              "    </tr>\n",
              "    <tr>\n",
              "      <th>Serviços da Anatel</th>\n",
              "      <td>1117</td>\n",
              "    </tr>\n",
              "    <tr>\n",
              "      <th>TV por Assinatura</th>\n",
              "      <td>2702</td>\n",
              "    </tr>\n",
              "    <tr>\n",
              "      <th>Troncalizado (Trunking)</th>\n",
              "      <td>49</td>\n",
              "    </tr>\n",
              "  </tbody>\n",
              "</table>\n",
              "</div>"
            ],
            "text/plain": [
              "col_0                                               QtdeSolic\n",
              "Servico                                                      \n",
              "Limitado Privado                                          187\n",
              "Móvel Pessoal                                           16568\n",
              "Outros                                                    210\n",
              "Radioamador (PY)                                          288\n",
              "Radiochamada (Paging)                                      11\n",
              "Radiodifusão (Rádio e TV)                                 913\n",
              "Rádio do Cidadão (PX)                                     222\n",
              "Serviço Móvel Aeronáutico                                  15\n",
              "Serviço Móvel Marítimo                                      6\n",
              "Serviço Telefônico Fixo Comutado - STFC                  9681\n",
              "Serviço de Comunicação Multimídia                        2826\n",
              "Serviço de Rede e Transporte de Telecomunicaçõe...        531\n",
              "Serviços da Anatel                                       1117\n",
              "TV por Assinatura                                        2702\n",
              "Troncalizado (Trunking)                                    49"
            ]
          },
          "metadata": {
            "tags": []
          },
          "execution_count": 16
        }
      ]
    },
    {
      "cell_type": "markdown",
      "metadata": {
        "id": "M3gXPIXyUUUR",
        "colab_type": "text"
      },
      "source": [
        "16. Ao longo dos anos mostre o número de solicitações por mês?"
      ]
    },
    {
      "cell_type": "code",
      "metadata": {
        "id": "5poLLBUEUUUS",
        "colab_type": "code",
        "colab": {
          "base_uri": "https://localhost:8080/",
          "height": 612
        },
        "outputId": "ef8d160c-0e35-434f-c74b-adb1097d952b"
      },
      "source": [
        "ano_solic_mes = df.groupby(['Ano', 'Mes'])['QtdeSolic'].sum()\n",
        "ano_solic_mes"
      ],
      "execution_count": 32,
      "outputs": [
        {
          "output_type": "execute_result",
          "data": {
            "text/plain": [
              "Ano   Mes\n",
              "2006  1       6234.0\n",
              "      2       5120.0\n",
              "      3       6762.0\n",
              "      4       5992.0\n",
              "      5       6736.0\n",
              "      6       6551.0\n",
              "      7       5893.0\n",
              "      8       5725.0\n",
              "      9       5555.0\n",
              "      10      6536.0\n",
              "      11      7316.0\n",
              "      12      7031.0\n",
              "2007  1       7698.0\n",
              "      2       5963.0\n",
              "      3       7776.0\n",
              "      4       7005.0\n",
              "      5       7938.0\n",
              "      6       7207.0\n",
              "      7       7985.0\n",
              "      8       9341.0\n",
              "      9       8227.0\n",
              "      10      8909.0\n",
              "      11      8959.0\n",
              "      12      8560.0\n",
              "2008  1       9665.0\n",
              "      2       9620.0\n",
              "      3      10398.0\n",
              "      4      11588.0\n",
              "      5      11526.0\n",
              "      6      11407.0\n",
              "      7      11021.0\n",
              "      8      10279.0\n",
              "      9       3456.0\n",
              "Name: QtdeSolic, dtype: float64"
            ]
          },
          "metadata": {
            "tags": []
          },
          "execution_count": 32
        }
      ]
    },
    {
      "cell_type": "markdown",
      "metadata": {
        "id": "955GaMuhUUUX",
        "colab_type": "text"
      },
      "source": [
        "17. Crie o vetor **reclamacoes** com todos os dados que cuja coluna `Tipo` seja igual a \"Reclamação\"."
      ]
    },
    {
      "cell_type": "code",
      "metadata": {
        "id": "FLMFlfW9UUUZ",
        "colab_type": "code",
        "colab": {
          "base_uri": "https://localhost:8080/",
          "height": 813
        },
        "outputId": "deaac850-062c-4704-d327-a14d21ef8129"
      },
      "source": [
        "reclamacoes = df[df.Tipo == \"Reclamação\"]\n",
        "reclamacoes"
      ],
      "execution_count": 25,
      "outputs": [
        {
          "output_type": "execute_result",
          "data": {
            "text/html": [
              "<div>\n",
              "<style scoped>\n",
              "    .dataframe tbody tr th:only-of-type {\n",
              "        vertical-align: middle;\n",
              "    }\n",
              "\n",
              "    .dataframe tbody tr th {\n",
              "        vertical-align: top;\n",
              "    }\n",
              "\n",
              "    .dataframe thead th {\n",
              "        text-align: right;\n",
              "    }\n",
              "</style>\n",
              "<table border=\"1\" class=\"dataframe\">\n",
              "  <thead>\n",
              "    <tr style=\"text-align: right;\">\n",
              "      <th></th>\n",
              "      <th>DataExtracao</th>\n",
              "      <th>Ano</th>\n",
              "      <th>Mes</th>\n",
              "      <th>CanalEntrada</th>\n",
              "      <th>Condicao</th>\n",
              "      <th>GrupoEconNorm</th>\n",
              "      <th>Tipo</th>\n",
              "      <th>Servico</th>\n",
              "      <th>Modalidade</th>\n",
              "      <th>Motivo</th>\n",
              "      <th>UF</th>\n",
              "      <th>QtdeSolic</th>\n",
              "    </tr>\n",
              "  </thead>\n",
              "  <tbody>\n",
              "    <tr>\n",
              "      <th>2</th>\n",
              "      <td>2016-04-28</td>\n",
              "      <td>2006</td>\n",
              "      <td>1</td>\n",
              "      <td>Atendimento Pessoal</td>\n",
              "      <td>Nova</td>\n",
              "      <td>NET</td>\n",
              "      <td>Reclamação</td>\n",
              "      <td>Serviço Telefônico Fixo Comutado - STFC</td>\n",
              "      <td>Local</td>\n",
              "      <td>Cobrança</td>\n",
              "      <td>MG</td>\n",
              "      <td>1.0</td>\n",
              "    </tr>\n",
              "    <tr>\n",
              "      <th>3</th>\n",
              "      <td>2016-04-28</td>\n",
              "      <td>2006</td>\n",
              "      <td>1</td>\n",
              "      <td>Atendimento Pessoal</td>\n",
              "      <td>Nova</td>\n",
              "      <td>OI</td>\n",
              "      <td>Reclamação</td>\n",
              "      <td>Móvel Pessoal</td>\n",
              "      <td>Pós-Pago</td>\n",
              "      <td>Serviços Adicionais</td>\n",
              "      <td>MG</td>\n",
              "      <td>1.0</td>\n",
              "    </tr>\n",
              "    <tr>\n",
              "      <th>4</th>\n",
              "      <td>2016-04-28</td>\n",
              "      <td>2006</td>\n",
              "      <td>1</td>\n",
              "      <td>Atendimento Pessoal</td>\n",
              "      <td>Nova</td>\n",
              "      <td>Outros</td>\n",
              "      <td>Reclamação</td>\n",
              "      <td>Móvel Pessoal</td>\n",
              "      <td>Pós-Pago</td>\n",
              "      <td>Clonagem</td>\n",
              "      <td>MG</td>\n",
              "      <td>1.0</td>\n",
              "    </tr>\n",
              "    <tr>\n",
              "      <th>5</th>\n",
              "      <td>2016-04-28</td>\n",
              "      <td>2006</td>\n",
              "      <td>1</td>\n",
              "      <td>Atendimento Pessoal</td>\n",
              "      <td>Reaberta</td>\n",
              "      <td>NET</td>\n",
              "      <td>Reclamação</td>\n",
              "      <td>Serviço Telefônico Fixo Comutado - STFC</td>\n",
              "      <td>Local</td>\n",
              "      <td>Reparo</td>\n",
              "      <td>MG</td>\n",
              "      <td>1.0</td>\n",
              "    </tr>\n",
              "    <tr>\n",
              "      <th>6</th>\n",
              "      <td>2016-04-28</td>\n",
              "      <td>2006</td>\n",
              "      <td>1</td>\n",
              "      <td>Atendimento Pessoal</td>\n",
              "      <td>Reaberta</td>\n",
              "      <td>Outros</td>\n",
              "      <td>Reclamação</td>\n",
              "      <td>Serviço Telefônico Fixo Comutado - STFC</td>\n",
              "      <td>Local</td>\n",
              "      <td>Cancelamento</td>\n",
              "      <td>MG</td>\n",
              "      <td>1.0</td>\n",
              "    </tr>\n",
              "    <tr>\n",
              "      <th>...</th>\n",
              "      <td>...</td>\n",
              "      <td>...</td>\n",
              "      <td>...</td>\n",
              "      <td>...</td>\n",
              "      <td>...</td>\n",
              "      <td>...</td>\n",
              "      <td>...</td>\n",
              "      <td>...</td>\n",
              "      <td>...</td>\n",
              "      <td>...</td>\n",
              "      <td>...</td>\n",
              "      <td>...</td>\n",
              "    </tr>\n",
              "    <tr>\n",
              "      <th>35319</th>\n",
              "      <td>2016-04-28</td>\n",
              "      <td>2008</td>\n",
              "      <td>8</td>\n",
              "      <td>Fale Conosco</td>\n",
              "      <td>Reaberta</td>\n",
              "      <td>Outros</td>\n",
              "      <td>Reclamação</td>\n",
              "      <td>Serviço Telefônico Fixo Comutado - STFC</td>\n",
              "      <td>Local</td>\n",
              "      <td>Completamento de Chamadas</td>\n",
              "      <td>MG</td>\n",
              "      <td>1.0</td>\n",
              "    </tr>\n",
              "    <tr>\n",
              "      <th>35322</th>\n",
              "      <td>2016-04-28</td>\n",
              "      <td>2008</td>\n",
              "      <td>8</td>\n",
              "      <td>Fale Conosco</td>\n",
              "      <td>Reaberta</td>\n",
              "      <td>TIM</td>\n",
              "      <td>Reclamação</td>\n",
              "      <td>Móvel Pessoal</td>\n",
              "      <td>Pós-Pago</td>\n",
              "      <td>Atendimento</td>\n",
              "      <td>MG</td>\n",
              "      <td>2.0</td>\n",
              "    </tr>\n",
              "    <tr>\n",
              "      <th>35323</th>\n",
              "      <td>2016-04-28</td>\n",
              "      <td>2008</td>\n",
              "      <td>8</td>\n",
              "      <td>Fale Conosco</td>\n",
              "      <td>Reaberta</td>\n",
              "      <td>TIM</td>\n",
              "      <td>Reclamação</td>\n",
              "      <td>Móvel Pessoal</td>\n",
              "      <td>Pós-Pago</td>\n",
              "      <td>Cancelamento</td>\n",
              "      <td>MG</td>\n",
              "      <td>1.0</td>\n",
              "    </tr>\n",
              "    <tr>\n",
              "      <th>35324</th>\n",
              "      <td>2016-04-28</td>\n",
              "      <td>2008</td>\n",
              "      <td>8</td>\n",
              "      <td>Fale Conosco</td>\n",
              "      <td>Reaberta</td>\n",
              "      <td>TIM</td>\n",
              "      <td>Reclamação</td>\n",
              "      <td>Móvel Pessoal</td>\n",
              "      <td>Pós-Pago</td>\n",
              "      <td>Cobrança</td>\n",
              "      <td>MG</td>\n",
              "      <td>7.0</td>\n",
              "    </tr>\n",
              "    <tr>\n",
              "      <th>35325</th>\n",
              "      <td>2016-04-28</td>\n",
              "      <td>2008</td>\n",
              "      <td>8</td>\n",
              "      <td>Fale Conosco</td>\n",
              "      <td>Reaberta</td>\n",
              "      <td>TIM</td>\n",
              "      <td>Reclamação</td>\n",
              "      <td>Móvel Pessoal</td>\n",
              "      <td>Pós-Pago</td>\n",
              "      <td>Habilitação</td>\n",
              "      <td>MG</td>\n",
              "      <td>3.0</td>\n",
              "    </tr>\n",
              "  </tbody>\n",
              "</table>\n",
              "<p>27780 rows × 12 columns</p>\n",
              "</div>"
            ],
            "text/plain": [
              "      DataExtracao   Ano  Mes  ...                     Motivo  UF QtdeSolic\n",
              "2       2016-04-28  2006    1  ...                   Cobrança  MG       1.0\n",
              "3       2016-04-28  2006    1  ...        Serviços Adicionais  MG       1.0\n",
              "4       2016-04-28  2006    1  ...                   Clonagem  MG       1.0\n",
              "5       2016-04-28  2006    1  ...                     Reparo  MG       1.0\n",
              "6       2016-04-28  2006    1  ...               Cancelamento  MG       1.0\n",
              "...            ...   ...  ...  ...                        ...  ..       ...\n",
              "35319   2016-04-28  2008    8  ...  Completamento de Chamadas  MG       1.0\n",
              "35322   2016-04-28  2008    8  ...                Atendimento  MG       2.0\n",
              "35323   2016-04-28  2008    8  ...               Cancelamento  MG       1.0\n",
              "35324   2016-04-28  2008    8  ...                   Cobrança  MG       7.0\n",
              "35325   2016-04-28  2008    8  ...                Habilitação  MG       3.0\n",
              "\n",
              "[27780 rows x 12 columns]"
            ]
          },
          "metadata": {
            "tags": []
          },
          "execution_count": 25
        }
      ]
    },
    {
      "cell_type": "markdown",
      "metadata": {
        "id": "rqrBk89iUUUe",
        "colab_type": "text"
      },
      "source": [
        "18. Mostre o número total de solictiações `QtdeSolic` de reclamações para cada tipo de serviço `Servico`"
      ]
    },
    {
      "cell_type": "code",
      "metadata": {
        "id": "FuPRtuQqUUUf",
        "colab_type": "code",
        "colab": {
          "base_uri": "https://localhost:8080/",
          "height": 514
        },
        "outputId": "dd46774d-62c4-46ae-ec54-a7ec8747591e"
      },
      "source": [
        "pd.crosstab(reclamacoes['Servico'], ['QtdeSolic'])"
      ],
      "execution_count": 29,
      "outputs": [
        {
          "output_type": "execute_result",
          "data": {
            "text/html": [
              "<div>\n",
              "<style scoped>\n",
              "    .dataframe tbody tr th:only-of-type {\n",
              "        vertical-align: middle;\n",
              "    }\n",
              "\n",
              "    .dataframe tbody tr th {\n",
              "        vertical-align: top;\n",
              "    }\n",
              "\n",
              "    .dataframe thead th {\n",
              "        text-align: right;\n",
              "    }\n",
              "</style>\n",
              "<table border=\"1\" class=\"dataframe\">\n",
              "  <thead>\n",
              "    <tr style=\"text-align: right;\">\n",
              "      <th>col_0</th>\n",
              "      <th>QtdeSolic</th>\n",
              "    </tr>\n",
              "    <tr>\n",
              "      <th>Servico</th>\n",
              "      <th></th>\n",
              "    </tr>\n",
              "  </thead>\n",
              "  <tbody>\n",
              "    <tr>\n",
              "      <th>Limitado Privado</th>\n",
              "      <td>45</td>\n",
              "    </tr>\n",
              "    <tr>\n",
              "      <th>Móvel Pessoal</th>\n",
              "      <td>14065</td>\n",
              "    </tr>\n",
              "    <tr>\n",
              "      <th>Outros</th>\n",
              "      <td>76</td>\n",
              "    </tr>\n",
              "    <tr>\n",
              "      <th>Radioamador (PY)</th>\n",
              "      <td>50</td>\n",
              "    </tr>\n",
              "    <tr>\n",
              "      <th>Radiodifusão (Rádio e TV)</th>\n",
              "      <td>30</td>\n",
              "    </tr>\n",
              "    <tr>\n",
              "      <th>Rádio do Cidadão (PX)</th>\n",
              "      <td>31</td>\n",
              "    </tr>\n",
              "    <tr>\n",
              "      <th>Serviço Móvel Aeronáutico</th>\n",
              "      <td>3</td>\n",
              "    </tr>\n",
              "    <tr>\n",
              "      <th>Serviço Móvel Marítimo</th>\n",
              "      <td>1</td>\n",
              "    </tr>\n",
              "    <tr>\n",
              "      <th>Serviço Telefônico Fixo Comutado - STFC</th>\n",
              "      <td>8123</td>\n",
              "    </tr>\n",
              "    <tr>\n",
              "      <th>Serviço de Comunicação Multimídia</th>\n",
              "      <td>2140</td>\n",
              "    </tr>\n",
              "    <tr>\n",
              "      <th>Serviço de Rede e Transporte de Telecomunicações - SRTT</th>\n",
              "      <td>458</td>\n",
              "    </tr>\n",
              "    <tr>\n",
              "      <th>Serviços da Anatel</th>\n",
              "      <td>434</td>\n",
              "    </tr>\n",
              "    <tr>\n",
              "      <th>TV por Assinatura</th>\n",
              "      <td>2282</td>\n",
              "    </tr>\n",
              "    <tr>\n",
              "      <th>Troncalizado (Trunking)</th>\n",
              "      <td>42</td>\n",
              "    </tr>\n",
              "  </tbody>\n",
              "</table>\n",
              "</div>"
            ],
            "text/plain": [
              "col_0                                               QtdeSolic\n",
              "Servico                                                      \n",
              "Limitado Privado                                           45\n",
              "Móvel Pessoal                                           14065\n",
              "Outros                                                     76\n",
              "Radioamador (PY)                                           50\n",
              "Radiodifusão (Rádio e TV)                                  30\n",
              "Rádio do Cidadão (PX)                                      31\n",
              "Serviço Móvel Aeronáutico                                   3\n",
              "Serviço Móvel Marítimo                                      1\n",
              "Serviço Telefônico Fixo Comutado - STFC                  8123\n",
              "Serviço de Comunicação Multimídia                        2140\n",
              "Serviço de Rede e Transporte de Telecomunicaçõe...        458\n",
              "Serviços da Anatel                                        434\n",
              "TV por Assinatura                                        2282\n",
              "Troncalizado (Trunking)                                    42"
            ]
          },
          "metadata": {
            "tags": []
          },
          "execution_count": 29
        }
      ]
    },
    {
      "cell_type": "markdown",
      "metadata": {
        "id": "MkejpMuTUUUl",
        "colab_type": "text"
      },
      "source": [
        "19. Quais são os maiores ou maior motivo de solicitação de reclamações?"
      ]
    },
    {
      "cell_type": "code",
      "metadata": {
        "id": "Cx1kIv7zUUUm",
        "colab_type": "code",
        "colab": {
          "base_uri": "https://localhost:8080/",
          "height": 35
        },
        "outputId": "d22675fa-9811-4465-bba6-9713379361db"
      },
      "source": [
        "reclamacoes.Motivo.max()"
      ],
      "execution_count": null,
      "outputs": [
        {
          "output_type": "execute_result",
          "data": {
            "application/vnd.google.colaboratory.intrinsic": {
              "type": "string"
            },
            "text/plain": [
              "'Área de Cobertura'"
            ]
          },
          "metadata": {
            "tags": []
          },
          "execution_count": 31
        }
      ]
    },
    {
      "cell_type": "markdown",
      "metadata": {
        "id": "mJ4DW5CqUUUr",
        "colab_type": "text"
      },
      "source": [
        "20. Faça um agrupamento de dados pela coluna `GrupoEconNorm`, mostrando um sumário estatístico da quantidade solicitações `QtdeSolic`."
      ]
    },
    {
      "cell_type": "code",
      "metadata": {
        "id": "MZl6mvVhUUUs",
        "colab_type": "code",
        "colab": {
          "base_uri": "https://localhost:8080/",
          "height": 545
        },
        "outputId": "f02666dd-4717-43b8-c894-f0b57097f91b"
      },
      "source": [
        "pd.crosstab(df['GrupoEconNorm'], ['QtdeSolic'])"
      ],
      "execution_count": null,
      "outputs": [
        {
          "output_type": "execute_result",
          "data": {
            "text/html": [
              "<div>\n",
              "<style scoped>\n",
              "    .dataframe tbody tr th:only-of-type {\n",
              "        vertical-align: middle;\n",
              "    }\n",
              "\n",
              "    .dataframe tbody tr th {\n",
              "        vertical-align: top;\n",
              "    }\n",
              "\n",
              "    .dataframe thead th {\n",
              "        text-align: right;\n",
              "    }\n",
              "</style>\n",
              "<table border=\"1\" class=\"dataframe\">\n",
              "  <thead>\n",
              "    <tr style=\"text-align: right;\">\n",
              "      <th>col_0</th>\n",
              "      <th>QtdeSolic</th>\n",
              "    </tr>\n",
              "    <tr>\n",
              "      <th>GrupoEconNorm</th>\n",
              "      <th></th>\n",
              "    </tr>\n",
              "  </thead>\n",
              "  <tbody>\n",
              "    <tr>\n",
              "      <th>ALGAR</th>\n",
              "      <td>16459</td>\n",
              "    </tr>\n",
              "    <tr>\n",
              "      <th>Anatel</th>\n",
              "      <td>22833</td>\n",
              "    </tr>\n",
              "    <tr>\n",
              "      <th>BLUE</th>\n",
              "      <td>2781</td>\n",
              "    </tr>\n",
              "    <tr>\n",
              "      <th>CLARO</th>\n",
              "      <td>26806</td>\n",
              "    </tr>\n",
              "    <tr>\n",
              "      <th>EMBRATEL</th>\n",
              "      <td>1420</td>\n",
              "    </tr>\n",
              "    <tr>\n",
              "      <th>GVT</th>\n",
              "      <td>6398</td>\n",
              "    </tr>\n",
              "    <tr>\n",
              "      <th>Intelig</th>\n",
              "      <td>228</td>\n",
              "    </tr>\n",
              "    <tr>\n",
              "      <th>NET</th>\n",
              "      <td>23452</td>\n",
              "    </tr>\n",
              "    <tr>\n",
              "      <th>NEXTEL</th>\n",
              "      <td>1638</td>\n",
              "    </tr>\n",
              "    <tr>\n",
              "      <th>OI</th>\n",
              "      <td>64661</td>\n",
              "    </tr>\n",
              "    <tr>\n",
              "      <th>Outros</th>\n",
              "      <td>9673</td>\n",
              "    </tr>\n",
              "    <tr>\n",
              "      <th>SERCOMTEL</th>\n",
              "      <td>52</td>\n",
              "    </tr>\n",
              "    <tr>\n",
              "      <th>SKY</th>\n",
              "      <td>9804</td>\n",
              "    </tr>\n",
              "    <tr>\n",
              "      <th>TIM</th>\n",
              "      <td>28903</td>\n",
              "    </tr>\n",
              "    <tr>\n",
              "      <th>VIVO</th>\n",
              "      <td>32401</td>\n",
              "    </tr>\n",
              "  </tbody>\n",
              "</table>\n",
              "</div>"
            ],
            "text/plain": [
              "col_0          QtdeSolic\n",
              "GrupoEconNorm           \n",
              "ALGAR              16459\n",
              "Anatel             22833\n",
              "BLUE                2781\n",
              "CLARO              26806\n",
              "EMBRATEL            1420\n",
              "GVT                 6398\n",
              "Intelig              228\n",
              "NET                23452\n",
              "NEXTEL              1638\n",
              "OI                 64661\n",
              "Outros              9673\n",
              "SERCOMTEL             52\n",
              "SKY                 9804\n",
              "TIM                28903\n",
              "VIVO               32401"
            ]
          },
          "metadata": {
            "tags": []
          },
          "execution_count": 32
        }
      ]
    }
  ]
}