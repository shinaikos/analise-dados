{
  "nbformat": 4,
  "nbformat_minor": 0,
  "metadata": {
    "kernelspec": {
      "display_name": "Python 3",
      "language": "python",
      "name": "python3"
    },
    "language_info": {
      "codemirror_mode": {
        "name": "ipython",
        "version": 3
      },
      "file_extension": ".py",
      "mimetype": "text/x-python",
      "name": "python",
      "nbconvert_exporter": "python",
      "pygments_lexer": "ipython3",
      "version": "3.7.4"
    },
    "colab": {
      "name": "exercícios_anatel_mg.ipynb",
      "provenance": [],
      "toc_visible": true
    }
  },
  "cells": [
    {
      "cell_type": "markdown",
      "metadata": {
        "id": "ELMU8GVHUUR9",
        "colab_type": "text"
      },
      "source": [
        "![anatel](img/anatel_logo.png \"Logo Anatel\")\n",
        "\n",
        "# Análise de Dados da Anatel em Minas Gerais (2006 - 2019)"
      ]
    },
    {
      "cell_type": "markdown",
      "metadata": {
        "id": "Dn_vOFD3UUSA",
        "colab_type": "text"
      },
      "source": [
        "A Agência Nacional de Telecomunicaçõe ([Anatel](https://www.anatel.gov.br/institucional/)) foi criada em 16 de julho de 1997 com o objetivo de regular o setor de telecomunicações para contribuir com o desenvolvimento do Brasil. Neste estudo iremos explorar o conjunto de dados das **Reclamações Registradas na Anatel** no estado de Minas Gerais durante os anos de 2006 até 2019. Os dados foram baixaados do  website [Dados Abertos](http://www.dados.gov.br/dataset/solicitacoesregistradasnaanatel) e o [Dicionário de Dados Oficial](data/Reclamações_Glossário_e_Metadados.pdf) está disponível na pasta: [`data/Reclamações_Glossário_e_Metadados.pdf`](data/Reclamações_Glossário_e_Metadados.pdf)."
      ]
    },
    {
      "cell_type": "markdown",
      "metadata": {
        "id": "JvtqLfYPUUSC",
        "colab_type": "text"
      },
      "source": [
        "## Exercícios\n",
        "Faça as questões abaixo usando somente a biblioteca [pandas](https://pandas.pydata.org/)."
      ]
    },
    {
      "cell_type": "markdown",
      "metadata": {
        "id": "hybMK6bGUUSE",
        "colab_type": "text"
      },
      "source": [
        "1. Importe o pacote **pandas** como o nome pd."
      ]
    },
    {
      "cell_type": "code",
      "metadata": {
        "id": "RXXmT5UFUUSF",
        "colab_type": "code",
        "colab": {}
      },
      "source": [
        "import numpy as np\n",
        "import pandas as pd"
      ],
      "execution_count": 14,
      "outputs": []
    },
    {
      "cell_type": "markdown",
      "metadata": {
        "id": "AP2RXhWwUUSO",
        "colab_type": "text"
      },
      "source": [
        "2. Carregue em memória o conjunto de dados disponível na pasta [`data/anatel_mg_2006_2019.csv`](data/anatel_mg_2006_2019.csv) para uma variável chamada **df**."
      ]
    },
    {
      "cell_type": "code",
      "metadata": {
        "id": "VzB4HxqFUUST",
        "colab_type": "code",
        "colab": {}
      },
      "source": [
        "df = pd.read_csv('anatel_mg_2006_2019.csv')"
      ],
      "execution_count": 15,
      "outputs": []
    },
    {
      "cell_type": "markdown",
      "metadata": {
        "id": "_Vr95lSmUUSb",
        "colab_type": "text"
      },
      "source": [
        "3. Quantas linhas e quantas colunas foram carregadas em memória?"
      ]
    },
    {
      "cell_type": "code",
      "metadata": {
        "id": "Ud6pp5gRUUSd",
        "colab_type": "code",
        "colab": {
          "base_uri": "https://localhost:8080/",
          "height": 34
        },
        "outputId": "9722a395-dd21-4466-ba74-e852a2b2f0a8"
      },
      "source": [
        "df.shape"
      ],
      "execution_count": 16,
      "outputs": [
        {
          "output_type": "execute_result",
          "data": {
            "text/plain": [
              "(247510, 12)"
            ]
          },
          "metadata": {
            "tags": []
          },
          "execution_count": 16
        }
      ]
    },
    {
      "cell_type": "markdown",
      "metadata": {
        "id": "6mSWh_uHUUSk",
        "colab_type": "text"
      },
      "source": [
        "4. Mostre as 5 primeiras linhas do *dataset*."
      ]
    },
    {
      "cell_type": "code",
      "metadata": {
        "id": "G_e57JkOUUSm",
        "colab_type": "code",
        "colab": {
          "base_uri": "https://localhost:8080/",
          "height": 360
        },
        "outputId": "7b34ec5a-84ac-4da9-c8c7-18f9d80a4c61"
      },
      "source": [
        "df.head()"
      ],
      "execution_count": 17,
      "outputs": [
        {
          "output_type": "execute_result",
          "data": {
            "text/html": [
              "<div>\n",
              "<style scoped>\n",
              "    .dataframe tbody tr th:only-of-type {\n",
              "        vertical-align: middle;\n",
              "    }\n",
              "\n",
              "    .dataframe tbody tr th {\n",
              "        vertical-align: top;\n",
              "    }\n",
              "\n",
              "    .dataframe thead th {\n",
              "        text-align: right;\n",
              "    }\n",
              "</style>\n",
              "<table border=\"1\" class=\"dataframe\">\n",
              "  <thead>\n",
              "    <tr style=\"text-align: right;\">\n",
              "      <th></th>\n",
              "      <th>DataExtracao</th>\n",
              "      <th>Ano</th>\n",
              "      <th>Mes</th>\n",
              "      <th>CanalEntrada</th>\n",
              "      <th>Condicao</th>\n",
              "      <th>GrupoEconNorm</th>\n",
              "      <th>Tipo</th>\n",
              "      <th>Servico</th>\n",
              "      <th>Modalidade</th>\n",
              "      <th>Motivo</th>\n",
              "      <th>UF</th>\n",
              "      <th>QtdeSolic</th>\n",
              "    </tr>\n",
              "  </thead>\n",
              "  <tbody>\n",
              "    <tr>\n",
              "      <th>0</th>\n",
              "      <td>2016-04-28</td>\n",
              "      <td>2006</td>\n",
              "      <td>1</td>\n",
              "      <td>Atendimento Pessoal</td>\n",
              "      <td>Nova</td>\n",
              "      <td>Anatel</td>\n",
              "      <td>Denúncia</td>\n",
              "      <td>Radiodifusão (Rádio e TV)</td>\n",
              "      <td>Rádio FM</td>\n",
              "      <td>Interferência</td>\n",
              "      <td>MG</td>\n",
              "      <td>3.0</td>\n",
              "    </tr>\n",
              "    <tr>\n",
              "      <th>1</th>\n",
              "      <td>2016-04-28</td>\n",
              "      <td>2006</td>\n",
              "      <td>1</td>\n",
              "      <td>Atendimento Pessoal</td>\n",
              "      <td>Nova</td>\n",
              "      <td>Anatel</td>\n",
              "      <td>Denúncia</td>\n",
              "      <td>Radiodifusão (Rádio e TV)</td>\n",
              "      <td>Rádio FM</td>\n",
              "      <td>Outorga</td>\n",
              "      <td>MG</td>\n",
              "      <td>8.0</td>\n",
              "    </tr>\n",
              "    <tr>\n",
              "      <th>2</th>\n",
              "      <td>2016-04-28</td>\n",
              "      <td>2006</td>\n",
              "      <td>1</td>\n",
              "      <td>Atendimento Pessoal</td>\n",
              "      <td>Nova</td>\n",
              "      <td>NET</td>\n",
              "      <td>Reclamação</td>\n",
              "      <td>Serviço Telefônico Fixo Comutado - STFC</td>\n",
              "      <td>Local</td>\n",
              "      <td>Cobrança</td>\n",
              "      <td>MG</td>\n",
              "      <td>1.0</td>\n",
              "    </tr>\n",
              "    <tr>\n",
              "      <th>3</th>\n",
              "      <td>2016-04-28</td>\n",
              "      <td>2006</td>\n",
              "      <td>1</td>\n",
              "      <td>Atendimento Pessoal</td>\n",
              "      <td>Nova</td>\n",
              "      <td>OI</td>\n",
              "      <td>Reclamação</td>\n",
              "      <td>Móvel Pessoal</td>\n",
              "      <td>Pós-Pago</td>\n",
              "      <td>Serviços Adicionais</td>\n",
              "      <td>MG</td>\n",
              "      <td>1.0</td>\n",
              "    </tr>\n",
              "    <tr>\n",
              "      <th>4</th>\n",
              "      <td>2016-04-28</td>\n",
              "      <td>2006</td>\n",
              "      <td>1</td>\n",
              "      <td>Atendimento Pessoal</td>\n",
              "      <td>Nova</td>\n",
              "      <td>Outros</td>\n",
              "      <td>Reclamação</td>\n",
              "      <td>Móvel Pessoal</td>\n",
              "      <td>Pós-Pago</td>\n",
              "      <td>Clonagem</td>\n",
              "      <td>MG</td>\n",
              "      <td>1.0</td>\n",
              "    </tr>\n",
              "  </tbody>\n",
              "</table>\n",
              "</div>"
            ],
            "text/plain": [
              "  DataExtracao   Ano  Mes  ...               Motivo  UF QtdeSolic\n",
              "0   2016-04-28  2006    1  ...        Interferência  MG       3.0\n",
              "1   2016-04-28  2006    1  ...              Outorga  MG       8.0\n",
              "2   2016-04-28  2006    1  ...             Cobrança  MG       1.0\n",
              "3   2016-04-28  2006    1  ...  Serviços Adicionais  MG       1.0\n",
              "4   2016-04-28  2006    1  ...             Clonagem  MG       1.0\n",
              "\n",
              "[5 rows x 12 columns]"
            ]
          },
          "metadata": {
            "tags": []
          },
          "execution_count": 17
        }
      ]
    },
    {
      "cell_type": "markdown",
      "metadata": {
        "id": "V4blRbUlUUSt",
        "colab_type": "text"
      },
      "source": [
        "5.  Quais são os tipos de dados de cada uma das colunas?"
      ]
    },
    {
      "cell_type": "code",
      "metadata": {
        "id": "hY8gBktVUUSv",
        "colab_type": "code",
        "colab": {
          "base_uri": "https://localhost:8080/",
          "height": 238
        },
        "outputId": "d239b831-7aaa-4172-a46f-3cef12914579"
      },
      "source": [
        "df.dtypes"
      ],
      "execution_count": 18,
      "outputs": [
        {
          "output_type": "execute_result",
          "data": {
            "text/plain": [
              "DataExtracao      object\n",
              "Ano                int64\n",
              "Mes                int64\n",
              "CanalEntrada      object\n",
              "Condicao          object\n",
              "GrupoEconNorm     object\n",
              "Tipo              object\n",
              "Servico           object\n",
              "Modalidade        object\n",
              "Motivo            object\n",
              "UF                object\n",
              "QtdeSolic        float64\n",
              "dtype: object"
            ]
          },
          "metadata": {
            "tags": []
          },
          "execution_count": 18
        }
      ]
    },
    {
      "cell_type": "markdown",
      "metadata": {
        "id": "6qiWT0WyUUS2",
        "colab_type": "text"
      },
      "source": [
        "6. Mostre a quantidade de colunas para cada um dos tipos de dados."
      ]
    },
    {
      "cell_type": "code",
      "metadata": {
        "id": "ubpRQKx9UUS3",
        "colab_type": "code",
        "colab": {
          "base_uri": "https://localhost:8080/",
          "height": 85
        },
        "outputId": "fdb66075-d5d4-40ba-b005-0038a48b4348"
      },
      "source": [
        "df.dtypes.value_counts()"
      ],
      "execution_count": 19,
      "outputs": [
        {
          "output_type": "execute_result",
          "data": {
            "text/plain": [
              "object     9\n",
              "int64      2\n",
              "float64    1\n",
              "dtype: int64"
            ]
          },
          "metadata": {
            "tags": []
          },
          "execution_count": 19
        }
      ]
    },
    {
      "cell_type": "markdown",
      "metadata": {
        "id": "x7nVgyhEUUS_",
        "colab_type": "text"
      },
      "source": [
        "7. Mostre as informações básicas do DataFrame."
      ]
    },
    {
      "cell_type": "code",
      "metadata": {
        "id": "tuglb6MlUUTB",
        "colab_type": "code",
        "colab": {
          "base_uri": "https://localhost:8080/",
          "height": 340
        },
        "outputId": "6650ea26-7f5c-4a36-e24d-6b9203fc7047"
      },
      "source": [
        "df.info()"
      ],
      "execution_count": 20,
      "outputs": [
        {
          "output_type": "stream",
          "text": [
            "<class 'pandas.core.frame.DataFrame'>\n",
            "RangeIndex: 247510 entries, 0 to 247509\n",
            "Data columns (total 12 columns):\n",
            " #   Column         Non-Null Count   Dtype  \n",
            "---  ------         --------------   -----  \n",
            " 0   DataExtracao   247510 non-null  object \n",
            " 1   Ano            247510 non-null  int64  \n",
            " 2   Mes            247510 non-null  int64  \n",
            " 3   CanalEntrada   247510 non-null  object \n",
            " 4   Condicao       247510 non-null  object \n",
            " 5   GrupoEconNorm  247510 non-null  object \n",
            " 6   Tipo           247510 non-null  object \n",
            " 7   Servico        247510 non-null  object \n",
            " 8   Modalidade     247510 non-null  object \n",
            " 9   Motivo         247510 non-null  object \n",
            " 10  UF             247509 non-null  object \n",
            " 11  QtdeSolic      247509 non-null  float64\n",
            "dtypes: float64(1), int64(2), object(9)\n",
            "memory usage: 22.7+ MB\n"
          ],
          "name": "stdout"
        }
      ]
    },
    {
      "cell_type": "markdown",
      "metadata": {
        "id": "DiD2aHZAUUTI",
        "colab_type": "text"
      },
      "source": [
        "8. Verifique se existem dados ausentes (*misssing data*) no conjunto de dados."
      ]
    },
    {
      "cell_type": "code",
      "metadata": {
        "id": "IKkp1VHrUUTJ",
        "colab_type": "code",
        "colab": {
          "base_uri": "https://localhost:8080/",
          "height": 34
        },
        "outputId": "2c4fc026-7ebd-441b-d653-ef909efdd202"
      },
      "source": [
        "df.isnull().values.any()"
      ],
      "execution_count": 21,
      "outputs": [
        {
          "output_type": "execute_result",
          "data": {
            "text/plain": [
              "True"
            ]
          },
          "metadata": {
            "tags": []
          },
          "execution_count": 21
        }
      ]
    },
    {
      "cell_type": "markdown",
      "metadata": {
        "id": "64TdLqy-UUTP",
        "colab_type": "text"
      },
      "source": [
        "9. Qual é o número total de dados ausentes?"
      ]
    },
    {
      "cell_type": "code",
      "metadata": {
        "id": "g4-5uV8BUUTR",
        "colab_type": "code",
        "colab": {
          "base_uri": "https://localhost:8080/",
          "height": 34
        },
        "outputId": "2a423fb8-4b81-4466-cfdb-f4f04ae293f0"
      },
      "source": [
        "df.isnull().sum().sum()"
      ],
      "execution_count": 22,
      "outputs": [
        {
          "output_type": "execute_result",
          "data": {
            "text/plain": [
              "2"
            ]
          },
          "metadata": {
            "tags": []
          },
          "execution_count": 22
        }
      ]
    },
    {
      "cell_type": "markdown",
      "metadata": {
        "id": "UGhUij13UUTd",
        "colab_type": "text"
      },
      "source": [
        "10. Qual é o número total de dados ausentes por coluna? "
      ]
    },
    {
      "cell_type": "code",
      "metadata": {
        "id": "Mq_i-q3tUUTf",
        "colab_type": "code",
        "colab": {
          "base_uri": "https://localhost:8080/",
          "height": 238
        },
        "outputId": "7235098c-4dca-48dd-e111-920b6854fc88"
      },
      "source": [
        "df.isnull().sum()"
      ],
      "execution_count": 11,
      "outputs": [
        {
          "output_type": "execute_result",
          "data": {
            "text/plain": [
              "DataExtracao     0\n",
              "Ano              0\n",
              "Mes              0\n",
              "CanalEntrada     0\n",
              "Condicao         0\n",
              "GrupoEconNorm    0\n",
              "Tipo             0\n",
              "Servico          0\n",
              "Modalidade       0\n",
              "Motivo           0\n",
              "UF               1\n",
              "QtdeSolic        1\n",
              "dtype: int64"
            ]
          },
          "metadata": {
            "tags": []
          },
          "execution_count": 11
        }
      ]
    },
    {
      "cell_type": "markdown",
      "metadata": {
        "id": "40NM24PSUUTo",
        "colab_type": "text"
      },
      "source": [
        "11. Remova todos os dados ausentes encontrados."
      ]
    },
    {
      "cell_type": "code",
      "metadata": {
        "id": "qY41ak11UUTp",
        "colab_type": "code",
        "colab": {
          "base_uri": "https://localhost:8080/",
          "height": 255
        },
        "outputId": "37cfd973-db3b-4cea-da3c-8dff4255aef6"
      },
      "source": [
        "df = df.dropna();\n",
        "print(df)"
      ],
      "execution_count": 23,
      "outputs": [
        {
          "output_type": "stream",
          "text": [
            "       DataExtracao   Ano  ...  UF QtdeSolic\n",
            "0        2016-04-28  2006  ...  MG       3.0\n",
            "1        2016-04-28  2006  ...  MG       8.0\n",
            "2        2016-04-28  2006  ...  MG       1.0\n",
            "3        2016-04-28  2006  ...  MG       1.0\n",
            "4        2016-04-28  2006  ...  MG       1.0\n",
            "...             ...   ...  ...  ..       ...\n",
            "247504   2017-01-08  2016  ...  MG     168.0\n",
            "247505   2017-01-08  2016  ...  MG       1.0\n",
            "247506   2017-01-08  2016  ...  MG       4.0\n",
            "247507   2017-01-08  2016  ...  MG       7.0\n",
            "247508   2017-01-08  2016  ...  MG       2.0\n",
            "\n",
            "[247509 rows x 12 columns]\n"
          ],
          "name": "stdout"
        }
      ]
    },
    {
      "cell_type": "markdown",
      "metadata": {
        "id": "DEpeO8TsUUTv",
        "colab_type": "text"
      },
      "source": [
        "12. Selecione o serviço que possui o maior número de solicitações `QtdeSolic` na Anatel."
      ]
    },
    {
      "cell_type": "code",
      "metadata": {
        "id": "CNS0eRrlUUTw",
        "colab_type": "code",
        "colab": {
          "base_uri": "https://localhost:8080/",
          "height": 168
        },
        "outputId": "0c8a197a-5fb3-4923-875c-1eb9351fc7b0"
      },
      "source": [
        "df.sort_values(by='QtdeSolic', ascending=False).head(1)"
      ],
      "execution_count": 24,
      "outputs": [
        {
          "output_type": "execute_result",
          "data": {
            "text/html": [
              "<div>\n",
              "<style scoped>\n",
              "    .dataframe tbody tr th:only-of-type {\n",
              "        vertical-align: middle;\n",
              "    }\n",
              "\n",
              "    .dataframe tbody tr th {\n",
              "        vertical-align: top;\n",
              "    }\n",
              "\n",
              "    .dataframe thead th {\n",
              "        text-align: right;\n",
              "    }\n",
              "</style>\n",
              "<table border=\"1\" class=\"dataframe\">\n",
              "  <thead>\n",
              "    <tr style=\"text-align: right;\">\n",
              "      <th></th>\n",
              "      <th>DataExtracao</th>\n",
              "      <th>Ano</th>\n",
              "      <th>Mes</th>\n",
              "      <th>CanalEntrada</th>\n",
              "      <th>Condicao</th>\n",
              "      <th>GrupoEconNorm</th>\n",
              "      <th>Tipo</th>\n",
              "      <th>Servico</th>\n",
              "      <th>Modalidade</th>\n",
              "      <th>Motivo</th>\n",
              "      <th>UF</th>\n",
              "      <th>QtdeSolic</th>\n",
              "    </tr>\n",
              "  </thead>\n",
              "  <tbody>\n",
              "    <tr>\n",
              "      <th>139270</th>\n",
              "      <td>2016-04-19</td>\n",
              "      <td>2013</td>\n",
              "      <td>12</td>\n",
              "      <td>Call Center</td>\n",
              "      <td>Nova</td>\n",
              "      <td>OI</td>\n",
              "      <td>Reclamação</td>\n",
              "      <td>Serviço Telefônico Fixo Comutado - STFC</td>\n",
              "      <td>Local</td>\n",
              "      <td>Reparo</td>\n",
              "      <td>MG</td>\n",
              "      <td>4164.0</td>\n",
              "    </tr>\n",
              "  </tbody>\n",
              "</table>\n",
              "</div>"
            ],
            "text/plain": [
              "       DataExtracao   Ano  Mes CanalEntrada  ... Modalidade  Motivo  UF QtdeSolic\n",
              "139270   2016-04-19  2013   12  Call Center  ...      Local  Reparo  MG    4164.0\n",
              "\n",
              "[1 rows x 12 columns]"
            ]
          },
          "metadata": {
            "tags": []
          },
          "execution_count": 24
        }
      ]
    },
    {
      "cell_type": "markdown",
      "metadata": {
        "id": "FwoG4K-mUUT3",
        "colab_type": "text"
      },
      "source": [
        "13. Qual é o menor número de solicitações `QtdeSolic` na Anatel."
      ]
    },
    {
      "cell_type": "code",
      "metadata": {
        "id": "SdzQQDDBUUT5",
        "colab_type": "code",
        "colab": {
          "base_uri": "https://localhost:8080/",
          "height": 34
        },
        "outputId": "d0fb1277-f153-4925-e600-6a77de7e4d04"
      },
      "source": [
        "df.QtdeSolic.min()"
      ],
      "execution_count": 25,
      "outputs": [
        {
          "output_type": "execute_result",
          "data": {
            "text/plain": [
              "1.0"
            ]
          },
          "metadata": {
            "tags": []
          },
          "execution_count": 25
        }
      ]
    },
    {
      "cell_type": "markdown",
      "metadata": {
        "id": "UCGg7HbXUUT_",
        "colab_type": "text"
      },
      "source": [
        "14. Mostre todas as linhs iguais ao menor número de solicitações `QtdeSolic` na Anatel."
      ]
    },
    {
      "cell_type": "code",
      "metadata": {
        "id": "fw2s9NrpUUUA",
        "colab_type": "code",
        "colab": {
          "base_uri": "https://localhost:8080/",
          "height": 932
        },
        "outputId": "be198075-b51c-438c-d36d-677cd6642079"
      },
      "source": [
        "df.loc[df['QtdeSolic'] == 1.0]"
      ],
      "execution_count": 26,
      "outputs": [
        {
          "output_type": "execute_result",
          "data": {
            "text/html": [
              "<div>\n",
              "<style scoped>\n",
              "    .dataframe tbody tr th:only-of-type {\n",
              "        vertical-align: middle;\n",
              "    }\n",
              "\n",
              "    .dataframe tbody tr th {\n",
              "        vertical-align: top;\n",
              "    }\n",
              "\n",
              "    .dataframe thead th {\n",
              "        text-align: right;\n",
              "    }\n",
              "</style>\n",
              "<table border=\"1\" class=\"dataframe\">\n",
              "  <thead>\n",
              "    <tr style=\"text-align: right;\">\n",
              "      <th></th>\n",
              "      <th>DataExtracao</th>\n",
              "      <th>Ano</th>\n",
              "      <th>Mes</th>\n",
              "      <th>CanalEntrada</th>\n",
              "      <th>Condicao</th>\n",
              "      <th>GrupoEconNorm</th>\n",
              "      <th>Tipo</th>\n",
              "      <th>Servico</th>\n",
              "      <th>Modalidade</th>\n",
              "      <th>Motivo</th>\n",
              "      <th>UF</th>\n",
              "      <th>QtdeSolic</th>\n",
              "    </tr>\n",
              "  </thead>\n",
              "  <tbody>\n",
              "    <tr>\n",
              "      <th>2</th>\n",
              "      <td>2016-04-28</td>\n",
              "      <td>2006</td>\n",
              "      <td>1</td>\n",
              "      <td>Atendimento Pessoal</td>\n",
              "      <td>Nova</td>\n",
              "      <td>NET</td>\n",
              "      <td>Reclamação</td>\n",
              "      <td>Serviço Telefônico Fixo Comutado - STFC</td>\n",
              "      <td>Local</td>\n",
              "      <td>Cobrança</td>\n",
              "      <td>MG</td>\n",
              "      <td>1.0</td>\n",
              "    </tr>\n",
              "    <tr>\n",
              "      <th>3</th>\n",
              "      <td>2016-04-28</td>\n",
              "      <td>2006</td>\n",
              "      <td>1</td>\n",
              "      <td>Atendimento Pessoal</td>\n",
              "      <td>Nova</td>\n",
              "      <td>OI</td>\n",
              "      <td>Reclamação</td>\n",
              "      <td>Móvel Pessoal</td>\n",
              "      <td>Pós-Pago</td>\n",
              "      <td>Serviços Adicionais</td>\n",
              "      <td>MG</td>\n",
              "      <td>1.0</td>\n",
              "    </tr>\n",
              "    <tr>\n",
              "      <th>4</th>\n",
              "      <td>2016-04-28</td>\n",
              "      <td>2006</td>\n",
              "      <td>1</td>\n",
              "      <td>Atendimento Pessoal</td>\n",
              "      <td>Nova</td>\n",
              "      <td>Outros</td>\n",
              "      <td>Reclamação</td>\n",
              "      <td>Móvel Pessoal</td>\n",
              "      <td>Pós-Pago</td>\n",
              "      <td>Clonagem</td>\n",
              "      <td>MG</td>\n",
              "      <td>1.0</td>\n",
              "    </tr>\n",
              "    <tr>\n",
              "      <th>5</th>\n",
              "      <td>2016-04-28</td>\n",
              "      <td>2006</td>\n",
              "      <td>1</td>\n",
              "      <td>Atendimento Pessoal</td>\n",
              "      <td>Reaberta</td>\n",
              "      <td>NET</td>\n",
              "      <td>Reclamação</td>\n",
              "      <td>Serviço Telefônico Fixo Comutado - STFC</td>\n",
              "      <td>Local</td>\n",
              "      <td>Reparo</td>\n",
              "      <td>MG</td>\n",
              "      <td>1.0</td>\n",
              "    </tr>\n",
              "    <tr>\n",
              "      <th>6</th>\n",
              "      <td>2016-04-28</td>\n",
              "      <td>2006</td>\n",
              "      <td>1</td>\n",
              "      <td>Atendimento Pessoal</td>\n",
              "      <td>Reaberta</td>\n",
              "      <td>Outros</td>\n",
              "      <td>Reclamação</td>\n",
              "      <td>Serviço Telefônico Fixo Comutado - STFC</td>\n",
              "      <td>Local</td>\n",
              "      <td>Cancelamento</td>\n",
              "      <td>MG</td>\n",
              "      <td>1.0</td>\n",
              "    </tr>\n",
              "    <tr>\n",
              "      <th>...</th>\n",
              "      <td>...</td>\n",
              "      <td>...</td>\n",
              "      <td>...</td>\n",
              "      <td>...</td>\n",
              "      <td>...</td>\n",
              "      <td>...</td>\n",
              "      <td>...</td>\n",
              "      <td>...</td>\n",
              "      <td>...</td>\n",
              "      <td>...</td>\n",
              "      <td>...</td>\n",
              "      <td>...</td>\n",
              "    </tr>\n",
              "    <tr>\n",
              "      <th>247476</th>\n",
              "      <td>2017-01-08</td>\n",
              "      <td>2016</td>\n",
              "      <td>2</td>\n",
              "      <td>Call Center</td>\n",
              "      <td>Nova</td>\n",
              "      <td>OI</td>\n",
              "      <td>Reclamação</td>\n",
              "      <td>Telefone Fixo</td>\n",
              "      <td>Documento de Cobrança, Contrato, Gravações</td>\n",
              "      <td>Mudança de endereço para recebimento de conta ...</td>\n",
              "      <td>MG</td>\n",
              "      <td>1.0</td>\n",
              "    </tr>\n",
              "    <tr>\n",
              "      <th>247483</th>\n",
              "      <td>2017-01-08</td>\n",
              "      <td>2016</td>\n",
              "      <td>2</td>\n",
              "      <td>Call Center</td>\n",
              "      <td>Nova</td>\n",
              "      <td>OI</td>\n",
              "      <td>Reclamação</td>\n",
              "      <td>Telefone Fixo</td>\n",
              "      <td>Instalação ou Ativação ou Habilitação</td>\n",
              "      <td>Instalação ou habilitação de serviço cancelada...</td>\n",
              "      <td>MG</td>\n",
              "      <td>1.0</td>\n",
              "    </tr>\n",
              "    <tr>\n",
              "      <th>247484</th>\n",
              "      <td>2017-01-08</td>\n",
              "      <td>2016</td>\n",
              "      <td>2</td>\n",
              "      <td>Call Center</td>\n",
              "      <td>Nova</td>\n",
              "      <td>OI</td>\n",
              "      <td>Reclamação</td>\n",
              "      <td>Telefone Fixo</td>\n",
              "      <td>Instalação ou Ativação ou Habilitação</td>\n",
              "      <td>Não fornecimento de serviço adicional</td>\n",
              "      <td>MG</td>\n",
              "      <td>1.0</td>\n",
              "    </tr>\n",
              "    <tr>\n",
              "      <th>247486</th>\n",
              "      <td>2017-01-08</td>\n",
              "      <td>2016</td>\n",
              "      <td>2</td>\n",
              "      <td>Call Center</td>\n",
              "      <td>Nova</td>\n",
              "      <td>OI</td>\n",
              "      <td>Reclamação</td>\n",
              "      <td>Telefone Fixo</td>\n",
              "      <td>Longa Distância/Interurbano</td>\n",
              "      <td>Dificuldade de completamento de chamada</td>\n",
              "      <td>MG</td>\n",
              "      <td>1.0</td>\n",
              "    </tr>\n",
              "    <tr>\n",
              "      <th>247505</th>\n",
              "      <td>2017-01-08</td>\n",
              "      <td>2016</td>\n",
              "      <td>2</td>\n",
              "      <td>Call Center</td>\n",
              "      <td>Nova</td>\n",
              "      <td>OI</td>\n",
              "      <td>Reclamação</td>\n",
              "      <td>Telefone Fixo</td>\n",
              "      <td>Ressarcimento</td>\n",
              "      <td>Não possibilidade de escolha da forma do ressa...</td>\n",
              "      <td>MG</td>\n",
              "      <td>1.0</td>\n",
              "    </tr>\n",
              "  </tbody>\n",
              "</table>\n",
              "<p>111049 rows × 12 columns</p>\n",
              "</div>"
            ],
            "text/plain": [
              "       DataExtracao   Ano  ...  UF QtdeSolic\n",
              "2        2016-04-28  2006  ...  MG       1.0\n",
              "3        2016-04-28  2006  ...  MG       1.0\n",
              "4        2016-04-28  2006  ...  MG       1.0\n",
              "5        2016-04-28  2006  ...  MG       1.0\n",
              "6        2016-04-28  2006  ...  MG       1.0\n",
              "...             ...   ...  ...  ..       ...\n",
              "247476   2017-01-08  2016  ...  MG       1.0\n",
              "247483   2017-01-08  2016  ...  MG       1.0\n",
              "247484   2017-01-08  2016  ...  MG       1.0\n",
              "247486   2017-01-08  2016  ...  MG       1.0\n",
              "247505   2017-01-08  2016  ...  MG       1.0\n",
              "\n",
              "[111049 rows x 12 columns]"
            ]
          },
          "metadata": {
            "tags": []
          },
          "execution_count": 26
        }
      ]
    },
    {
      "cell_type": "markdown",
      "metadata": {
        "id": "8-z8b5BtUUUI",
        "colab_type": "text"
      },
      "source": [
        "15. Mostre as contagens de solicitações `QtdeSolic` por tipo de serviço `Servico`."
      ]
    },
    {
      "cell_type": "code",
      "metadata": {
        "id": "eYqlFXV4UUUK",
        "colab_type": "code",
        "colab": {
          "base_uri": "https://localhost:8080/",
          "height": 669
        },
        "outputId": "3b5f3888-f2ae-412b-d035-e68fc79d2967"
      },
      "source": [
        "pd.crosstab(df['Servico'], ['QtdeSolic'])"
      ],
      "execution_count": 27,
      "outputs": [
        {
          "output_type": "execute_result",
          "data": {
            "text/html": [
              "<div>\n",
              "<style scoped>\n",
              "    .dataframe tbody tr th:only-of-type {\n",
              "        vertical-align: middle;\n",
              "    }\n",
              "\n",
              "    .dataframe tbody tr th {\n",
              "        vertical-align: top;\n",
              "    }\n",
              "\n",
              "    .dataframe thead th {\n",
              "        text-align: right;\n",
              "    }\n",
              "</style>\n",
              "<table border=\"1\" class=\"dataframe\">\n",
              "  <thead>\n",
              "    <tr style=\"text-align: right;\">\n",
              "      <th>col_0</th>\n",
              "      <th>QtdeSolic</th>\n",
              "    </tr>\n",
              "    <tr>\n",
              "      <th>Servico</th>\n",
              "      <th></th>\n",
              "    </tr>\n",
              "  </thead>\n",
              "  <tbody>\n",
              "    <tr>\n",
              "      <th>Banda Larga Fixa</th>\n",
              "      <td>12533</td>\n",
              "    </tr>\n",
              "    <tr>\n",
              "      <th>Celular Pré-Pago</th>\n",
              "      <td>12410</td>\n",
              "    </tr>\n",
              "    <tr>\n",
              "      <th>Celular Pós-Pago</th>\n",
              "      <td>23593</td>\n",
              "    </tr>\n",
              "    <tr>\n",
              "      <th>Limitado Privado</th>\n",
              "      <td>463</td>\n",
              "    </tr>\n",
              "    <tr>\n",
              "      <th>Móvel Pessoal</th>\n",
              "      <td>67732</td>\n",
              "    </tr>\n",
              "    <tr>\n",
              "      <th>Outros</th>\n",
              "      <td>908</td>\n",
              "    </tr>\n",
              "    <tr>\n",
              "      <th>Radioamador (PY)</th>\n",
              "      <td>991</td>\n",
              "    </tr>\n",
              "    <tr>\n",
              "      <th>Radiochamada (Paging)</th>\n",
              "      <td>24</td>\n",
              "    </tr>\n",
              "    <tr>\n",
              "      <th>Radiodifusão (Rádio e TV)</th>\n",
              "      <td>2666</td>\n",
              "    </tr>\n",
              "    <tr>\n",
              "      <th>Rádio do Cidadão (PX)</th>\n",
              "      <td>853</td>\n",
              "    </tr>\n",
              "    <tr>\n",
              "      <th>Serviço Móvel Aeronáutico</th>\n",
              "      <td>69</td>\n",
              "    </tr>\n",
              "    <tr>\n",
              "      <th>Serviço Móvel Marítimo</th>\n",
              "      <td>20</td>\n",
              "    </tr>\n",
              "    <tr>\n",
              "      <th>Serviço Telefônico Fixo Comutado - STFC</th>\n",
              "      <td>41097</td>\n",
              "    </tr>\n",
              "    <tr>\n",
              "      <th>Serviço de Comunicação Multimídia</th>\n",
              "      <td>22644</td>\n",
              "    </tr>\n",
              "    <tr>\n",
              "      <th>Serviço de Rede e Transporte de Telecomunicações - SRTT</th>\n",
              "      <td>531</td>\n",
              "    </tr>\n",
              "    <tr>\n",
              "      <th>Serviços da Anatel</th>\n",
              "      <td>6223</td>\n",
              "    </tr>\n",
              "    <tr>\n",
              "      <th>TV por Assinatura</th>\n",
              "      <td>38648</td>\n",
              "    </tr>\n",
              "    <tr>\n",
              "      <th>Telefone Fixo</th>\n",
              "      <td>15518</td>\n",
              "    </tr>\n",
              "    <tr>\n",
              "      <th>Troncalizado (Trunking)</th>\n",
              "      <td>586</td>\n",
              "    </tr>\n",
              "  </tbody>\n",
              "</table>\n",
              "</div>"
            ],
            "text/plain": [
              "col_0                                               QtdeSolic\n",
              "Servico                                                      \n",
              "Banda Larga Fixa                                        12533\n",
              "Celular Pré-Pago                                        12410\n",
              "Celular Pós-Pago                                        23593\n",
              "Limitado Privado                                          463\n",
              "Móvel Pessoal                                           67732\n",
              "Outros                                                    908\n",
              "Radioamador (PY)                                          991\n",
              "Radiochamada (Paging)                                      24\n",
              "Radiodifusão (Rádio e TV)                                2666\n",
              "Rádio do Cidadão (PX)                                     853\n",
              "Serviço Móvel Aeronáutico                                  69\n",
              "Serviço Móvel Marítimo                                     20\n",
              "Serviço Telefônico Fixo Comutado - STFC                 41097\n",
              "Serviço de Comunicação Multimídia                       22644\n",
              "Serviço de Rede e Transporte de Telecomunicaçõe...        531\n",
              "Serviços da Anatel                                       6223\n",
              "TV por Assinatura                                       38648\n",
              "Telefone Fixo                                           15518\n",
              "Troncalizado (Trunking)                                   586"
            ]
          },
          "metadata": {
            "tags": []
          },
          "execution_count": 27
        }
      ]
    },
    {
      "cell_type": "markdown",
      "metadata": {
        "id": "M3gXPIXyUUUR",
        "colab_type": "text"
      },
      "source": [
        "16. Ao longo dos anos mostre o número de solicitações por mês?"
      ]
    },
    {
      "cell_type": "code",
      "metadata": {
        "id": "5poLLBUEUUUS",
        "colab_type": "code",
        "colab": {
          "base_uri": "https://localhost:8080/",
          "height": 450
        },
        "outputId": "bb68ffce-ba22-47bb-fa7d-caed7bb64b30"
      },
      "source": [
        "df[[\"Ano\" , \"QtdeSolic\", \"Mes\"]].groupby([\"QtdeSolic\", \"Mes\"]).mean()"
      ],
      "execution_count": 28,
      "outputs": [
        {
          "output_type": "execute_result",
          "data": {
            "text/html": [
              "<div>\n",
              "<style scoped>\n",
              "    .dataframe tbody tr th:only-of-type {\n",
              "        vertical-align: middle;\n",
              "    }\n",
              "\n",
              "    .dataframe tbody tr th {\n",
              "        vertical-align: top;\n",
              "    }\n",
              "\n",
              "    .dataframe thead th {\n",
              "        text-align: right;\n",
              "    }\n",
              "</style>\n",
              "<table border=\"1\" class=\"dataframe\">\n",
              "  <thead>\n",
              "    <tr style=\"text-align: right;\">\n",
              "      <th></th>\n",
              "      <th></th>\n",
              "      <th>Ano</th>\n",
              "    </tr>\n",
              "    <tr>\n",
              "      <th>QtdeSolic</th>\n",
              "      <th>Mes</th>\n",
              "      <th></th>\n",
              "    </tr>\n",
              "  </thead>\n",
              "  <tbody>\n",
              "    <tr>\n",
              "      <th rowspan=\"5\" valign=\"top\">1.0</th>\n",
              "      <th>1</th>\n",
              "      <td>2012.939213</td>\n",
              "    </tr>\n",
              "    <tr>\n",
              "      <th>2</th>\n",
              "      <td>2012.149531</td>\n",
              "    </tr>\n",
              "    <tr>\n",
              "      <th>3</th>\n",
              "      <td>2011.684620</td>\n",
              "    </tr>\n",
              "    <tr>\n",
              "      <th>4</th>\n",
              "      <td>2011.768080</td>\n",
              "    </tr>\n",
              "    <tr>\n",
              "      <th>5</th>\n",
              "      <td>2011.637534</td>\n",
              "    </tr>\n",
              "    <tr>\n",
              "      <th>...</th>\n",
              "      <th>...</th>\n",
              "      <td>...</td>\n",
              "    </tr>\n",
              "    <tr>\n",
              "      <th>2954.0</th>\n",
              "      <th>1</th>\n",
              "      <td>2014.000000</td>\n",
              "    </tr>\n",
              "    <tr>\n",
              "      <th>3000.0</th>\n",
              "      <th>7</th>\n",
              "      <td>2013.000000</td>\n",
              "    </tr>\n",
              "    <tr>\n",
              "      <th>3058.0</th>\n",
              "      <th>2</th>\n",
              "      <td>2014.000000</td>\n",
              "    </tr>\n",
              "    <tr>\n",
              "      <th>3238.0</th>\n",
              "      <th>11</th>\n",
              "      <td>2013.000000</td>\n",
              "    </tr>\n",
              "    <tr>\n",
              "      <th>4164.0</th>\n",
              "      <th>12</th>\n",
              "      <td>2013.000000</td>\n",
              "    </tr>\n",
              "  </tbody>\n",
              "</table>\n",
              "<p>3654 rows × 1 columns</p>\n",
              "</div>"
            ],
            "text/plain": [
              "                       Ano\n",
              "QtdeSolic Mes             \n",
              "1.0       1    2012.939213\n",
              "          2    2012.149531\n",
              "          3    2011.684620\n",
              "          4    2011.768080\n",
              "          5    2011.637534\n",
              "...                    ...\n",
              "2954.0    1    2014.000000\n",
              "3000.0    7    2013.000000\n",
              "3058.0    2    2014.000000\n",
              "3238.0    11   2013.000000\n",
              "4164.0    12   2013.000000\n",
              "\n",
              "[3654 rows x 1 columns]"
            ]
          },
          "metadata": {
            "tags": []
          },
          "execution_count": 28
        }
      ]
    },
    {
      "cell_type": "markdown",
      "metadata": {
        "id": "955GaMuhUUUX",
        "colab_type": "text"
      },
      "source": [
        "17. Crie o vetor **reclamacoes** com todos os dados que cuja coluna `Tipo` seja igual a \"Reclamação\"."
      ]
    },
    {
      "cell_type": "code",
      "metadata": {
        "id": "FLMFlfW9UUUZ",
        "colab_type": "code",
        "colab": {
          "base_uri": "https://localhost:8080/",
          "height": 932
        },
        "outputId": "1e8f7e9d-1b0a-4448-ca22-69781101f1ce"
      },
      "source": [
        "reclamacoes = df[df.Tipo == \"Reclamação\"]\n",
        "reclamacoes"
      ],
      "execution_count": 29,
      "outputs": [
        {
          "output_type": "execute_result",
          "data": {
            "text/html": [
              "<div>\n",
              "<style scoped>\n",
              "    .dataframe tbody tr th:only-of-type {\n",
              "        vertical-align: middle;\n",
              "    }\n",
              "\n",
              "    .dataframe tbody tr th {\n",
              "        vertical-align: top;\n",
              "    }\n",
              "\n",
              "    .dataframe thead th {\n",
              "        text-align: right;\n",
              "    }\n",
              "</style>\n",
              "<table border=\"1\" class=\"dataframe\">\n",
              "  <thead>\n",
              "    <tr style=\"text-align: right;\">\n",
              "      <th></th>\n",
              "      <th>DataExtracao</th>\n",
              "      <th>Ano</th>\n",
              "      <th>Mes</th>\n",
              "      <th>CanalEntrada</th>\n",
              "      <th>Condicao</th>\n",
              "      <th>GrupoEconNorm</th>\n",
              "      <th>Tipo</th>\n",
              "      <th>Servico</th>\n",
              "      <th>Modalidade</th>\n",
              "      <th>Motivo</th>\n",
              "      <th>UF</th>\n",
              "      <th>QtdeSolic</th>\n",
              "    </tr>\n",
              "  </thead>\n",
              "  <tbody>\n",
              "    <tr>\n",
              "      <th>2</th>\n",
              "      <td>2016-04-28</td>\n",
              "      <td>2006</td>\n",
              "      <td>1</td>\n",
              "      <td>Atendimento Pessoal</td>\n",
              "      <td>Nova</td>\n",
              "      <td>NET</td>\n",
              "      <td>Reclamação</td>\n",
              "      <td>Serviço Telefônico Fixo Comutado - STFC</td>\n",
              "      <td>Local</td>\n",
              "      <td>Cobrança</td>\n",
              "      <td>MG</td>\n",
              "      <td>1.0</td>\n",
              "    </tr>\n",
              "    <tr>\n",
              "      <th>3</th>\n",
              "      <td>2016-04-28</td>\n",
              "      <td>2006</td>\n",
              "      <td>1</td>\n",
              "      <td>Atendimento Pessoal</td>\n",
              "      <td>Nova</td>\n",
              "      <td>OI</td>\n",
              "      <td>Reclamação</td>\n",
              "      <td>Móvel Pessoal</td>\n",
              "      <td>Pós-Pago</td>\n",
              "      <td>Serviços Adicionais</td>\n",
              "      <td>MG</td>\n",
              "      <td>1.0</td>\n",
              "    </tr>\n",
              "    <tr>\n",
              "      <th>4</th>\n",
              "      <td>2016-04-28</td>\n",
              "      <td>2006</td>\n",
              "      <td>1</td>\n",
              "      <td>Atendimento Pessoal</td>\n",
              "      <td>Nova</td>\n",
              "      <td>Outros</td>\n",
              "      <td>Reclamação</td>\n",
              "      <td>Móvel Pessoal</td>\n",
              "      <td>Pós-Pago</td>\n",
              "      <td>Clonagem</td>\n",
              "      <td>MG</td>\n",
              "      <td>1.0</td>\n",
              "    </tr>\n",
              "    <tr>\n",
              "      <th>5</th>\n",
              "      <td>2016-04-28</td>\n",
              "      <td>2006</td>\n",
              "      <td>1</td>\n",
              "      <td>Atendimento Pessoal</td>\n",
              "      <td>Reaberta</td>\n",
              "      <td>NET</td>\n",
              "      <td>Reclamação</td>\n",
              "      <td>Serviço Telefônico Fixo Comutado - STFC</td>\n",
              "      <td>Local</td>\n",
              "      <td>Reparo</td>\n",
              "      <td>MG</td>\n",
              "      <td>1.0</td>\n",
              "    </tr>\n",
              "    <tr>\n",
              "      <th>6</th>\n",
              "      <td>2016-04-28</td>\n",
              "      <td>2006</td>\n",
              "      <td>1</td>\n",
              "      <td>Atendimento Pessoal</td>\n",
              "      <td>Reaberta</td>\n",
              "      <td>Outros</td>\n",
              "      <td>Reclamação</td>\n",
              "      <td>Serviço Telefônico Fixo Comutado - STFC</td>\n",
              "      <td>Local</td>\n",
              "      <td>Cancelamento</td>\n",
              "      <td>MG</td>\n",
              "      <td>1.0</td>\n",
              "    </tr>\n",
              "    <tr>\n",
              "      <th>...</th>\n",
              "      <td>...</td>\n",
              "      <td>...</td>\n",
              "      <td>...</td>\n",
              "      <td>...</td>\n",
              "      <td>...</td>\n",
              "      <td>...</td>\n",
              "      <td>...</td>\n",
              "      <td>...</td>\n",
              "      <td>...</td>\n",
              "      <td>...</td>\n",
              "      <td>...</td>\n",
              "      <td>...</td>\n",
              "    </tr>\n",
              "    <tr>\n",
              "      <th>247504</th>\n",
              "      <td>2017-01-08</td>\n",
              "      <td>2016</td>\n",
              "      <td>2</td>\n",
              "      <td>Call Center</td>\n",
              "      <td>Nova</td>\n",
              "      <td>OI</td>\n",
              "      <td>Reclamação</td>\n",
              "      <td>Telefone Fixo</td>\n",
              "      <td>Qualidade, Funcionamento e Reparo</td>\n",
              "      <td>Reparo recusado pela prestadora</td>\n",
              "      <td>MG</td>\n",
              "      <td>168.0</td>\n",
              "    </tr>\n",
              "    <tr>\n",
              "      <th>247505</th>\n",
              "      <td>2017-01-08</td>\n",
              "      <td>2016</td>\n",
              "      <td>2</td>\n",
              "      <td>Call Center</td>\n",
              "      <td>Nova</td>\n",
              "      <td>OI</td>\n",
              "      <td>Reclamação</td>\n",
              "      <td>Telefone Fixo</td>\n",
              "      <td>Ressarcimento</td>\n",
              "      <td>Não possibilidade de escolha da forma do ressa...</td>\n",
              "      <td>MG</td>\n",
              "      <td>1.0</td>\n",
              "    </tr>\n",
              "    <tr>\n",
              "      <th>247506</th>\n",
              "      <td>2017-01-08</td>\n",
              "      <td>2016</td>\n",
              "      <td>2</td>\n",
              "      <td>Call Center</td>\n",
              "      <td>Nova</td>\n",
              "      <td>OI</td>\n",
              "      <td>Reclamação</td>\n",
              "      <td>Telefone Fixo</td>\n",
              "      <td>Ressarcimento</td>\n",
              "      <td>Ressarcimento menor que o valor cobrado indevi...</td>\n",
              "      <td>MG</td>\n",
              "      <td>4.0</td>\n",
              "    </tr>\n",
              "    <tr>\n",
              "      <th>247507</th>\n",
              "      <td>2017-01-08</td>\n",
              "      <td>2016</td>\n",
              "      <td>2</td>\n",
              "      <td>Call Center</td>\n",
              "      <td>Nova</td>\n",
              "      <td>OI</td>\n",
              "      <td>Reclamação</td>\n",
              "      <td>TV por Assinatura</td>\n",
              "      <td>Atendimento</td>\n",
              "      <td>Consumidor não consegue falar com atendente</td>\n",
              "      <td>MG</td>\n",
              "      <td>7.0</td>\n",
              "    </tr>\n",
              "    <tr>\n",
              "      <th>247508</th>\n",
              "      <td>2017-01-08</td>\n",
              "      <td>2016</td>\n",
              "      <td>2</td>\n",
              "      <td>Call Center</td>\n",
              "      <td>Nova</td>\n",
              "      <td>OI</td>\n",
              "      <td>Reclamação</td>\n",
              "      <td>TV por Assinatura</td>\n",
              "      <td>Atendimento</td>\n",
              "      <td>Consumidor não recebe protocolo no contato com...</td>\n",
              "      <td>MG</td>\n",
              "      <td>2.0</td>\n",
              "    </tr>\n",
              "  </tbody>\n",
              "</table>\n",
              "<p>221847 rows × 12 columns</p>\n",
              "</div>"
            ],
            "text/plain": [
              "       DataExtracao   Ano  ...  UF QtdeSolic\n",
              "2        2016-04-28  2006  ...  MG       1.0\n",
              "3        2016-04-28  2006  ...  MG       1.0\n",
              "4        2016-04-28  2006  ...  MG       1.0\n",
              "5        2016-04-28  2006  ...  MG       1.0\n",
              "6        2016-04-28  2006  ...  MG       1.0\n",
              "...             ...   ...  ...  ..       ...\n",
              "247504   2017-01-08  2016  ...  MG     168.0\n",
              "247505   2017-01-08  2016  ...  MG       1.0\n",
              "247506   2017-01-08  2016  ...  MG       4.0\n",
              "247507   2017-01-08  2016  ...  MG       7.0\n",
              "247508   2017-01-08  2016  ...  MG       2.0\n",
              "\n",
              "[221847 rows x 12 columns]"
            ]
          },
          "metadata": {
            "tags": []
          },
          "execution_count": 29
        }
      ]
    },
    {
      "cell_type": "markdown",
      "metadata": {
        "id": "rqrBk89iUUUe",
        "colab_type": "text"
      },
      "source": [
        "18. Mostre o número total de solictiações `QtdeSolic` de reclamações para cada tipo de serviço `Servico`"
      ]
    },
    {
      "cell_type": "code",
      "metadata": {
        "id": "FuPRtuQqUUUf",
        "colab_type": "code",
        "colab": {
          "base_uri": "https://localhost:8080/",
          "height": 669
        },
        "outputId": "335605d6-f876-4e3f-94c3-5aeec747a09b"
      },
      "source": [
        "pd.crosstab(reclamacoes['Servico'], ['QtdeSolic'])"
      ],
      "execution_count": 30,
      "outputs": [
        {
          "output_type": "execute_result",
          "data": {
            "text/html": [
              "<div>\n",
              "<style scoped>\n",
              "    .dataframe tbody tr th:only-of-type {\n",
              "        vertical-align: middle;\n",
              "    }\n",
              "\n",
              "    .dataframe tbody tr th {\n",
              "        vertical-align: top;\n",
              "    }\n",
              "\n",
              "    .dataframe thead th {\n",
              "        text-align: right;\n",
              "    }\n",
              "</style>\n",
              "<table border=\"1\" class=\"dataframe\">\n",
              "  <thead>\n",
              "    <tr style=\"text-align: right;\">\n",
              "      <th>col_0</th>\n",
              "      <th>QtdeSolic</th>\n",
              "    </tr>\n",
              "    <tr>\n",
              "      <th>Servico</th>\n",
              "      <th></th>\n",
              "    </tr>\n",
              "  </thead>\n",
              "  <tbody>\n",
              "    <tr>\n",
              "      <th>Banda Larga Fixa</th>\n",
              "      <td>12533</td>\n",
              "    </tr>\n",
              "    <tr>\n",
              "      <th>Celular Pré-Pago</th>\n",
              "      <td>12410</td>\n",
              "    </tr>\n",
              "    <tr>\n",
              "      <th>Celular Pós-Pago</th>\n",
              "      <td>23593</td>\n",
              "    </tr>\n",
              "    <tr>\n",
              "      <th>Limitado Privado</th>\n",
              "      <td>67</td>\n",
              "    </tr>\n",
              "    <tr>\n",
              "      <th>Móvel Pessoal</th>\n",
              "      <td>60642</td>\n",
              "    </tr>\n",
              "    <tr>\n",
              "      <th>Outros</th>\n",
              "      <td>440</td>\n",
              "    </tr>\n",
              "    <tr>\n",
              "      <th>Radioamador (PY)</th>\n",
              "      <td>145</td>\n",
              "    </tr>\n",
              "    <tr>\n",
              "      <th>Radiochamada (Paging)</th>\n",
              "      <td>1</td>\n",
              "    </tr>\n",
              "    <tr>\n",
              "      <th>Radiodifusão (Rádio e TV)</th>\n",
              "      <td>126</td>\n",
              "    </tr>\n",
              "    <tr>\n",
              "      <th>Rádio do Cidadão (PX)</th>\n",
              "      <td>111</td>\n",
              "    </tr>\n",
              "    <tr>\n",
              "      <th>Serviço Móvel Aeronáutico</th>\n",
              "      <td>9</td>\n",
              "    </tr>\n",
              "    <tr>\n",
              "      <th>Serviço Móvel Marítimo</th>\n",
              "      <td>3</td>\n",
              "    </tr>\n",
              "    <tr>\n",
              "      <th>Serviço Telefônico Fixo Comutado - STFC</th>\n",
              "      <td>37245</td>\n",
              "    </tr>\n",
              "    <tr>\n",
              "      <th>Serviço de Comunicação Multimídia</th>\n",
              "      <td>18546</td>\n",
              "    </tr>\n",
              "    <tr>\n",
              "      <th>Serviço de Rede e Transporte de Telecomunicações - SRTT</th>\n",
              "      <td>458</td>\n",
              "    </tr>\n",
              "    <tr>\n",
              "      <th>Serviços da Anatel</th>\n",
              "      <td>2425</td>\n",
              "    </tr>\n",
              "    <tr>\n",
              "      <th>TV por Assinatura</th>\n",
              "      <td>37041</td>\n",
              "    </tr>\n",
              "    <tr>\n",
              "      <th>Telefone Fixo</th>\n",
              "      <td>15518</td>\n",
              "    </tr>\n",
              "    <tr>\n",
              "      <th>Troncalizado (Trunking)</th>\n",
              "      <td>534</td>\n",
              "    </tr>\n",
              "  </tbody>\n",
              "</table>\n",
              "</div>"
            ],
            "text/plain": [
              "col_0                                               QtdeSolic\n",
              "Servico                                                      \n",
              "Banda Larga Fixa                                        12533\n",
              "Celular Pré-Pago                                        12410\n",
              "Celular Pós-Pago                                        23593\n",
              "Limitado Privado                                           67\n",
              "Móvel Pessoal                                           60642\n",
              "Outros                                                    440\n",
              "Radioamador (PY)                                          145\n",
              "Radiochamada (Paging)                                       1\n",
              "Radiodifusão (Rádio e TV)                                 126\n",
              "Rádio do Cidadão (PX)                                     111\n",
              "Serviço Móvel Aeronáutico                                   9\n",
              "Serviço Móvel Marítimo                                      3\n",
              "Serviço Telefônico Fixo Comutado - STFC                 37245\n",
              "Serviço de Comunicação Multimídia                       18546\n",
              "Serviço de Rede e Transporte de Telecomunicaçõe...        458\n",
              "Serviços da Anatel                                       2425\n",
              "TV por Assinatura                                       37041\n",
              "Telefone Fixo                                           15518\n",
              "Troncalizado (Trunking)                                   534"
            ]
          },
          "metadata": {
            "tags": []
          },
          "execution_count": 30
        }
      ]
    },
    {
      "cell_type": "markdown",
      "metadata": {
        "id": "MkejpMuTUUUl",
        "colab_type": "text"
      },
      "source": [
        "19. Quais são os maiores ou maior motivo de solicitação de reclamações?"
      ]
    },
    {
      "cell_type": "code",
      "metadata": {
        "id": "Cx1kIv7zUUUm",
        "colab_type": "code",
        "colab": {
          "base_uri": "https://localhost:8080/",
          "height": 35
        },
        "outputId": "d22675fa-9811-4465-bba6-9713379361db"
      },
      "source": [
        "reclamacoes.Motivo.max()"
      ],
      "execution_count": 31,
      "outputs": [
        {
          "output_type": "execute_result",
          "data": {
            "application/vnd.google.colaboratory.intrinsic": {
              "type": "string"
            },
            "text/plain": [
              "'Área de Cobertura'"
            ]
          },
          "metadata": {
            "tags": []
          },
          "execution_count": 31
        }
      ]
    },
    {
      "cell_type": "markdown",
      "metadata": {
        "id": "mJ4DW5CqUUUr",
        "colab_type": "text"
      },
      "source": [
        "20. Faça um agrupamento de dados pela coluna `GrupoEconNorm`, mostrando um sumário estatístico da quantidade solicitações `QtdeSolic`."
      ]
    },
    {
      "cell_type": "code",
      "metadata": {
        "id": "MZl6mvVhUUUs",
        "colab_type": "code",
        "colab": {
          "base_uri": "https://localhost:8080/",
          "height": 545
        },
        "outputId": "f02666dd-4717-43b8-c894-f0b57097f91b"
      },
      "source": [
        "pd.crosstab(df['GrupoEconNorm'], ['QtdeSolic'])"
      ],
      "execution_count": 32,
      "outputs": [
        {
          "output_type": "execute_result",
          "data": {
            "text/html": [
              "<div>\n",
              "<style scoped>\n",
              "    .dataframe tbody tr th:only-of-type {\n",
              "        vertical-align: middle;\n",
              "    }\n",
              "\n",
              "    .dataframe tbody tr th {\n",
              "        vertical-align: top;\n",
              "    }\n",
              "\n",
              "    .dataframe thead th {\n",
              "        text-align: right;\n",
              "    }\n",
              "</style>\n",
              "<table border=\"1\" class=\"dataframe\">\n",
              "  <thead>\n",
              "    <tr style=\"text-align: right;\">\n",
              "      <th>col_0</th>\n",
              "      <th>QtdeSolic</th>\n",
              "    </tr>\n",
              "    <tr>\n",
              "      <th>GrupoEconNorm</th>\n",
              "      <th></th>\n",
              "    </tr>\n",
              "  </thead>\n",
              "  <tbody>\n",
              "    <tr>\n",
              "      <th>ALGAR</th>\n",
              "      <td>16459</td>\n",
              "    </tr>\n",
              "    <tr>\n",
              "      <th>Anatel</th>\n",
              "      <td>22833</td>\n",
              "    </tr>\n",
              "    <tr>\n",
              "      <th>BLUE</th>\n",
              "      <td>2781</td>\n",
              "    </tr>\n",
              "    <tr>\n",
              "      <th>CLARO</th>\n",
              "      <td>26806</td>\n",
              "    </tr>\n",
              "    <tr>\n",
              "      <th>EMBRATEL</th>\n",
              "      <td>1420</td>\n",
              "    </tr>\n",
              "    <tr>\n",
              "      <th>GVT</th>\n",
              "      <td>6398</td>\n",
              "    </tr>\n",
              "    <tr>\n",
              "      <th>Intelig</th>\n",
              "      <td>228</td>\n",
              "    </tr>\n",
              "    <tr>\n",
              "      <th>NET</th>\n",
              "      <td>23452</td>\n",
              "    </tr>\n",
              "    <tr>\n",
              "      <th>NEXTEL</th>\n",
              "      <td>1638</td>\n",
              "    </tr>\n",
              "    <tr>\n",
              "      <th>OI</th>\n",
              "      <td>64661</td>\n",
              "    </tr>\n",
              "    <tr>\n",
              "      <th>Outros</th>\n",
              "      <td>9673</td>\n",
              "    </tr>\n",
              "    <tr>\n",
              "      <th>SERCOMTEL</th>\n",
              "      <td>52</td>\n",
              "    </tr>\n",
              "    <tr>\n",
              "      <th>SKY</th>\n",
              "      <td>9804</td>\n",
              "    </tr>\n",
              "    <tr>\n",
              "      <th>TIM</th>\n",
              "      <td>28903</td>\n",
              "    </tr>\n",
              "    <tr>\n",
              "      <th>VIVO</th>\n",
              "      <td>32401</td>\n",
              "    </tr>\n",
              "  </tbody>\n",
              "</table>\n",
              "</div>"
            ],
            "text/plain": [
              "col_0          QtdeSolic\n",
              "GrupoEconNorm           \n",
              "ALGAR              16459\n",
              "Anatel             22833\n",
              "BLUE                2781\n",
              "CLARO              26806\n",
              "EMBRATEL            1420\n",
              "GVT                 6398\n",
              "Intelig              228\n",
              "NET                23452\n",
              "NEXTEL              1638\n",
              "OI                 64661\n",
              "Outros              9673\n",
              "SERCOMTEL             52\n",
              "SKY                 9804\n",
              "TIM                28903\n",
              "VIVO               32401"
            ]
          },
          "metadata": {
            "tags": []
          },
          "execution_count": 32
        }
      ]
    }
  ]
}